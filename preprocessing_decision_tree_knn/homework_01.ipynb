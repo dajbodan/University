{
 "cells": [
  {
   "cell_type": "markdown",
   "id": "39a4a2e3-9454-41b3-9765-c3575e7ddf22",
   "metadata": {},
   "source": [
    "# Úkol č. 1 - předzpracování dat a binární klasifikace\n",
    "\n",
    "* Termíny jsou uvedeny na [courses.fit.cvut.cz](https://courses.fit.cvut.cz/BI-ML1/homeworks/index.html).\n",
    "* Pokud odevzdáte úkol po prvním termínu ale před nejzašším termínem, budete penalizování -12 body, pozdější odevzdání je bez bodu.\n",
    "* V rámci tohoto úkolu se musíte vypořádat s klasifikační úlohou s příznaky různých typů.\n",
    "* Před tím, než na nich postavíte predikční model, je třeba je nějakým způsobem převést do číselné reprezentace.\n",
    "    \n",
    "> **Úkoly jsou zadány tak, aby Vám daly prostor pro invenci. Vymyslet _jak přesně_ budete úkol řešit, je důležitou součástí zadání a originalita či nápaditost bude také hodnocena!**\n",
    "\n",
    "Využívejte buňky typu `Markdown` k vysvětlování Vašeho postupu. Za nepřehlednost budeme strhávat body.\n",
    "\n",
    "## Zdroj dat\n",
    "\n",
    "Budeme se zabývat predikcí přežití pasažérů Titaniku.\n",
    "K dispozici máte trénovací data v souboru `data.csv` a data na vyhodnocení v souboru `evaluation.csv`.\n",
    "\n",
    "#### Seznam příznaků:\n",
    "* survived - zda pasažér přežil, 0 = Ne, 1 = Ano, **vysvětlovaná proměnná**, kterou chcete predikovat\n",
    "* pclass - Třída lodního lístku, 1 = první, 2 = druhá, 3 = třetí\n",
    "* name - jméno\n",
    "* sex - pohlaví\n",
    "* age - věk v letech\n",
    "* sibsp\t- počet sourozenců / manželů, manželek na palubě\n",
    "* parch - počet rodičů / dětí na palubě\n",
    "* ticket - číslo lodního lístku\n",
    "* fare - cena lodního lístku\n",
    "* cabin\t- číslo kajuty\n",
    "* embarked\t- místo nalodění, C = Cherbourg, Q = Queenstown, S = Southampton\n",
    "* home.dest - Bydliště/Cíl\n",
    "\n",
    "## Pokyny k vypracování\n",
    "\n",
    "**Body zadání**, za jejichž (poctivé) vypracování získáte **25 bodů**: \n",
    "  * V notebooku načtěte data ze souboru `data.csv`. Vhodným způsobem si je rozdělte na podmnožiny, které Vám poslouží pro trénování (trénovací), porovnávání modelů (validační) a následnou predikci výkonnosti finálního modelu (testovací).\n",
    "    \n",
    "  * Proveďte základní předzpracování dat:\n",
    "    * Projděte si jednotlivé příznaky a transformujte je do vhodné podoby pro použití ve vybraném klasifikačním modelu.\n",
    "    * Podle potřeby si můžete vytvářet nové příznaky (na základě existujících), například tedy můžete vytvořit příznak měřící délku jména atp.\n",
    "    * Některé příznaky můžete také úplně zahodit.\n",
    "    * Nějakým způsobem se vypořádejte s chybějícími hodnotami. _Pozor na metodické chyby!_\n",
    "    * Můžete využívat i vizualizace a vše stručně ale náležitě komentujte.\n",
    "\n",
    "  \n",
    "  * Na připravená data postupně aplikujte **rozhodovací strom** a **metodu nejbližších sousedů**, přičemž pro každý z těchto modelů:\n",
    "    * Okomentujte vhodnost daného modelu pro daný typ úlohy.\n",
    "    * Vyberte si hlavní hyperparametry k ladění a najděte jejich nejlepší hodnoty.\n",
    "    * Pro model s nejlepšími hodnotami hyperparametrů spočtěte F1 skóre, nakreslete ROC křivku a určete AUC. _Pozor na metodické chyby!_\n",
    "    * Získané výsledky vždy řádně okomentujte.\n",
    "\n",
    "        \n",
    "  * Ze všech zkoušených možností v předchozím kroku vyberte finální model a odhadněte, jakou přesnost můžete očekávat na nových datech, která jste doposud neměli k dispozici. _Pozor na metodické chyby!_\n",
    "    \n",
    "  * Nakonec načtěte vyhodnocovací data ze souboru`evaluation.csv`. Pomocí finálního modelu napočítejte predikce pro tyto data (vysvětlovaná proměnná v nich již není). Vytvořte soubor `results.csv`, ve kterém získané predikce uložíte do dvou sloupců: **ID**, **survived**. Tento soubor též odevzdejte (uložte do repozitáře vedle notebooku).\n",
    "\n",
    "  * Ukázka prvních řádků souboru `results.csv`:\n",
    "  \n",
    "```\n",
    "ID,survived\n",
    "1000,0\n",
    "1001,1\n",
    "...\n",
    "```\n",
    "\n",
    "## Poznámky k odevzdání\n",
    "\n",
    "  * Řiďte se pokyny ze stránky https://courses.fit.cvut.cz/BI-ML1/homeworks/index.html."
   ]
  },
  {
   "cell_type": "markdown",
   "id": "a0ffc155-96a0-4fdb-8b21-b5c52aee21b0",
   "metadata": {},
   "source": [
    "# Vypracování"
   ]
  },
  {
   "cell_type": "markdown",
   "id": "80b941e3-8574-4350-9fe4-96f9a97b8587",
   "metadata": {},
   "source": [
    "Načteme knihovny"
   ]
  },
  {
   "cell_type": "code",
   "execution_count": 1,
   "id": "003f7995-4bc0-42d8-a9ac-456638cdd708",
   "metadata": {
    "is_executing": true
   },
   "outputs": [],
   "source": [
    "import math\n",
    "import pandas as pd\n",
    "import numpy as np\n",
    "import matplotlib.pyplot as plt"
   ]
  },
  {
   "cell_type": "markdown",
   "id": "c6f9048d-6276-44a8-bacb-3aaed882575d",
   "metadata": {},
   "source": [
    "Načteme soubor data.csv do proměnné a podíváme se, jaké typy příznaky máme, abychom dle potřeby je převedly na takový typ, který modely dokážou přijat."
   ]
  },
  {
   "cell_type": "markdown",
   "id": "34b1f40f-d03a-49ec-931f-bc006ad42d04",
   "metadata": {},
   "source": [
    "## Předzpracování vstupního souboru"
   ]
  },
  {
   "cell_type": "markdown",
   "id": "86333138-061c-4bd1-b947-1e43918c94e7",
   "metadata": {},
   "source": [
    "Načteme data.csv do proměnné data a podíváme, jaké příznaky datové typy mají. Poslouží to k tomu, abychom věděli, jestli je potřeba něco upravovat."
   ]
  },
  {
   "cell_type": "code",
   "execution_count": 2,
   "id": "757fcb46",
   "metadata": {
    "collapsed": false,
    "jupyter": {
     "outputs_hidden": false
    }
   },
   "outputs": [
    {
     "data": {
      "text/plain": [
       "ID             int64\n",
       "survived       int64\n",
       "pclass         int64\n",
       "name          object\n",
       "sex           object\n",
       "age          float64\n",
       "sibsp          int64\n",
       "parch          int64\n",
       "ticket        object\n",
       "fare         float64\n",
       "cabin         object\n",
       "embarked      object\n",
       "home.dest     object\n",
       "dtype: object"
      ]
     },
     "metadata": {},
     "output_type": "display_data"
    }
   ],
   "source": [
    "data = pd.read_csv('data.csv') \n",
    "display(data.dtypes)"
   ]
  },
  {
   "cell_type": "markdown",
   "id": "1b68040d-0a17-4195-88b4-d1f3df8e2133",
   "metadata": {},
   "source": [
    "### Zpracování nedefinovaných hodnot"
   ]
  },
  {
   "cell_type": "markdown",
   "id": "6f8a8e64-a2bb-4609-8bc3-960817219f33",
   "metadata": {},
   "source": [
    "Podíváme se, jestli vůbec nedefinované hodnoty jsou ve vstupním souboru"
   ]
  },
  {
   "cell_type": "code",
   "execution_count": 3,
   "id": "707c10e5-baf2-4db2-a1fa-bcc1a75ad768",
   "metadata": {},
   "outputs": [
    {
     "data": {
      "text/plain": [
       "ID             0\n",
       "survived       0\n",
       "pclass         0\n",
       "name           0\n",
       "sex            0\n",
       "age          198\n",
       "sibsp          0\n",
       "parch          0\n",
       "ticket         0\n",
       "fare           1\n",
       "cabin        767\n",
       "embarked       2\n",
       "home.dest    434\n",
       "dtype: int64"
      ]
     },
     "metadata": {},
     "output_type": "display_data"
    }
   ],
   "source": [
    "display(data.isnull().sum())"
   ]
  },
  {
   "cell_type": "markdown",
   "id": "497706e5-e762-45fc-b00e-2f04bf8a93fa",
   "metadata": {},
   "source": [
    "Vidíme, že v příznacích age, fare, cabin, embarked, home.dest existují nedefinované hodnoty, které nahradíme -1."
   ]
  },
  {
   "cell_type": "code",
   "execution_count": 4,
   "id": "2a646b9e-840a-411a-b4f8-87bc4e4f237a",
   "metadata": {},
   "outputs": [],
   "source": [
    "data[[\"age\",  \"fare\", \"cabin\", \"embarked\", \"home.dest\"]] = data[[\"age\", \"fare\", \"cabin\", \"embarked\", \"home.dest\"]].replace(np.nan, -1)"
   ]
  },
  {
   "cell_type": "markdown",
   "id": "114b3ab2-455c-4b54-91db-a0e406fd3c8d",
   "metadata": {},
   "source": [
    "Podíváme se, jestli vše dobře dopadlo"
   ]
  },
  {
   "cell_type": "code",
   "execution_count": 5,
   "id": "208dc3a2-ec9f-47ed-a023-b742f9e74cc7",
   "metadata": {},
   "outputs": [
    {
     "data": {
      "text/plain": [
       "ID           0\n",
       "survived     0\n",
       "pclass       0\n",
       "name         0\n",
       "sex          0\n",
       "age          0\n",
       "sibsp        0\n",
       "parch        0\n",
       "ticket       0\n",
       "fare         0\n",
       "cabin        0\n",
       "embarked     0\n",
       "home.dest    0\n",
       "dtype: int64"
      ]
     },
     "metadata": {},
     "output_type": "display_data"
    }
   ],
   "source": [
    "display(data.isnull().sum())"
   ]
  },
  {
   "cell_type": "markdown",
   "id": "ecd5f535-3f58-43a9-81bb-23af3137fdc5",
   "metadata": {},
   "source": [
    "### Převedení \n",
    "Je na čase převést příznaky typů objekt na takové typy, které příjme model. Nejdříve z tabulky odstraníme příznaky, které sice mohou mít vliv na výsledný model, ale jejich vliv je malý. A to jsou name, cabin, ticket, home.dest. Tímto řešením se one-hot encoding snaz implementuje."
   ]
  },
  {
   "cell_type": "code",
   "execution_count": 6,
   "id": "f7a53b6d-61d0-476d-a466-76a09d15ab31",
   "metadata": {},
   "outputs": [],
   "source": [
    "data.drop(columns=[\"name\",\"cabin\",\"ticket\", \"home.dest\"], inplace=True)"
   ]
  },
  {
   "cell_type": "markdown",
   "id": "c0c98c8f-6c23-4cc3-b9f0-7b2bfe6f55a2",
   "metadata": {},
   "source": [
    "Na každý příznak typu object nejdříve uložíme do stringCol"
   ]
  },
  {
   "cell_type": "code",
   "execution_count": 7,
   "id": "deb87209-01d5-440f-9121-581a277ae6a1",
   "metadata": {},
   "outputs": [
    {
     "name": "stdout",
     "output_type": "stream",
     "text": [
      "<class 'pandas.core.frame.DataFrame'>\n",
      "RangeIndex: 1000 entries, 0 to 999\n",
      "Data columns (total 9 columns):\n",
      " #   Column    Non-Null Count  Dtype  \n",
      "---  ------    --------------  -----  \n",
      " 0   ID        1000 non-null   int64  \n",
      " 1   survived  1000 non-null   int64  \n",
      " 2   pclass    1000 non-null   int64  \n",
      " 3   sex       1000 non-null   object \n",
      " 4   age       1000 non-null   float64\n",
      " 5   sibsp     1000 non-null   int64  \n",
      " 6   parch     1000 non-null   int64  \n",
      " 7   fare      1000 non-null   float64\n",
      " 8   embarked  1000 non-null   object \n",
      "dtypes: float64(2), int64(5), object(2)\n",
      "memory usage: 70.4+ KB\n"
     ]
    },
    {
     "data": {
      "text/plain": [
       "None"
      ]
     },
     "metadata": {},
     "output_type": "display_data"
    },
    {
     "data": {
      "text/plain": [
       "Index(['sex', 'embarked'], dtype='object')"
      ]
     },
     "execution_count": 7,
     "metadata": {},
     "output_type": "execute_result"
    }
   ],
   "source": [
    "stringCol = data.select_dtypes(['object']).columns\n",
    "display(data.info())\n",
    "stringCol"
   ]
  },
  {
   "cell_type": "markdown",
   "id": "38ea7657-a084-4c25-83be-2a83945c3d3e",
   "metadata": {},
   "source": [
    "Převedeme tyto příznaky do typu kategorie, na které pak aplikujeme one-hot encoding. Na konci se podíváme, jestli se to povedlo."
   ]
  },
  {
   "cell_type": "code",
   "execution_count": 8,
   "id": "f7d58903-adef-4ac6-bd4f-6815c540fdf2",
   "metadata": {},
   "outputs": [
    {
     "name": "stdout",
     "output_type": "stream",
     "text": [
      "<class 'pandas.core.frame.DataFrame'>\n",
      "RangeIndex: 1000 entries, 0 to 999\n",
      "Data columns (total 9 columns):\n",
      " #   Column    Non-Null Count  Dtype  \n",
      "---  ------    --------------  -----  \n",
      " 0   ID        1000 non-null   int64  \n",
      " 1   survived  1000 non-null   int64  \n",
      " 2   pclass    1000 non-null   int64  \n",
      " 3   sex       1000 non-null   object \n",
      " 4   age       1000 non-null   float64\n",
      " 5   sibsp     1000 non-null   int64  \n",
      " 6   parch     1000 non-null   int64  \n",
      " 7   fare      1000 non-null   float64\n",
      " 8   embarked  1000 non-null   object \n",
      "dtypes: float64(2), int64(5), object(2)\n",
      "memory usage: 70.4+ KB\n",
      "<class 'pandas.core.frame.DataFrame'>\n",
      "RangeIndex: 1000 entries, 0 to 999\n",
      "Data columns (total 13 columns):\n",
      " #   Column       Non-Null Count  Dtype  \n",
      "---  ------       --------------  -----  \n",
      " 0   ID           1000 non-null   int64  \n",
      " 1   survived     1000 non-null   int64  \n",
      " 2   pclass       1000 non-null   int64  \n",
      " 3   age          1000 non-null   float64\n",
      " 4   sibsp        1000 non-null   int64  \n",
      " 5   parch        1000 non-null   int64  \n",
      " 6   fare         1000 non-null   float64\n",
      " 7   sex_female   1000 non-null   bool   \n",
      " 8   sex_male     1000 non-null   bool   \n",
      " 9   embarked_-1  1000 non-null   bool   \n",
      " 10  embarked_C   1000 non-null   bool   \n",
      " 11  embarked_Q   1000 non-null   bool   \n",
      " 12  embarked_S   1000 non-null   bool   \n",
      "dtypes: bool(6), float64(2), int64(5)\n",
      "memory usage: 60.7 KB\n"
     ]
    },
    {
     "data": {
      "text/plain": [
       "None"
      ]
     },
     "metadata": {},
     "output_type": "display_data"
    }
   ],
   "source": [
    "data.info()\n",
    "stringCol = data.select_dtypes(['object']).columns\n",
    "data[stringCol] = data[stringCol].astype('category')\n",
    "data = pd.get_dummies(data) \n",
    "display(data.info())"
   ]
  },
  {
   "cell_type": "markdown",
   "id": "536b5780-9c89-41e3-912d-6e847f626be8",
   "metadata": {},
   "source": [
    "### Rozdělení dat na trénovácí, validační a testovací množinu\n",
    "\n",
    "Nejdříve rozdělíme příznaky na vysvětlovanou proměnnou a skupinu příznaků, který se snaží vysvětlovanou proměnnou vysvětlit. V tomto případě je příznak survived vysvětlovaná proměnná a ostatní příznaky se ji budou snažit vysvětlit.\n",
    "Do Xdata přiřadíme všechny příznaky kromě příznaku Survived. Do Ydata přiřadíme příznak survived."
   ]
  },
  {
   "cell_type": "code",
   "execution_count": 9,
   "id": "eeeb67fd-56cc-4ccc-b115-b18cd49fdeaa",
   "metadata": {},
   "outputs": [
    {
     "data": {
      "text/html": [
       "<div>\n",
       "<style scoped>\n",
       "    .dataframe tbody tr th:only-of-type {\n",
       "        vertical-align: middle;\n",
       "    }\n",
       "\n",
       "    .dataframe tbody tr th {\n",
       "        vertical-align: top;\n",
       "    }\n",
       "\n",
       "    .dataframe thead th {\n",
       "        text-align: right;\n",
       "    }\n",
       "</style>\n",
       "<table border=\"1\" class=\"dataframe\">\n",
       "  <thead>\n",
       "    <tr style=\"text-align: right;\">\n",
       "      <th></th>\n",
       "      <th>ID</th>\n",
       "      <th>pclass</th>\n",
       "      <th>age</th>\n",
       "      <th>sibsp</th>\n",
       "      <th>parch</th>\n",
       "      <th>fare</th>\n",
       "      <th>sex_female</th>\n",
       "      <th>sex_male</th>\n",
       "      <th>embarked_-1</th>\n",
       "      <th>embarked_C</th>\n",
       "      <th>embarked_Q</th>\n",
       "      <th>embarked_S</th>\n",
       "    </tr>\n",
       "  </thead>\n",
       "  <tbody>\n",
       "    <tr>\n",
       "      <th>0</th>\n",
       "      <td>0</td>\n",
       "      <td>3</td>\n",
       "      <td>11.0</td>\n",
       "      <td>5</td>\n",
       "      <td>2</td>\n",
       "      <td>46.9000</td>\n",
       "      <td>False</td>\n",
       "      <td>True</td>\n",
       "      <td>False</td>\n",
       "      <td>False</td>\n",
       "      <td>False</td>\n",
       "      <td>True</td>\n",
       "    </tr>\n",
       "    <tr>\n",
       "      <th>1</th>\n",
       "      <td>1</td>\n",
       "      <td>3</td>\n",
       "      <td>-1.0</td>\n",
       "      <td>0</td>\n",
       "      <td>0</td>\n",
       "      <td>7.0500</td>\n",
       "      <td>False</td>\n",
       "      <td>True</td>\n",
       "      <td>False</td>\n",
       "      <td>False</td>\n",
       "      <td>False</td>\n",
       "      <td>True</td>\n",
       "    </tr>\n",
       "    <tr>\n",
       "      <th>2</th>\n",
       "      <td>2</td>\n",
       "      <td>3</td>\n",
       "      <td>4.0</td>\n",
       "      <td>3</td>\n",
       "      <td>2</td>\n",
       "      <td>27.9000</td>\n",
       "      <td>False</td>\n",
       "      <td>True</td>\n",
       "      <td>False</td>\n",
       "      <td>False</td>\n",
       "      <td>False</td>\n",
       "      <td>True</td>\n",
       "    </tr>\n",
       "    <tr>\n",
       "      <th>3</th>\n",
       "      <td>3</td>\n",
       "      <td>3</td>\n",
       "      <td>-1.0</td>\n",
       "      <td>1</td>\n",
       "      <td>0</td>\n",
       "      <td>15.5000</td>\n",
       "      <td>True</td>\n",
       "      <td>False</td>\n",
       "      <td>False</td>\n",
       "      <td>False</td>\n",
       "      <td>True</td>\n",
       "      <td>False</td>\n",
       "    </tr>\n",
       "    <tr>\n",
       "      <th>4</th>\n",
       "      <td>4</td>\n",
       "      <td>3</td>\n",
       "      <td>18.0</td>\n",
       "      <td>0</td>\n",
       "      <td>0</td>\n",
       "      <td>7.2292</td>\n",
       "      <td>True</td>\n",
       "      <td>False</td>\n",
       "      <td>False</td>\n",
       "      <td>True</td>\n",
       "      <td>False</td>\n",
       "      <td>False</td>\n",
       "    </tr>\n",
       "    <tr>\n",
       "      <th>...</th>\n",
       "      <td>...</td>\n",
       "      <td>...</td>\n",
       "      <td>...</td>\n",
       "      <td>...</td>\n",
       "      <td>...</td>\n",
       "      <td>...</td>\n",
       "      <td>...</td>\n",
       "      <td>...</td>\n",
       "      <td>...</td>\n",
       "      <td>...</td>\n",
       "      <td>...</td>\n",
       "      <td>...</td>\n",
       "    </tr>\n",
       "    <tr>\n",
       "      <th>995</th>\n",
       "      <td>995</td>\n",
       "      <td>2</td>\n",
       "      <td>52.0</td>\n",
       "      <td>0</td>\n",
       "      <td>0</td>\n",
       "      <td>13.0000</td>\n",
       "      <td>False</td>\n",
       "      <td>True</td>\n",
       "      <td>False</td>\n",
       "      <td>False</td>\n",
       "      <td>False</td>\n",
       "      <td>True</td>\n",
       "    </tr>\n",
       "    <tr>\n",
       "      <th>996</th>\n",
       "      <td>996</td>\n",
       "      <td>2</td>\n",
       "      <td>29.0</td>\n",
       "      <td>0</td>\n",
       "      <td>0</td>\n",
       "      <td>10.5000</td>\n",
       "      <td>False</td>\n",
       "      <td>True</td>\n",
       "      <td>False</td>\n",
       "      <td>False</td>\n",
       "      <td>False</td>\n",
       "      <td>True</td>\n",
       "    </tr>\n",
       "    <tr>\n",
       "      <th>997</th>\n",
       "      <td>997</td>\n",
       "      <td>1</td>\n",
       "      <td>56.0</td>\n",
       "      <td>0</td>\n",
       "      <td>0</td>\n",
       "      <td>26.5500</td>\n",
       "      <td>False</td>\n",
       "      <td>True</td>\n",
       "      <td>False</td>\n",
       "      <td>False</td>\n",
       "      <td>False</td>\n",
       "      <td>True</td>\n",
       "    </tr>\n",
       "    <tr>\n",
       "      <th>998</th>\n",
       "      <td>998</td>\n",
       "      <td>1</td>\n",
       "      <td>25.0</td>\n",
       "      <td>1</td>\n",
       "      <td>0</td>\n",
       "      <td>55.4417</td>\n",
       "      <td>False</td>\n",
       "      <td>True</td>\n",
       "      <td>False</td>\n",
       "      <td>True</td>\n",
       "      <td>False</td>\n",
       "      <td>False</td>\n",
       "    </tr>\n",
       "    <tr>\n",
       "      <th>999</th>\n",
       "      <td>999</td>\n",
       "      <td>3</td>\n",
       "      <td>-1.0</td>\n",
       "      <td>0</td>\n",
       "      <td>0</td>\n",
       "      <td>8.0500</td>\n",
       "      <td>True</td>\n",
       "      <td>False</td>\n",
       "      <td>False</td>\n",
       "      <td>False</td>\n",
       "      <td>False</td>\n",
       "      <td>True</td>\n",
       "    </tr>\n",
       "  </tbody>\n",
       "</table>\n",
       "<p>1000 rows × 12 columns</p>\n",
       "</div>"
      ],
      "text/plain": [
       "      ID  pclass   age  sibsp  parch     fare  sex_female  sex_male  \\\n",
       "0      0       3  11.0      5      2  46.9000       False      True   \n",
       "1      1       3  -1.0      0      0   7.0500       False      True   \n",
       "2      2       3   4.0      3      2  27.9000       False      True   \n",
       "3      3       3  -1.0      1      0  15.5000        True     False   \n",
       "4      4       3  18.0      0      0   7.2292        True     False   \n",
       "..   ...     ...   ...    ...    ...      ...         ...       ...   \n",
       "995  995       2  52.0      0      0  13.0000       False      True   \n",
       "996  996       2  29.0      0      0  10.5000       False      True   \n",
       "997  997       1  56.0      0      0  26.5500       False      True   \n",
       "998  998       1  25.0      1      0  55.4417       False      True   \n",
       "999  999       3  -1.0      0      0   8.0500        True     False   \n",
       "\n",
       "     embarked_-1  embarked_C  embarked_Q  embarked_S  \n",
       "0          False       False       False        True  \n",
       "1          False       False       False        True  \n",
       "2          False       False       False        True  \n",
       "3          False       False        True       False  \n",
       "4          False        True       False       False  \n",
       "..           ...         ...         ...         ...  \n",
       "995        False       False       False        True  \n",
       "996        False       False       False        True  \n",
       "997        False       False       False        True  \n",
       "998        False        True       False       False  \n",
       "999        False       False       False        True  \n",
       "\n",
       "[1000 rows x 12 columns]"
      ]
     },
     "metadata": {},
     "output_type": "display_data"
    },
    {
     "data": {
      "text/plain": [
       "0      0\n",
       "1      0\n",
       "2      0\n",
       "3      1\n",
       "4      1\n",
       "      ..\n",
       "995    0\n",
       "996    0\n",
       "997    0\n",
       "998    1\n",
       "999    0\n",
       "Name: survived, Length: 1000, dtype: int64"
      ]
     },
     "metadata": {},
     "output_type": "display_data"
    }
   ],
   "source": [
    "#Rozdělění dat na množiny\n",
    "Xdata = data.drop(\"survived\", axis = 1)\n",
    "Ydata = data.survived \n",
    "display(Xdata)\n",
    "display(Ydata)"
   ]
  },
  {
   "cell_type": "markdown",
   "id": "b2e3d5f1-c99f-473e-9dae-e7ac2518301b",
   "metadata": {},
   "source": [
    "V tomto kroku nastavíme seed a rozdělíme data nejdříve na 2 množiny. A to na trenovácí a zbytek, kde zbytek pak rozdělíme na validační a testovací."
   ]
  },
  {
   "cell_type": "code",
   "execution_count": 10,
   "id": "c9c3a8cb-4563-40ff-a851-1b1c62f08bba",
   "metadata": {},
   "outputs": [],
   "source": [
    "rd_seed = 333 # data jsou rozdělována náhodně, v rámci testování je ale dobré mít pevně daný random seed\n",
    "from sklearn.model_selection import train_test_split\n",
    "Xtrain, Xtest, ytrain, ytest = train_test_split(Xdata, Ydata, test_size=0.4, random_state=rd_seed) \n",
    "Xval, Xtest, yval, ytest = train_test_split(Xtest, ytest, test_size=0.5, random_state=rd_seed) "
   ]
  },
  {
   "cell_type": "markdown",
   "id": "bd22f03f-d3d9-4d83-ae92-362dcd668fbc",
   "metadata": {},
   "source": [
    "## Model"
   ]
  },
  {
   "cell_type": "markdown",
   "id": "f478aac5-ffff-4bcd-b7da-96437d7c05b3",
   "metadata": {},
   "source": [
    "### Rozhodovací strom"
   ]
  },
  {
   "cell_type": "markdown",
   "id": "1704c919-75b5-4848-99e0-3ebef02c2be7",
   "metadata": {},
   "source": [
    "Rozhodovací strom lze použít pro klasifikační úlohu. Má ale sklon k přeučení. Zejména u velkých stromů."
   ]
  },
  {
   "cell_type": "markdown",
   "id": "95e118b2-35c4-4f66-ab66-f6e2a16de5b8",
   "metadata": {},
   "source": [
    "Načteme potřebné knihovny pro práci s rozhodovacím stromem a s grafy."
   ]
  },
  {
   "cell_type": "code",
   "execution_count": 11,
   "id": "4b2463df-67ff-4cab-aeaa-ad997e156c32",
   "metadata": {},
   "outputs": [],
   "source": [
    "from sklearn.tree import DecisionTreeClassifier\n",
    "from sklearn.tree import plot_tree\n",
    "from sklearn.model_selection import ParameterGrid\n",
    "import sklearn.metrics as metrics\n",
    "import matplotlib\n",
    "import matplotlib.pyplot as plt"
   ]
  },
  {
   "cell_type": "markdown",
   "id": "aec85d6f-dfbf-43f5-91d6-2d70b0bc4781",
   "metadata": {},
   "source": [
    "Jako hyperparametr daného modelu je hloubka. Dále zvolíme interval od 1 do 101, který může hloubka nabývat. Do akumulátorů budeme zaznamenávat, na kolik je přesný model pro trénovací data a pro validační data, které dále použijeme."
   ]
  },
  {
   "cell_type": "code",
   "execution_count": 12,
   "id": "8fa86434-efeb-4402-98d8-d13790e9d89a",
   "metadata": {},
   "outputs": [],
   "source": [
    "val_acc = []\n",
    "train_acc = []\n",
    "accuracy_acc= []\n",
    "depths = range(1,101)\n",
    "for i in depths :\n",
    "    clf = DecisionTreeClassifier(max_depth=i)\n",
    "    clf.fit(Xtrain, ytrain)\n",
    "    train_acc.append(metrics.accuracy_score(ytrain, clf.predict(Xtrain)))\n",
    "    val_acc.append(metrics.accuracy_score(yval, clf.predict(Xval)))\n",
    "bestDecisionTreeIndex = val_acc.index(max(val_acc)) + 1"
   ]
  },
  {
   "cell_type": "markdown",
   "id": "758b4b91-be10-47ca-8bba-ee5627b37086",
   "metadata": {},
   "source": [
    "Na základě měření přesností v rámci trénovací a validační množiny vytvoříme graf. Vidíme, že z hlediska validační množiny je nejlepší zvolit hloubku kolem 6. Přesnější informaci najdeme v proměnné bestDecisionTreeIndex."
   ]
  },
  {
   "cell_type": "code",
   "execution_count": 13,
   "id": "4594abfd-9d94-4690-af6a-4e7694b84d1c",
   "metadata": {},
   "outputs": [
    {
     "data": {
      "text/plain": [
       "<matplotlib.legend.Legend at 0x17790e890>"
      ]
     },
     "execution_count": 13,
     "metadata": {},
     "output_type": "execute_result"
    },
    {
     "data": {
      "image/png": "[encoded data removed]",
      "text/plain": [
       "<Figure size 2000x600 with 1 Axes>"
      ]
     },
     "metadata": {},
     "output_type": "display_data"
    }
   ],
   "source": [
    "plt.figure(figsize=(20,6))\n",
    "plt.plot(depths, train_acc,'or-') #o: body, r: barva, -: spojení bodů linkou\n",
    "plt.plot(depths, val_acc,'ob-')\n",
    "plt.xlabel('max_depth')\n",
    "plt.ylabel('accuracy')\n",
    "plt.legend(['train', 'validation'])"
   ]
  },
  {
   "cell_type": "markdown",
   "id": "f55e5daf-0c9b-49d2-9990-c4e3c1072bd9",
   "metadata": {},
   "source": [
    "Nejlepší model znova natrénujeme a podíváme se, jak vypadá přesnost na validační množině, ROC křívka, AUC hodnota a F1 hodnota, které použijeme pro volbu mezi rozhodovacím stromem a KNN metodou."
   ]
  },
  {
   "cell_type": "code",
   "execution_count": 14,
   "id": "8a09d5b6-d50c-43ab-bf4c-6273df109abb",
   "metadata": {},
   "outputs": [
    {
     "name": "stdout",
     "output_type": "stream",
     "text": [
      "Accuracy score (validate): 0.820000\n"
     ]
    }
   ],
   "source": [
    "bestDecisionTree = DecisionTreeClassifier(max_depth=bestDecisionTreeIndex)\n",
    "bestDecisionTree.fit(Xtrain, ytrain)\n",
    "print('Accuracy score (validate): {0:.6f}'.format(metrics.accuracy_score(yval, bestDecisionTree.predict(Xval))))"
   ]
  },
  {
   "cell_type": "code",
   "execution_count": 15,
   "id": "33d6148a-d13e-4433-ba3b-3641a16d53ec",
   "metadata": {},
   "outputs": [
    {
     "data": {
      "image/png": "[encoded data removed]",
      "text/plain": [
       "<Figure size 640x480 with 1 Axes>"
      ]
     },
     "metadata": {},
     "output_type": "display_data"
    }
   ],
   "source": [
    "y_pred_proba = bestDecisionTree.predict_proba(Xval)\n",
    "fpr, tpr, thresholds = metrics.roc_curve(yval, y_pred_proba[:,1])\n",
    "\n",
    "AUC = metrics.auc(fpr, tpr)\n",
    "\n",
    "plt.figure()\n",
    "plt.plot([0, 1], [0, 1], color=\"navy\", lw=2, linestyle=\"--\")\n",
    "plt.plot(fpr, tpr, color=\"darkorange\", lw=2, label = f\"ROC křivka (AUC = {AUC:.3f})\")\n",
    "plt.xlim([0.0, 1.0])\n",
    "plt.ylim([0.0, 1.05])\n",
    "plt.xlabel(\"False Positive Rate\")\n",
    "plt.ylabel(\"True Positive Rate\")\n",
    "plt.title(\"ROC křivka\")\n",
    "plt.legend(loc=\"lower right\")\n",
    "plt.show()"
   ]
  },
  {
   "cell_type": "code",
   "execution_count": 16,
   "id": "ea6bc2cf-c965-45b2-aa9a-2c2a145a8493",
   "metadata": {},
   "outputs": [
    {
     "name": "stdout",
     "output_type": "stream",
     "text": [
      "F1 score (validate): 0.7831\n"
     ]
    }
   ],
   "source": [
    "print(f'F1 score (validate): {metrics.f1_score(yval, bestDecisionTree.predict(Xval)):.4f}')"
   ]
  },
  {
   "cell_type": "markdown",
   "id": "7d6a25a5-2be7-442b-99f7-0fe20a8226ff",
   "metadata": {},
   "source": [
    "### KNN metoda"
   ]
  },
  {
   "cell_type": "markdown",
   "id": "92f832b9-a21b-4fea-9327-f514d21d162b",
   "metadata": {},
   "source": [
    "KNN metodu lze použít pro klasifikační úlohu. Má ale potíže s kategoriálními daty, které jsme zakódovali nebo se jich zbavili. "
   ]
  },
  {
   "cell_type": "markdown",
   "id": "7b5e2ead-28b9-453c-8074-b2fd4016120b",
   "metadata": {},
   "source": [
    "Načteme potřebné knihovny"
   ]
  },
  {
   "cell_type": "code",
   "execution_count": 17,
   "id": "9bb55379-1045-4c30-8a94-6ef4f29e56fa",
   "metadata": {},
   "outputs": [],
   "source": [
    "from sklearn.preprocessing import MinMaxScaler"
   ]
  },
  {
   "cell_type": "markdown",
   "id": "3fb8220a-d7f1-4985-9830-3772f81e44dd",
   "metadata": {},
   "source": [
    "Provedeme normalizaci dat a to pomocí min-max normalizace "
   ]
  },
  {
   "cell_type": "code",
   "execution_count": 18,
   "id": "10e60587-4d79-4998-a860-994c3755b636",
   "metadata": {},
   "outputs": [],
   "source": [
    "scaler = MinMaxScaler()\n",
    "Xtrain_scaled = scaler.fit_transform(Xtrain)\n",
    "Xval_scaled = scaler.transform(Xval)"
   ]
  },
  {
   "cell_type": "code",
   "execution_count": 19,
   "id": "74a0342c-d9b8-48ae-b481-e2f5427fd42f",
   "metadata": {},
   "outputs": [],
   "source": [
    "from sklearn.neighbors import KNeighborsClassifier"
   ]
  },
  {
   "cell_type": "markdown",
   "id": "decd5264-ef10-4e85-b7ed-f83da5b1dda0",
   "metadata": {},
   "source": [
    "Jako hyperparametr pro KNN zvolíme počet sousedu, který se budou podílet na predikci"
   ]
  },
  {
   "cell_type": "code",
   "execution_count": 20,
   "id": "d8089ec5-2353-4b86-9a9d-9477bb12db07",
   "metadata": {},
   "outputs": [],
   "source": [
    "val_acc = []\n",
    "train_acc = []\n",
    "kneighbors = range(1, 101)\n",
    "\n",
    "for i in kneighbors :\n",
    "    clfKNN = KNeighborsClassifier(n_neighbors = i)\n",
    "    clfKNN.fit(Xtrain_scaled, ytrain)\n",
    "    val_acc.append(clfKNN.score(Xval_scaled, yval))\n",
    "    train_acc.append(clfKNN.score(Xtrain_scaled, ytrain))\n",
    "bestKNN = val_acc.index(max(val_acc)) + 1  "
   ]
  },
  {
   "cell_type": "markdown",
   "id": "74e7f14c-a31c-4e96-abbc-399060b24f7d",
   "metadata": {},
   "source": [
    "Podíváme se na to, jak se mění přesnost na základě zvoleného hyperparametru pro trénovací a validační množinu"
   ]
  },
  {
   "cell_type": "code",
   "execution_count": 21,
   "id": "9d1e9337-9f26-41e8-98db-94fcd2fb7907",
   "metadata": {},
   "outputs": [
    {
     "data": {
      "text/plain": [
       "<matplotlib.legend.Legend at 0x2900c0ed0>"
      ]
     },
     "execution_count": 21,
     "metadata": {},
     "output_type": "execute_result"
    },
    {
     "data": {
      "image/png": "[encoded data removed]",
      "text/plain": [
       "<Figure size 2000x600 with 1 Axes>"
      ]
     },
     "metadata": {},
     "output_type": "display_data"
    }
   ],
   "source": [
    "import matplotlib\n",
    "import matplotlib.pyplot as plt\n",
    "%matplotlib inline\n",
    "plt.figure(figsize=(20,6))\n",
    "plt.plot(kneighbors, train_acc,'or-') #o: body, r: barva, -: spojení bodů linkou\n",
    "plt.plot(kneighbors, val_acc,'ob-')\n",
    "plt.xlabel('max_depth')\n",
    "plt.ylabel('accuracy')\n",
    "plt.legend(['train', 'validation'])"
   ]
  },
  {
   "cell_type": "markdown",
   "id": "850777fa-306f-48a8-9f78-eab1cfad50b3",
   "metadata": {},
   "source": [
    "Nejlepší model znova natrenujeme a podívame se, jak vypadá přesnost na validační množině, ROC křívka, AUC hodnota a F1 hodnota, které použijeme pro volbu mezi rozhodvacím stromem a KNN metodou."
   ]
  },
  {
   "cell_type": "code",
   "execution_count": 22,
   "id": "78e25e23-3a57-4037-96ee-8bdbcff9cd77",
   "metadata": {},
   "outputs": [
    {
     "name": "stdout",
     "output_type": "stream",
     "text": [
      "Accuracy score (validate): 0.840000\n"
     ]
    }
   ],
   "source": [
    "clfKNNBest = KNeighborsClassifier(n_neighbors = bestKNN)\n",
    "clfKNNBest.fit(Xtrain_scaled, ytrain)\n",
    "print('Accuracy score (validate): {0:.6f}'.format(metrics.accuracy_score(yval, clfKNNBest.predict(Xval_scaled))))\n",
    "\n"
   ]
  },
  {
   "cell_type": "code",
   "execution_count": 23,
   "id": "fb58a6aa-9b7d-4609-82a1-15b54cf597e7",
   "metadata": {},
   "outputs": [
    {
     "data": {
      "image/png": "[encoded data removed]",
      "text/plain": [
       "<Figure size 640x480 with 1 Axes>"
      ]
     },
     "metadata": {},
     "output_type": "display_data"
    }
   ],
   "source": [
    "y_pred_proba = clfKNNBest.predict_proba(Xval_scaled)\n",
    "fpr, tpr, thresholds = metrics.roc_curve(yval, y_pred_proba[:,1])\n",
    "\n",
    "AUC = metrics.auc(fpr, tpr)\n",
    "\n",
    "plt.figure()\n",
    "plt.plot([0, 1], [0, 1], color=\"navy\", lw=2, linestyle=\"--\")\n",
    "plt.plot(fpr, tpr, color=\"darkorange\", lw=2, label = f\"ROC křivka (AUC = {AUC:.3f})\")\n",
    "plt.xlim([0.0, 1.0])\n",
    "plt.ylim([0.0, 1.05])\n",
    "plt.xlabel(\"False Positive Rate\")\n",
    "plt.ylabel(\"True Positive Rate\")\n",
    "plt.title(\"ROC křivka\")\n",
    "plt.legend(loc=\"lower right\")\n",
    "plt.show()"
   ]
  },
  {
   "cell_type": "code",
   "execution_count": 24,
   "id": "e6e0f4dc-3e80-4745-a6d5-f548c506ad30",
   "metadata": {},
   "outputs": [
    {
     "name": "stdout",
     "output_type": "stream",
     "text": [
      "F1 score (validate): 0.7647\n"
     ]
    }
   ],
   "source": [
    "print(f'F1 score (validate): {metrics.f1_score(yval, clfKNNBest.predict(Xval_scaled)):.4f}')"
   ]
  },
  {
   "cell_type": "markdown",
   "id": "8eae5cc0-02a2-4743-b1d8-884aaef97237",
   "metadata": {},
   "source": [
    "## Volba mezi rozhodovacím stromem a KNN metodou"
   ]
  },
  {
   "cell_type": "markdown",
   "id": "b527f068-13da-4cc7-b77d-f44183328275",
   "metadata": {},
   "source": [
    "Podíváme se, na kolik jsou trénovací a validační data vyvážena. V případě nevyváženosti bych volil na základě AUC. Příznak, který chceme predikovat, je zlehka nevyvážený."
   ]
  },
  {
   "cell_type": "code",
   "execution_count": 25,
   "id": "7be72637-ef4a-462d-89e7-0fdc978c4703",
   "metadata": {},
   "outputs": [
    {
     "data": {
      "text/plain": [
       "survived\n",
       "0    0.616667\n",
       "1    0.383333\n",
       "Name: proportion, dtype: float64"
      ]
     },
     "metadata": {},
     "output_type": "display_data"
    },
    {
     "data": {
      "text/plain": [
       "survived\n",
       "0    0.6\n",
       "1    0.4\n",
       "Name: proportion, dtype: float64"
      ]
     },
     "metadata": {},
     "output_type": "display_data"
    }
   ],
   "source": [
    "display(ytrain.value_counts(normalize=True))\n",
    "display(yval.value_counts(normalize=True))"
   ]
  },
  {
   "cell_type": "markdown",
   "id": "fbbce19a-fb30-4843-bae5-83ef1a044054",
   "metadata": {},
   "source": [
    "protože data jsou vícé méně vyvážená a F1 score je u derivačního patrně vyšší, vybereme rozhodovací strom."
   ]
  },
  {
   "cell_type": "markdown",
   "id": "a91d60fd-d184-42cd-a33d-638504e65c1f",
   "metadata": {},
   "source": [
    "## Predikce na testovacím datasetu"
   ]
  },
  {
   "cell_type": "markdown",
   "id": "b7d2ee63-d2be-4c9a-9c92-474ab5268a84",
   "metadata": {},
   "source": [
    "Spočítáme přesnost na validační množině, ROC křivku, AUC hodnotu a F1 hodnotu."
   ]
  },
  {
   "cell_type": "code",
   "execution_count": 26,
   "id": "214b0e5f-2386-4675-8ebe-a6b7c1c70cfa",
   "metadata": {},
   "outputs": [
    {
     "name": "stdout",
     "output_type": "stream",
     "text": [
      "predikce rozhodovacího stromu na testovacích datech + 0.75\n"
     ]
    }
   ],
   "source": [
    "print(f'predikce rozhodovacího stromu na testovacích datech + {metrics.accuracy_score(ytest, bestDecisionTree.predict(Xtest))}')"
   ]
  },
  {
   "cell_type": "code",
   "execution_count": 27,
   "id": "f5279151-c3b3-4319-81ef-7cc921079ed7",
   "metadata": {},
   "outputs": [
    {
     "data": {
      "image/png": "[encoded data removed]",
      "text/plain": [
       "<Figure size 640x480 with 1 Axes>"
      ]
     },
     "metadata": {},
     "output_type": "display_data"
    }
   ],
   "source": [
    "y_pred_proba = bestDecisionTree.predict_proba(Xtest)\n",
    "fpr, tpr, thresholds = metrics.roc_curve(ytest, y_pred_proba[:,1])\n",
    "\n",
    "AUC = metrics.auc(fpr, tpr)\n",
    "\n",
    "plt.figure()\n",
    "plt.plot([0, 1], [0, 1], color=\"navy\", lw=2, linestyle=\"--\")\n",
    "plt.plot(fpr, tpr, color=\"darkorange\", lw=2, label = f\"ROC křivka (AUC = {AUC:.3f})\")\n",
    "plt.xlim([0.0, 1.0])\n",
    "plt.ylim([0.0, 1.05])\n",
    "plt.xlabel(\"False Positive Rate\")\n",
    "plt.ylabel(\"True Positive Rate\")\n",
    "plt.title(\"ROC křivka\")\n",
    "plt.legend(loc=\"lower right\")\n",
    "plt.show()"
   ]
  },
  {
   "cell_type": "code",
   "execution_count": 28,
   "id": "b1ff32c9-017b-42b4-ac25-7052f58e5c98",
   "metadata": {},
   "outputs": [
    {
     "name": "stdout",
     "output_type": "stream",
     "text": [
      "F1 score (test): 0.7159\n"
     ]
    }
   ],
   "source": [
    "print(f'F1 score (test): {metrics.f1_score(ytest, bestDecisionTree.predict(Xtest)):.4f}')"
   ]
  },
  {
   "cell_type": "markdown",
   "id": "1ed4e046-7741-4dda-aa0b-2f4dbab8d79d",
   "metadata": {},
   "source": [
    "## Evaluace"
   ]
  },
  {
   "cell_type": "markdown",
   "id": "7da14890-c2be-4893-9897-c9ae96871ac9",
   "metadata": {},
   "source": [
    "### Předzpracování dat pro evaluation.csv"
   ]
  },
  {
   "cell_type": "markdown",
   "id": "c6c66012-5664-487f-a3bd-da36a60157c3",
   "metadata": {},
   "source": [
    "Načteme soubor evaluation.csv do proměnné dataEval a podíváme, jaké příznaky je potřeba upravit. Provedeme podobné operace s daty, jaké jsme provedli se souborem data.csv."
   ]
  },
  {
   "cell_type": "code",
   "execution_count": 29,
   "id": "a59be646-316e-4c06-b0b3-9d106921266c",
   "metadata": {},
   "outputs": [
    {
     "name": "stdout",
     "output_type": "stream",
     "text": [
      "<class 'pandas.core.frame.DataFrame'>\n",
      "RangeIndex: 309 entries, 0 to 308\n",
      "Data columns (total 12 columns):\n",
      " #   Column     Non-Null Count  Dtype  \n",
      "---  ------     --------------  -----  \n",
      " 0   ID         309 non-null    int64  \n",
      " 1   pclass     309 non-null    int64  \n",
      " 2   name       309 non-null    object \n",
      " 3   sex        309 non-null    object \n",
      " 4   age        244 non-null    float64\n",
      " 5   sibsp      309 non-null    int64  \n",
      " 6   parch      309 non-null    int64  \n",
      " 7   ticket     309 non-null    object \n",
      " 8   fare       309 non-null    float64\n",
      " 9   cabin      62 non-null     object \n",
      " 10  embarked   309 non-null    object \n",
      " 11  home.dest  179 non-null    object \n",
      "dtypes: float64(2), int64(4), object(6)\n",
      "memory usage: 29.1+ KB\n"
     ]
    },
    {
     "data": {
      "text/plain": [
       "None"
      ]
     },
     "metadata": {},
     "output_type": "display_data"
    }
   ],
   "source": [
    "dataEval = pd.read_csv('evaluation.csv')\n",
    "display(dataEval.info())"
   ]
  },
  {
   "cell_type": "markdown",
   "id": "bfdba251-8aa2-44c9-8865-290f9ff94f56",
   "metadata": {},
   "source": [
    "Podíváme se na to, kolik máme nevyplněných hodnot"
   ]
  },
  {
   "cell_type": "code",
   "execution_count": 30,
   "id": "d68e6d7a-4b1c-483d-b1ed-35f9e1ea3983",
   "metadata": {},
   "outputs": [
    {
     "data": {
      "text/plain": [
       "ID             0\n",
       "pclass         0\n",
       "name           0\n",
       "sex            0\n",
       "age           65\n",
       "sibsp          0\n",
       "parch          0\n",
       "ticket         0\n",
       "fare           0\n",
       "cabin        247\n",
       "embarked       0\n",
       "home.dest    130\n",
       "dtype: int64"
      ]
     },
     "metadata": {},
     "output_type": "display_data"
    }
   ],
   "source": [
    "display(dataEval.isnull().sum())"
   ]
  },
  {
   "cell_type": "markdown",
   "id": "b20f9841-461f-4773-990d-77857a4d5933",
   "metadata": {},
   "source": [
    "Co se týče příznaků, které obsahují nevyplněné hodnoty, namísto nevyplněné hodnoty doplníme -1."
   ]
  },
  {
   "cell_type": "code",
   "execution_count": 31,
   "id": "d96ef297-5f7d-44e1-9206-defc6a971a0c",
   "metadata": {},
   "outputs": [],
   "source": [
    "dataEval[[\"age\", \"cabin\", \"home.dest\"]] = dataEval[[\"age\", \"cabin\", \"home.dest\"]].replace(np.nan, -1)"
   ]
  },
  {
   "cell_type": "markdown",
   "id": "69441296-47d7-4f04-b93b-9adc0c9d02ce",
   "metadata": {},
   "source": [
    "Podíváme se, jestli vše je v pořádku."
   ]
  },
  {
   "cell_type": "code",
   "execution_count": 32,
   "id": "c333fbe6-cd57-41c0-8598-4cde9725cc03",
   "metadata": {},
   "outputs": [
    {
     "data": {
      "text/plain": [
       "ID           0\n",
       "pclass       0\n",
       "name         0\n",
       "sex          0\n",
       "age          0\n",
       "sibsp        0\n",
       "parch        0\n",
       "ticket       0\n",
       "fare         0\n",
       "cabin        0\n",
       "embarked     0\n",
       "home.dest    0\n",
       "dtype: int64"
      ]
     },
     "metadata": {},
     "output_type": "display_data"
    }
   ],
   "source": [
    "display(dataEval.isnull().sum())"
   ]
  },
  {
   "cell_type": "markdown",
   "id": "37c84a50-9a4e-4c2f-9f50-f1592f6c03be",
   "metadata": {},
   "source": [
    "Smažeme některé příznaky. Poté převedeme příznaky typu objekt na typ, který příjme model. Musíme ale doplnit embarked_-1, protože všechny hodnoty v příznaku embarked jsou vyplněné."
   ]
  },
  {
   "cell_type": "code",
   "execution_count": 33,
   "id": "079c61da-2664-418a-9c3d-3cffb8e9ab6c",
   "metadata": {},
   "outputs": [
    {
     "data": {
      "text/plain": [
       "Index(['sex', 'embarked'], dtype='object')"
      ]
     },
     "metadata": {},
     "output_type": "display_data"
    },
    {
     "name": "stdout",
     "output_type": "stream",
     "text": [
      "<class 'pandas.core.frame.DataFrame'>\n",
      "RangeIndex: 309 entries, 0 to 308\n",
      "Data columns (total 12 columns):\n",
      " #   Column       Non-Null Count  Dtype  \n",
      "---  ------       --------------  -----  \n",
      " 0   ID           309 non-null    int64  \n",
      " 1   pclass       309 non-null    int64  \n",
      " 2   age          309 non-null    float64\n",
      " 3   sibsp        309 non-null    int64  \n",
      " 4   parch        309 non-null    int64  \n",
      " 5   fare         309 non-null    float64\n",
      " 6   sex_female   309 non-null    bool   \n",
      " 7   sex_male     309 non-null    bool   \n",
      " 8   embarked_-1  309 non-null    int64  \n",
      " 9   embarked_C   309 non-null    bool   \n",
      " 10  embarked_Q   309 non-null    bool   \n",
      " 11  embarked_S   309 non-null    bool   \n",
      "dtypes: bool(5), float64(2), int64(5)\n",
      "memory usage: 18.5 KB\n"
     ]
    },
    {
     "data": {
      "text/plain": [
       "None"
      ]
     },
     "metadata": {},
     "output_type": "display_data"
    },
    {
     "name": "stdout",
     "output_type": "stream",
     "text": [
      "<class 'pandas.core.frame.DataFrame'>\n",
      "RangeIndex: 1000 entries, 0 to 999\n",
      "Data columns (total 13 columns):\n",
      " #   Column       Non-Null Count  Dtype  \n",
      "---  ------       --------------  -----  \n",
      " 0   ID           1000 non-null   int64  \n",
      " 1   survived     1000 non-null   int64  \n",
      " 2   pclass       1000 non-null   int64  \n",
      " 3   age          1000 non-null   float64\n",
      " 4   sibsp        1000 non-null   int64  \n",
      " 5   parch        1000 non-null   int64  \n",
      " 6   fare         1000 non-null   float64\n",
      " 7   sex_female   1000 non-null   bool   \n",
      " 8   sex_male     1000 non-null   bool   \n",
      " 9   embarked_-1  1000 non-null   bool   \n",
      " 10  embarked_C   1000 non-null   bool   \n",
      " 11  embarked_Q   1000 non-null   bool   \n",
      " 12  embarked_S   1000 non-null   bool   \n",
      "dtypes: bool(6), float64(2), int64(5)\n",
      "memory usage: 60.7 KB\n"
     ]
    },
    {
     "data": {
      "text/plain": [
       "None"
      ]
     },
     "metadata": {},
     "output_type": "display_data"
    }
   ],
   "source": [
    "dataEval.drop(columns=[\"name\",\"cabin\",\"ticket\", \"home.dest\"], inplace=True)\n",
    "stringCol = dataEval.select_dtypes(['object']).columns\n",
    "dataEval[stringCol] = dataEval[stringCol].astype('category')\n",
    "\n",
    "display(stringCol)\n",
    "dataEval = pd.get_dummies(dataEval) \n",
    "dataEval.insert(data.columns.get_loc(\"embarked_-1\") - 1,\"embarked_-1\", -1)\n",
    "display(dataEval.info())\n",
    "display(data.info())"
   ]
  },
  {
   "cell_type": "markdown",
   "id": "7597ca84-8129-4db0-a836-5b541919f7aa",
   "metadata": {},
   "source": [
    "### Spočítání predikce pro data ze souboru evaluation.csv a uložení výsledku do result.csv"
   ]
  },
  {
   "cell_type": "code",
   "execution_count": 34,
   "id": "1684d205-dd9c-4874-9a9d-17887a5bdf46",
   "metadata": {},
   "outputs": [
    {
     "data": {
      "text/html": [
       "<div>\n",
       "<style scoped>\n",
       "    .dataframe tbody tr th:only-of-type {\n",
       "        vertical-align: middle;\n",
       "    }\n",
       "\n",
       "    .dataframe tbody tr th {\n",
       "        vertical-align: top;\n",
       "    }\n",
       "\n",
       "    .dataframe thead th {\n",
       "        text-align: right;\n",
       "    }\n",
       "</style>\n",
       "<table border=\"1\" class=\"dataframe\">\n",
       "  <thead>\n",
       "    <tr style=\"text-align: right;\">\n",
       "      <th></th>\n",
       "      <th>ID</th>\n",
       "      <th>survived</th>\n",
       "    </tr>\n",
       "  </thead>\n",
       "  <tbody>\n",
       "    <tr>\n",
       "      <th>0</th>\n",
       "      <td>1000</td>\n",
       "      <td>0</td>\n",
       "    </tr>\n",
       "    <tr>\n",
       "      <th>1</th>\n",
       "      <td>1001</td>\n",
       "      <td>1</td>\n",
       "    </tr>\n",
       "    <tr>\n",
       "      <th>2</th>\n",
       "      <td>1002</td>\n",
       "      <td>1</td>\n",
       "    </tr>\n",
       "    <tr>\n",
       "      <th>3</th>\n",
       "      <td>1003</td>\n",
       "      <td>0</td>\n",
       "    </tr>\n",
       "    <tr>\n",
       "      <th>4</th>\n",
       "      <td>1004</td>\n",
       "      <td>1</td>\n",
       "    </tr>\n",
       "    <tr>\n",
       "      <th>...</th>\n",
       "      <td>...</td>\n",
       "      <td>...</td>\n",
       "    </tr>\n",
       "    <tr>\n",
       "      <th>304</th>\n",
       "      <td>1304</td>\n",
       "      <td>0</td>\n",
       "    </tr>\n",
       "    <tr>\n",
       "      <th>305</th>\n",
       "      <td>1305</td>\n",
       "      <td>0</td>\n",
       "    </tr>\n",
       "    <tr>\n",
       "      <th>306</th>\n",
       "      <td>1306</td>\n",
       "      <td>0</td>\n",
       "    </tr>\n",
       "    <tr>\n",
       "      <th>307</th>\n",
       "      <td>1307</td>\n",
       "      <td>1</td>\n",
       "    </tr>\n",
       "    <tr>\n",
       "      <th>308</th>\n",
       "      <td>1308</td>\n",
       "      <td>0</td>\n",
       "    </tr>\n",
       "  </tbody>\n",
       "</table>\n",
       "<p>309 rows × 2 columns</p>\n",
       "</div>"
      ],
      "text/plain": [
       "       ID  survived\n",
       "0    1000         0\n",
       "1    1001         1\n",
       "2    1002         1\n",
       "3    1003         0\n",
       "4    1004         1\n",
       "..    ...       ...\n",
       "304  1304         0\n",
       "305  1305         0\n",
       "306  1306         0\n",
       "307  1307         1\n",
       "308  1308         0\n",
       "\n",
       "[309 rows x 2 columns]"
      ]
     },
     "metadata": {},
     "output_type": "display_data"
    }
   ],
   "source": [
    "prediction = bestDecisionTree.predict(dataEval)\n",
    "res = pd.concat([pd.read_csv('evaluation.csv')[\"ID\"], pd.Series(prediction, name=\"survived\")], axis = 1)\n",
    "display(res)\n",
    "res.to_csv('result.csv', index=False)"
   ]
  }
 ],
 "metadata": {
  "kernelspec": {
   "display_name": "Python 3 (ipykernel)",
   "language": "python",
   "name": "python3"
  },
  "language_info": {
   "codemirror_mode": {
    "name": "ipython",
    "version": 3
   },
   "file_extension": ".py",
   "mimetype": "text/x-python",
   "name": "python",
   "nbconvert_exporter": "python",
   "pygments_lexer": "ipython3",
   "version": "3.11.6"
  }
 },
 "nbformat": 4,
 "nbformat_minor": 5
}
