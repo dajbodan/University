{
 "cells": [
  {
   "cell_type": "raw",
   "id": "2865219117b4a7e9",
   "metadata": {},
   "source": []
  },
  {
   "cell_type": "code",
   "execution_count": 43,
   "id": "f6c25e807848ba9d",
   "metadata": {
    "ExecuteTime": {
     "end_time": "2025-03-30T17:15:22.399028Z",
     "start_time": "2025-03-30T17:15:22.396851Z"
    }
   },
   "outputs": [],
   "source": [
    "import pandas as pd\n",
    "from collections import Counter\n",
    "from functools import reduce\n",
    "import math\n",
    "import numpy as np"
   ]
  },
  {
   "cell_type": "markdown",
   "id": "9da5b04428de5761",
   "metadata": {},
   "source": [
    "K=20,\n",
    "L=6 (Dajbov),\n",
    "X=1,\n",
    "Y=11.\n"
   ]
  },
  {
   "cell_type": "markdown",
   "id": "a71ae98e115f57da",
   "metadata": {},
   "source": [
    "## 1.Úloha : Z obou datových souborů načtěte texty k analýze. Pro každý text zvlášť odhadněte pravděpodobnosti znaků (symbolů včetně mezery), které se v textech vyskytují. Výsledné pravděpodobnosti graficky znázorněte."
   ]
  },
  {
   "cell_type": "markdown",
   "id": "a5ec87c9aecfcf4",
   "metadata": {},
   "source": [
    "Pravděpodobnosti budeme odhadovat tak, že spočítáme relativné četnosti každého znaků v textu."
   ]
  },
  {
   "cell_type": "markdown",
   "id": "2973ebc7d9f1257b",
   "metadata": {},
   "source": [
    "První souboru (001.txt)"
   ]
  },
  {
   "cell_type": "code",
   "execution_count": 118,
   "id": "5ff1b1d21bbf0fdc",
   "metadata": {
    "ExecuteTime": {
     "end_time": "2025-03-30T19:37:57.443315Z",
     "start_time": "2025-03-30T19:37:57.440644Z"
    }
   },
   "outputs": [],
   "source": [
    "with open('001.txt') as f:\n",
    "    prvni_soubor = f.read()"
   ]
  },
  {
   "cell_type": "markdown",
   "id": "994b70345860fcb5",
   "metadata": {},
   "source": [
    "Podíváme se na vstupní text a nevalidní znaky odfilrujeme"
   ]
  },
  {
   "cell_type": "code",
   "execution_count": 125,
   "id": "722cd2312d76a4ef",
   "metadata": {
    "ExecuteTime": {
     "end_time": "2025-03-30T19:39:17.982380Z",
     "start_time": "2025-03-30T19:39:17.978672Z"
    }
   },
   "outputs": [],
   "source": [
    "import string\n",
    "\n",
    "valid_chars = set(string.ascii_lowercase + ' ')\n",
    "filtered_text_first_file = [char for char in prvni_soubor if char in valid_chars]"
   ]
  },
  {
   "cell_type": "markdown",
   "id": "7b01dc380a9ed1ba",
   "metadata": {},
   "source": [
    "Podíváme se, jestli jsme něco odfiltorvali a jaký znaky máme ve vyfiltrovaném textu.\n"
   ]
  },
  {
   "cell_type": "code",
   "execution_count": 225,
   "id": "ec7a062b6b9db701",
   "metadata": {
    "ExecuteTime": {
     "end_time": "2025-03-30T20:31:56.709716Z",
     "start_time": "2025-03-30T20:31:56.706240Z"
    }
   },
   "outputs": [
    {
     "name": "stdout",
     "output_type": "stream",
     "text": [
      "amount of words in NOT filtered file: 6501\n",
      "amount of filtered words 6491\n"
     ]
    },
    {
     "data": {
      "text/plain": [
       "dict_keys(['i', 'e', 'r', 'o', 't', ' ', 'g', 'f', 'l', 'u', 'm', 'b', 'y', 'a', 'h', 'c', 'd', 'n', 'p', 's', 'w', 'v', 'k', 'q', 'j', 'x', 'z'])"
      ]
     },
     "execution_count": 225,
     "metadata": {},
     "output_type": "execute_result"
    }
   ],
   "source": [
    "all_words_first_file = sum(Counter(filtered_text_first_file).values())\n",
    "print(f\"amount of words in NOT filtered file: {len(prvni_soubor)}\")\n",
    "print(f\"amount of filtered words {all_words_first_file}\")\n",
    "Counter(filtered_text_first_file).keys()"
   ]
  },
  {
   "cell_type": "markdown",
   "id": "360f3acf3813550a",
   "metadata": {},
   "source": [
    "Spočítáme pro každý znak jeho relativní četnost v prvním souboru"
   ]
  },
  {
   "cell_type": "code",
   "execution_count": 196,
   "id": "e3a975c6f06ac746",
   "metadata": {
    "ExecuteTime": {
     "end_time": "2025-03-30T20:11:27.966500Z",
     "start_time": "2025-03-30T20:11:27.962276Z"
    }
   },
   "outputs": [
    {
     "data": {
      "text/plain": [
       "{' ': 0.18579571714681867,\n",
       " 'a': 0.06763210599291326,\n",
       " 'b': 0.014943768294561701,\n",
       " 'c': 0.015714065629332922,\n",
       " 'd': 0.04668001848713604,\n",
       " 'e': 0.102141426590664,\n",
       " 'f': 0.02126020643968572,\n",
       " 'g': 0.02203050377445694,\n",
       " 'h': 0.051918040363580345,\n",
       " 'i': 0.04606378061931906,\n",
       " 'j': 0.002310892004313665,\n",
       " 'k': 0.008011092281620705,\n",
       " 'l': 0.038668926205515326,\n",
       " 'm': 0.01694654136496688,\n",
       " 'n': 0.05469111076875674,\n",
       " 'o': 0.06193190571560622,\n",
       " 'p': 0.014019411492836234,\n",
       " 'q': 0.0009243568017254661,\n",
       " 'r': 0.054537051301802496,\n",
       " 's': 0.0448313048836851,\n",
       " 't': 0.06747804652595903,\n",
       " 'u': 0.024649514712679094,\n",
       " 'v': 0.00462178400862733,\n",
       " 'w': 0.018024957633646588,\n",
       " 'x': 0.00015405946695424435,\n",
       " 'y': 0.01309505469111077,\n",
       " 'z': 0.0009243568017254661}"
      ]
     },
     "execution_count": 196,
     "metadata": {},
     "output_type": "execute_result"
    }
   ],
   "source": [
    "def count_probabilities(filtered_text):\n",
    "    counts = Counter(filtered_text)\n",
    "    total = sum(counts.values())\n",
    "    res =  {\n",
    "        ch: counts.get(ch, 0) / total if total > 0 else 0.0\n",
    "        for ch in valid_chars\n",
    "    }\n",
    "    res = dict(sorted(res.items()))\n",
    "    return res\n",
    "probabilites_first_file = count_probabilities(filtered_text_first_file)\n",
    "probabilites_first_file"
   ]
  },
  {
   "cell_type": "code",
   "execution_count": 227,
   "id": "ae5d9447b7227783",
   "metadata": {
    "ExecuteTime": {
     "end_time": "2025-03-30T20:34:25.634016Z",
     "start_time": "2025-03-30T20:34:25.477554Z"
    }
   },
   "outputs": [
    {
     "data": {
      "image/png": "[encoded data removed]",
      "text/plain": [
       "<Figure size 1400x600 with 1 Axes>"
      ]
     },
     "metadata": {},
     "output_type": "display_data"
    }
   ],
   "source": [
    "import matplotlib.pyplot as plt\n",
    "\n",
    "sorted_probs1 = dict(sorted(probabilites_first_file.items(), key=lambda item: item[1], reverse=True))\n",
    "\n",
    "plt.figure(figsize=(14, 6))\n",
    "plt.bar(sorted_probs1.keys(), sorted_probs1.values())\n",
    "plt.title('Pravděpodobnosti znaků v souboru 001.txt')\n",
    "plt.xlabel('Znak')\n",
    "plt.ylabel('Pravděpodobnost')\n",
    "plt.show()\n"
   ]
  },
  {
   "cell_type": "markdown",
   "id": "c2fa1cb48ce76a7b",
   "metadata": {},
   "source": [
    "Druhý soubor (011.txt): S tímto souborem provedeme stejné operace jako v případě předchozího souboru (001.txt)."
   ]
  },
  {
   "cell_type": "code",
   "execution_count": 198,
   "id": "322eba22528c7041",
   "metadata": {
    "ExecuteTime": {
     "end_time": "2025-03-30T20:11:41.872842Z",
     "start_time": "2025-03-30T20:11:41.866236Z"
    }
   },
   "outputs": [
    {
     "name": "stdout",
     "output_type": "stream",
     "text": [
      "amount of words in NOT filtered file: 6193\n",
      "amount of filtered words 6180\n"
     ]
    }
   ],
   "source": [
    "with open('011.txt') as f_2:\n",
    "    druhy_soubor = f_2.read()\n",
    "filtered_text_second_file = [char for char in druhy_soubor if char in valid_chars]\n",
    "all_words_second_file = sum(Counter(filtered_text_second_file).values())\n",
    "print(f\"amount of words in NOT filtered file: {len(druhy_soubor)}\")\n",
    "print(f\"amount of filtered words {all_words_second_file}\")"
   ]
  },
  {
   "cell_type": "code",
   "execution_count": 199,
   "id": "5570f452e93cb675",
   "metadata": {
    "ExecuteTime": {
     "end_time": "2025-03-30T20:11:43.264768Z",
     "start_time": "2025-03-30T20:11:43.260491Z"
    }
   },
   "outputs": [
    {
     "data": {
      "text/plain": [
       "{' ': 0.20533980582524272,\n",
       " 'a': 0.05889967637540453,\n",
       " 'b': 0.012944983818770227,\n",
       " 'c': 0.015048543689320388,\n",
       " 'd': 0.039158576051779935,\n",
       " 'e': 0.0889967637540453,\n",
       " 'f': 0.01650485436893204,\n",
       " 'g': 0.013915857605177993,\n",
       " 'h': 0.05275080906148867,\n",
       " 'i': 0.04886731391585761,\n",
       " 'j': 0.001941747572815534,\n",
       " 'k': 0.010194174757281554,\n",
       " 'l': 0.03203883495145631,\n",
       " 'm': 0.025080906148867314,\n",
       " 'n': 0.05145631067961165,\n",
       " 'o': 0.07168284789644012,\n",
       " 'p': 0.013268608414239482,\n",
       " 'q': 0.0004854368932038835,\n",
       " 'r': 0.04255663430420712,\n",
       " 's': 0.048705501618122975,\n",
       " 't': 0.07686084142394822,\n",
       " 'u': 0.02540453074433657,\n",
       " 'v': 0.0069579288025889965,\n",
       " 'w': 0.019579288025889968,\n",
       " 'x': 0.0008090614886731392,\n",
       " 'y': 0.020388349514563107,\n",
       " 'z': 0.00016181229773462783}"
      ]
     },
     "execution_count": 199,
     "metadata": {},
     "output_type": "execute_result"
    }
   ],
   "source": [
    "probabilites_second_file = count_probabilities(filtered_text_second_file)\n",
    "probabilites_second_file"
   ]
  },
  {
   "cell_type": "code",
   "execution_count": 226,
   "id": "3fd6155622035c5b",
   "metadata": {
    "ExecuteTime": {
     "end_time": "2025-03-30T20:34:20.228417Z",
     "start_time": "2025-03-30T20:34:20.116502Z"
    }
   },
   "outputs": [
    {
     "data": {
      "image/png": "[encoded data removed]",
      "text/plain": [
       "<Figure size 1400x600 with 1 Axes>"
      ]
     },
     "metadata": {},
     "output_type": "display_data"
    }
   ],
   "source": [
    "sorted_probs2 = dict(sorted(probabilites_second_file.items(), key=lambda item: item[1], reverse=True))\n",
    "\n",
    "plt.figure(figsize=(14, 6))\n",
    "plt.bar(sorted_probs2.keys(), sorted_probs2.values())\n",
    "plt.title('Pravděpodobnosti znaků v souboru 001.txt')\n",
    "plt.xlabel('Znak')\n",
    "plt.ylabel('Pravděpodobnost')\n",
    "plt.show()"
   ]
  },
  {
   "cell_type": "markdown",
   "id": "fd7db21f7a24d76a",
   "metadata": {},
   "source": [
    "## 2.Úloha :  Pro každý text zvlášť spočtěte entropii odhadnutého rozdělení znaků."
   ]
  },
  {
   "cell_type": "markdown",
   "id": "b0d1b774d0479ed6",
   "metadata": {},
   "source": [
    "Spočítáme entropii odhadnutého rozdělení znaků pro první text"
   ]
  },
  {
   "cell_type": "code",
   "execution_count": 228,
   "id": "87db05b1870da276",
   "metadata": {
    "ExecuteTime": {
     "end_time": "2025-03-30T20:34:51.120240Z",
     "start_time": "2025-03-30T20:34:51.116899Z"
    }
   },
   "outputs": [],
   "source": [
    "def calc_entropy(text, all_words, probabilites):\n",
    "    return -sum(p * math.log2(p) for p in probabilites.values() if p > 0)"
   ]
  },
  {
   "cell_type": "code",
   "execution_count": 229,
   "id": "ed213bc527aabed2",
   "metadata": {
    "ExecuteTime": {
     "end_time": "2025-03-30T20:34:51.522970Z",
     "start_time": "2025-03-30T20:34:51.520738Z"
    }
   },
   "outputs": [
    {
     "name": "stdout",
     "output_type": "stream",
     "text": [
      "entropie prvniho souboru : 4.094726820189831\n"
     ]
    }
   ],
   "source": [
    "print(f\"entropie prvniho souboru : {calc_entropy(filtered_text_first_file, all_words_first_file, probabilites_first_file)}\")"
   ]
  },
  {
   "cell_type": "markdown",
   "id": "5b18b6f67d910833",
   "metadata": {},
   "source": [
    "Spočítáme entropii odhadnutého rozdělení znaků pro druhý text\n"
   ]
  },
  {
   "cell_type": "code",
   "execution_count": 212,
   "id": "2787f389d072ad8e",
   "metadata": {
    "ExecuteTime": {
     "end_time": "2025-03-30T20:15:43.895926Z",
     "start_time": "2025-03-30T20:15:43.892574Z"
    }
   },
   "outputs": [
    {
     "name": "stdout",
     "output_type": "stream",
     "text": [
      "entropie druhého souboru : 4.065189735893128\n"
     ]
    }
   ],
   "source": [
    "print(f\"entropie druhého souboru : {calc_entropy(filtered_text_second_file, all_words_second_file, probabilites_second_file)}\")"
   ]
  },
  {
   "cell_type": "markdown",
   "id": "859d02cbbe67aa3e",
   "metadata": {},
   "source": [
    "## 3. Úloha : Nalezněte optimální binární instantní kód C pro kódování znaků prvního z textů. Řádně vysvětlete, proč je vámi nalezený kód optimální!"
   ]
  },
  {
   "cell_type": "markdown",
   "id": "13e3735dc6df2787",
   "metadata": {},
   "source": [
    "K nalezení optimálního binárního instatního kódu použijeme Huffmanův kód. Při odhadnutých pravděpodobnostech použitých výše se jedná o optimální kód, protože platí následující věta z přednášky ($\\textbf{ Věta 6.17.} \\textit{ Huffmanův kód je optimální.} $ Tj. je-li $C^*$ Huffmanův kód a $C'$ libovolný jednoznačně dekódovatelný kód, potom $L(C^*) \\leq L(C')$.).\\\n",
    " A platí, že instantní kód je i jednoznačně dekódovatelný, a tedy dostáváme, že Huffmanův kód je optimální pro instantní kódy. Tady pro úplnost dodejme, že máme binární abecedu, a tedy pokud budeme Huffmanovo kodování v binární abecedě, dostaneme optimální kód.\\\n",
    "  Samotná konstrukce Huffmanovo kodování proběhne tak, jak je popsáno v přednášce.\n"
   ]
  },
  {
   "cell_type": "code",
   "execution_count": 202,
   "id": "e7607ca5330c29a7",
   "metadata": {
    "ExecuteTime": {
     "end_time": "2025-03-30T20:11:46.417421Z",
     "start_time": "2025-03-30T20:11:46.412911Z"
    }
   },
   "outputs": [],
   "source": [
    "import heapq\n",
    "from collections import namedtuple\n",
    "\n",
    "class Node(namedtuple(\"Node\", [\"left\", \"right\"])):\n",
    "    def walk(self, code, acc):\n",
    "        self.left.walk(code, acc + \"0\")\n",
    "        self.right.walk(code, acc + \"1\")\n",
    "\n",
    "class Leaf(namedtuple(\"Leaf\", [\"char\"])):\n",
    "    def walk(self, code, acc):\n",
    "        code[self.char] = acc or \"0\"  # fallback if only one symbol\n",
    "\n",
    "def huffman_code_from_probs(probabilities):\n",
    "    heap = []\n",
    "\n",
    "    for char, prob in probabilities.items():\n",
    "        heap.append((prob, len(heap), Leaf(char)))  # (probability, tie-breaker, node)\n",
    "\n",
    "    heapq.heapify(heap)\n",
    "    count = len(heap)\n",
    "\n",
    "    while len(heap) > 1:\n",
    "        p1, _c1, left = heapq.heappop(heap)\n",
    "        p2, _c2, right = heapq.heappop(heap)\n",
    "        heapq.heappush(heap, (p1 + p2, count, Node(left, right)))\n",
    "        count += 1\n",
    "\n",
    "    code = {}\n",
    "    if heap:\n",
    "        [_p, _c, root] = heap[0]\n",
    "        root.walk(code, \"\")\n",
    "    return code\n"
   ]
  },
  {
   "cell_type": "code",
   "execution_count": 234,
   "id": "60b0a51dc9b3244c",
   "metadata": {
    "ExecuteTime": {
     "end_time": "2025-03-30T20:46:34.764964Z",
     "start_time": "2025-03-30T20:46:34.762679Z"
    }
   },
   "outputs": [],
   "source": [
    "huffman_code_first_file = huffman_code_from_probs(probabilites_first_file)"
   ]
  },
  {
   "cell_type": "markdown",
   "id": "c4df62d04b461000",
   "metadata": {},
   "source": [
    "Podíváme se, jak proběhlo kodování"
   ]
  },
  {
   "cell_type": "code",
   "execution_count": 235,
   "id": "d413183d5ca31fa6",
   "metadata": {
    "ExecuteTime": {
     "end_time": "2025-03-30T20:46:35.581919Z",
     "start_time": "2025-03-30T20:46:35.578377Z"
    }
   },
   "outputs": [
    {
     "name": "stdout",
     "output_type": "stream",
     "text": [
      "char: i, code : 0000\n",
      "char: g, code : 00010\n",
      "char: u, code : 00011\n",
      "char: d, code : 0010\n",
      "char: h, code : 0011\n",
      "char: e, code : 010\n",
      "char: r, code : 0110\n",
      "char: n, code : 0111\n",
      "char: y, code : 100000\n",
      "char: p, code : 100001\n",
      "char: b, code : 100010\n",
      "char: c, code : 100011\n",
      "char: o, code : 1001\n",
      "char: t, code : 1010\n",
      "char: a, code : 1011\n",
      "char: m, code : 110000\n",
      "char: k, code : 1100010\n",
      "char: z, code : 1100011000\n",
      "char: x, code : 11000110010\n",
      "char: q, code : 11000110011\n",
      "char: j, code : 110001101\n",
      "char: v, code : 11000111\n",
      "char: l, code : 11001\n",
      "char: w, code : 110100\n",
      "char: f, code : 110101\n",
      "char: s, code : 11011\n",
      "char:  , code : 111\n"
     ]
    }
   ],
   "source": [
    "for char, code in huffman_code_first_file.items():\n",
    "    print(f\"char: {char}, code : {code}\")\n"
   ]
  },
  {
   "cell_type": "markdown",
   "id": "61633b82bdf104b1",
   "metadata": {},
   "source": [
    "## 4. Úloha : Pro každý text zvlášť spočtěte střední délku kódu $C$  a porovnejte ji s entropií rozdělení znaků. Je kód $C$ optimální i pro druhý text? Řádně zdůvodněte!"
   ]
  },
  {
   "cell_type": "markdown",
   "id": "191d3503193fa47a",
   "metadata": {},
   "source": [
    "Huffmanův kód $C$, který je optimální pro první text, nemusí být nutně optimální i pro jiný text, protože rozdělení $p_1(x)$ pro první text se může lišit od toho druhého $p_2(x)$. V našem případě my odhadujeme pravděpodobnosti každého znaku pomocí relativní četnosti každého znaku. A pokud nejsou dva texty identické, dostaneme rozdělení, které se liší pro nějaký znak $b \\in \\mathcal{X}$, $\\mathcal{X}$ je anglická abeceda spolu s mezerou. V prvním textu má znak $b$ jednu relativní četnost a v druhém textu jinou relativní četnost. My jsme ale pro znak $b$ v rámci Huffmanovo kodování se při přizaní kodového slova opírali o jednu odhadnutou pravděpodnost, ale ve druhém textu je jiná. Pro pravděpobodnější znaky dostávájí znaky kratší kodová slova a pro měné pravděpodobné délší kodová slova. A proto kód $C$ není pro druhý text optimální."
   ]
  },
  {
   "cell_type": "markdown",
   "id": "eace9c02de5836df",
   "metadata": {},
   "source": [
    "Podíváme se na rozdělení prvního a druhého souboru. Pokud jsou stejný, pak i kód $C$ je i optimální i pro druhý text"
   ]
  },
  {
   "cell_type": "code",
   "execution_count": 208,
   "id": "b5b3405e5ed15b78",
   "metadata": {
    "ExecuteTime": {
     "end_time": "2025-03-30T20:11:50.685461Z",
     "start_time": "2025-03-30T20:11:50.680805Z"
    }
   },
   "outputs": [
    {
     "data": {
      "text/plain": [
       "[0.019544088678424054,\n",
       " 0.008732429617508732,\n",
       " 0.001998784475791474,\n",
       " 0.0006655219400125336,\n",
       " 0.007521442435356102,\n",
       " 0.013144662836618692,\n",
       " 0.004755352070753678,\n",
       " 0.008114646169278946,\n",
       " 0.000832768697908326,\n",
       " 0.0028035332965385476,\n",
       " 0.00036914443149813113,\n",
       " 0.0021830824756608486,\n",
       " 0.0066300912540590146,\n",
       " 0.008134364783900436,\n",
       " 0.00323480008914509,\n",
       " 0.009750942180833902,\n",
       " 0.0007508030785967519,\n",
       " 0.0004389199085215826,\n",
       " 0.011980416997595375,\n",
       " 0.003874196734437875,\n",
       " 0.009382794897989197,\n",
       " 0.000755016031657476,\n",
       " 0.0023361447939616664,\n",
       " 0.0015543303922433797,\n",
       " 0.0006550020217188948,\n",
       " 0.007293294823452338,\n",
       " 0.0007625445039908382]"
      ]
     },
     "execution_count": 208,
     "metadata": {},
     "output_type": "execute_result"
    }
   ],
   "source": [
    "differences = [\n",
    "    abs(a - b) for a, b in zip(\n",
    "        list(probabilites_first_file.values()),\n",
    "        list(probabilites_second_file.values())\n",
    "    )\n",
    "]\n",
    "differences"
   ]
  },
  {
   "cell_type": "markdown",
   "id": "6c069c0a8cdbc421",
   "metadata": {},
   "source": [
    "Spočítame střední délku pro kod $C$, $\\sum_{x \\in \\mathcal{X}} \\ell(x)p_1(x)$, pro soubour 001.txt, kde $\\mathcal{X}$ je anglická abeceda spolu s mezerou a $\\ell(x)$ značí délku kódového slova příslušejícího prvku $x \\in \\mathcal{X}$ a $p_1(x)$ je odhadnuté rozdělení pro soubour 001.txt"
   ]
  },
  {
   "cell_type": "code",
   "execution_count": 230,
   "id": "981dfe98d54d9d0",
   "metadata": {
    "ExecuteTime": {
     "end_time": "2025-03-30T20:35:46.910713Z",
     "start_time": "2025-03-30T20:35:46.906619Z"
    }
   },
   "outputs": [
    {
     "data": {
      "text/plain": [
       "4.137421044523186"
      ]
     },
     "execution_count": 230,
     "metadata": {},
     "output_type": "execute_result"
    }
   ],
   "source": [
    "average_length_first_file = sum([len(code) * probabilites_first_file[char] for char, code in huffman_code_first_file.items()])\n",
    "average_length_first_file"
   ]
  },
  {
   "cell_type": "markdown",
   "id": "2eb76a5a7b0a514a",
   "metadata": {},
   "source": [
    "Tady spočítáme pro jistotu, jestli nalezený optimální kod splňuje nutnou podmínku, že jeho střední délka se může vzdálit od odhadnuté entropie nanejvýš o 1.\n"
   ]
  },
  {
   "cell_type": "code",
   "execution_count": 232,
   "id": "8626d5ebc51a3d48",
   "metadata": {
    "ExecuteTime": {
     "end_time": "2025-03-30T20:35:50.593993Z",
     "start_time": "2025-03-30T20:35:50.590582Z"
    }
   },
   "outputs": [
    {
     "data": {
      "text/plain": [
       "0.04269422433335457"
      ]
     },
     "execution_count": 232,
     "metadata": {},
     "output_type": "execute_result"
    }
   ],
   "source": [
    "average_length_first_file - calc_entropy(filtered_text_first_file, all_words_first_file, probabilites_first_file)"
   ]
  },
  {
   "cell_type": "markdown",
   "id": "665444874243e9c0",
   "metadata": {},
   "source": [
    "Spočítame střední délku pro kod $C$,\n",
    "$\\sum_{x \\in \\mathcal{X}} \\ell(x)p_2(x)$, pro soubour 011.txt, kde $\\mathcal{X}$ je anglická abeceda spolu s mezerou, $\\ell(x)$ značí délku kódového slova příslušejícího prvku $x \\in \\mathcal{X}$ a $p_2(x)$ je odhadnuté rozdělení pro soubour 011.txt"
   ]
  },
  {
   "cell_type": "code",
   "execution_count": 217,
   "id": "94a5a0f3deac8613",
   "metadata": {
    "ExecuteTime": {
     "end_time": "2025-03-30T20:21:36.465492Z",
     "start_time": "2025-03-30T20:21:36.461316Z"
    }
   },
   "outputs": [
    {
     "data": {
      "text/plain": [
       "4.149514563106796"
      ]
     },
     "execution_count": 217,
     "metadata": {},
     "output_type": "execute_result"
    }
   ],
   "source": [
    "average_length_second_file = sum([len(code) * probabilites_second_file[char] for char, code in huffman_code_first_file.items()])\n",
    "average_length_second_file"
   ]
  },
  {
   "cell_type": "code",
   "execution_count": 236,
   "id": "57cf3b4db350d9df",
   "metadata": {
    "ExecuteTime": {
     "end_time": "2025-03-30T20:54:52.679202Z",
     "start_time": "2025-03-30T20:54:52.674354Z"
    }
   },
   "outputs": [
    {
     "data": {
      "text/plain": [
       "0.08432482721366785"
      ]
     },
     "execution_count": 236,
     "metadata": {},
     "output_type": "execute_result"
    }
   ],
   "source": [
    "average_length_second_file - calc_entropy(filtered_text_second_file, all_words_second_file, probabilites_second_file)"
   ]
  },
  {
   "cell_type": "markdown",
   "id": "43d68fb06ba52b42",
   "metadata": {},
   "source": [
    "Je vidět, že kód $C$ splňuje nutnou podmínky optimality pro dva zvolené texty, tj Pro otimální binární instantní kód $C^*$ diskrétní náhodné veličiny $X$ platí $H_D(X) \\leq L(C^*) < H_D(X) + 1$. Ale pro druhý text není optimální z důvodu popsaných výše."
   ]
  },
  {
   "cell_type": "code",
   "execution_count": null,
   "id": "bc3f44c2a73aa09e",
   "metadata": {},
   "outputs": [],
   "source": []
  }
 ],
 "metadata": {
  "kernelspec": {
   "display_name": "Python 3 (ipykernel)",
   "language": "python",
   "name": "python3"
  },
  "language_info": {
   "codemirror_mode": {
    "name": "ipython",
    "version": 3
   },
   "file_extension": ".py",
   "mimetype": "text/x-python",
   "name": "python",
   "nbconvert_exporter": "python",
   "pygments_lexer": "ipython3",
   "version": "3.11.6"
  }
 },
 "nbformat": 4,
 "nbformat_minor": 5
}
