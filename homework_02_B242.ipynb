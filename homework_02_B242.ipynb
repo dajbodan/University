{
 "cells": [
  {
   "cell_type": "markdown",
   "metadata": {
    "id": "sYN91AXbr_cg"
   },
   "source": [
    "# Úkol č. 2 - Využití neuronových sítí\n",
    "\n",
    "  * Termíny jsou uvedeny na [courses.fit.cvut.cz/BI-ML2/homeworks/index.html](https://courses.fit.cvut.cz/BI-ML2/homeworks/index.html).\n",
    "  * Pokud odevzdáte úkol po prvním termínu ale před nejzazším termínem, budete penalizování -12 body, pozdější odevzdání je bez bodu.\n",
    "  * V rámci tohoto úkolu musíte sestrojit vhodný model neuronové sítě pro vícetřídou klasifikaci.\n",
    "  * Část bodů získáte za správné vypracování a část bodů získáte za výslednou přesnost Vašeho modelu na evaluačních datech.\n",
    "    \n",
    "> **Úkoly jsou zadány tak, aby Vám daly prostor pro invenci. Vymyslet _jak přesně_ budete úkol řešit, je důležitou součástí zadání a originalita či nápaditost bude také hodnocena!**\n",
    "\n",
    "Využívejte buňky typu `Markdown` k vysvětlování Vašeho postupu. Za nepřehlednost budou strhávány body.\n",
    "\n",
    "## Zdroj dat\n",
    "\n",
    " * Zdrojem dat jsou soubory `train.csv` a `evaluate.csv`.\n",
    " * Jedná se o obrázky 32x32 pixelů ve stupních šedi, které byly nějakým způsobem vyrobeny z [Fashion Mnist datasetu](https://www.kaggle.com/datasets/zalando-research/fashionmnist).\n",
    " * Soubor `train.csv` obsahuje trénovací data.\n",
    " * Cílová (vysvětlovaná) proměnná se jmenuje **label**.\n",
    " * Soubor `evaluate.csv` obsahuje testovací data bez hodnot skutečných labelů.\n",
    "\n",
    "## Pokyny k vypracování (max 18 bodů)\n",
    "\n",
    "**Body zadání**, za jejichž (poctivé) vypracování získáte **18 bodů**:\n",
    "  * V notebooku načtěte data ze souboru `train.csv`. Vhodným způsobem si je rozdělte na podmnožiny, které Vám poslouží pro trénování, porovnávání modelů a následnou predikci výkonnosti finálního modelu.\n",
    "  * Proveďte základní průzkum dat a svá pozorování diskutujte. Některé obrázky také zobrazte.\n",
    "  * Sestrojte a natrénujte několik variant modelu dopředné neuronové sítě. Přitom v rámci výpočetních možností:\n",
    "      * Okomentujte vhodnost daného modelu pro daný typ úlohy.\n",
    "      * Experimentujte s různými hloubkami a velikosmi vrstev.\n",
    "      * Experimentujte se standardizací/normalizací dat.\n",
    "      * Experimentujte s různými optimalizačními metodami.\n",
    "      * Experimentujte s různými regularizačními technikami.\n",
    "      * Získané výsledky vždy řádně okomentujte.\n",
    "<br/><br/>\n",
    "  * Sestrojte model konvoluční neuronové sítě. Přitom v rámci výpočetních možností:\n",
    "      * Okomentujte vhodnost daného modelu pro daný typ úlohy.\n",
    "      * Experimentujte s různými hloubkami a velikosmi vrstev.\n",
    "      * Experimentujte se standardizací/normalizací dat.\n",
    "      * Experimentujte s různými optimalizačními metodami.\n",
    "      * Experimentujte s různými regularizačními technikami.\n",
    "      * Získané výsledky vždy řádně okomentujte.\n",
    "    <br/><br/>\n",
    "  * Ze všech zkoušených možností vyberte finální model a odhadněte, jakou přesnost můžete očekávat na nových datech, která jste doposud neměli k dispozici.\n",
    "  \n",
    "  * Nakonec načtěte vyhodnocovací data ze souboru`evaluate.csv`. Pomocí finálního modelu napočítejte predikce pro tyto data (vysvětlovaná proměnná v nich již není). Vytvořte soubor `results.csv`, ve kterém získané predikce uložíte do sloupce **label** a identifikátory do sloupce **ID**. Tento soubor též odevzdejte (uložte do projektu vedle notebooku).\n",
    "   \n",
    "   * Ukázka prvních řádků souboru `results.csv`:\n",
    "  \n",
    "```\n",
    "ID,label\n",
    "0,0\n",
    "1,1\n",
    "...\n",
    "```\n",
    "\n",
    "## Vyhodnocovací část (max 7 bodů)\n",
    "Za přesnost (accuraccy) na odevzdaných predikcích pro vyhodnocovací množnu získáte dalších max **7 bodů**.\n",
    "\n",
    "Označíme-li $A$ přesnost, které jste dosáhli, zaokrouhlenou na 2 desetinná místa, akumulují se výsledné body podle následujících pravidel:\n",
    "* pokud $A \\geq 0.80$ obdržíte +1 bod\n",
    "* pokud $A \\geq 0.83$ obdržíte +1 bod\n",
    "* pokud $A \\geq 0.86$ obdržíte +1 bod\n",
    "* pokud $A \\geq 0.87$ obdržíte +1 bod\n",
    "* pokud $A \\geq 0.88$ obdržíte +1 bod\n",
    "* pokud $A \\geq 0.89$ obdržíte +1 bod\n",
    "* pokud $A \\geq 0.90$ obdržíte +1 bod\n",
    "\n",
    "**Příklad:** Pokud bude Vaše přesnost 0.856, vyjde A = 0.86 a vy získáte 3 body.\n",
    "\n",
    "\n",
    "## Poznámky k odevzdání\n",
    "\n",
    "  * Řiďte se pokyny ze stránky https://courses.fit.cvut.cz/BI-ML2/homeworks/index.html.\n",
    "  * Vytvořte i csv soubor `results.csv` s predikcemi a uložte ho v rámci projektu vedle ipython notebooku."
   ]
  },
  {
   "metadata": {
    "ExecuteTime": {
     "end_time": "2025-05-14T02:45:06.438045Z",
     "start_time": "2025-05-14T02:45:04.576820Z"
    },
    "id": "8rGQptx9r_ck"
   },
   "cell_type": "code",
   "source": [
    "import pandas as pd\n",
    "import numpy as np\n",
    "import matplotlib.pyplot as plt\n",
    "import torch\n",
    "import torch.nn as nn\n",
    "from torch.optim.lr_scheduler import OneCycleLR\n",
    "import torch.optim as optim\n",
    "from tqdm import tqdm\n",
    "from sklearn.model_selection import ParameterGrid\n",
    "from torch.utils.data import DataLoader, TensorDataset\n",
    "from sklearn.preprocessing import StandardScaler, MinMaxScaler\n",
    "from sklearn.model_selection import train_test_split\n",
    "from torch.nn import CrossEntropyLoss\n",
    "from torch.optim import lr_scheduler\n",
    "import math"
   ],
   "outputs": [],
   "execution_count": 24
  },
  {
   "metadata": {
    "id": "flzTYwC7r_cl"
   },
   "cell_type": "markdown",
   "source": "# Čtení vstupu"
  },
  {
   "metadata": {},
   "cell_type": "markdown",
   "source": "Připojíme Google Drive a načteme `train.csv` z Drive do pandas DataFrame. To potřebujeme, když chceme trénovat na GPU."
  },
  {
   "metadata": {
    "ExecuteTime": {
     "end_time": "2025-05-14T02:45:06.445893Z",
     "start_time": "2025-05-14T02:45:06.444145Z"
    },
    "colab": {
     "base_uri": "https://localhost:8080/"
    },
    "id": "STi16-jSr_cm",
    "outputId": "c475f03b-9d04-4fa2-d2d9-d2044eec5e6e"
   },
   "cell_type": "code",
   "source": [
    "from google.colab import drive\n",
    "\n",
    "drive.mount('/content/drive')\n",
    "file_path = '/content/drive/My Drive/Colab Notebooks/train.csv'\n",
    "df = pd.read_csv(file_path)"
   ],
   "outputs": [
    {
     "output_type": "stream",
     "name": "stdout",
     "text": [
      "Drive already mounted at /content/drive; to attempt to forcibly remount, call drive.mount(\"/content/drive\", force_remount=True).\n"
     ]
    }
   ],
   "execution_count": 25
  },
  {
   "metadata": {},
   "cell_type": "markdown",
   "source": "Adresář, kde budeme mít uložené nejlepší modely změřené na validační množině."
  },
  {
   "cell_type": "code",
   "source": [
    "file_path_best_models = '/content/drive/My Drive/Colab Notebooks/BestModels'"
   ],
   "metadata": {
    "id": "QdgoUBWfAvU3"
   },
   "execution_count": 54,
   "outputs": []
  },
  {
   "metadata": {},
   "cell_type": "markdown",
   "source": "Kdybychom chtěli trénovat lokálně, stačí z aktuálního adresáře načíst soubor."
  },
  {
   "cell_type": "code",
   "metadata": {
    "ExecuteTime": {
     "end_time": "2025-05-14T02:45:08.283351Z",
     "start_time": "2025-05-14T02:45:06.569668Z"
    },
    "id": "MZfj6lkXr_cm"
   },
   "source": [
    "#df = pd.read_csv('train.csv')\n"
   ],
   "outputs": [],
   "execution_count": 26
  },
  {
   "metadata": {},
   "cell_type": "markdown",
   "source": "Určíme, zda použít MPS, NVIDIA CUDA nebo (pokud není GPU dostupné) CPU."
  },
  {
   "metadata": {
    "ExecuteTime": {
     "end_time": "2025-05-14T02:45:08.305560Z",
     "start_time": "2025-05-14T02:45:08.288736Z"
    },
    "colab": {
     "base_uri": "https://localhost:8080/"
    },
    "id": "-2Soq3nwr_cm",
    "outputId": "abf59495-2c5e-4375-f56d-859d3a14131a"
   },
   "cell_type": "code",
   "source": [
    "device = None\n",
    "if torch.backends.mps.is_available():\n",
    "    device = torch.device(\"mps\")\n",
    "if torch.cuda.is_available():\n",
    "    device = torch.device(\"cuda\")\n",
    "device"
   ],
   "outputs": [
    {
     "output_type": "execute_result",
     "data": {
      "text/plain": [
       "device(type='cuda')"
      ]
     },
     "metadata": {},
     "execution_count": 27
    }
   ],
   "execution_count": 27
  },
  {
   "metadata": {},
   "cell_type": "markdown",
   "source": "Soubor `train.csv` rozdělíme do tří částí: trénovací, validační a testovací množiny."
  },
  {
   "metadata": {
    "ExecuteTime": {
     "end_time": "2025-05-14T02:45:08.638117Z",
     "start_time": "2025-05-14T02:45:08.322642Z"
    },
    "colab": {
     "base_uri": "https://localhost:8080/"
    },
    "id": "9PeQGp7Cr_co",
    "outputId": "596f35e4-181b-43d0-8187-f79135d7487a"
   },
   "cell_type": "code",
   "source": [
    "random_seed = 42\n",
    "\n",
    "Xtrain, Xval, ytrain, yval = train_test_split(df.drop(columns = ['label']), df['label'], test_size=0.4, random_state=random_seed)\n",
    "Xval, Xtest, yval, ytest = train_test_split(Xval, yval, test_size=0.3, random_state=random_seed)\n",
    "\n",
    "print(f\"Train rozměry, X: {Xtrain.shape}, y: {ytrain.shape}\")\n",
    "print(f\"Val rozměry, X: {Xval.shape}, y: {yval.shape}\")\n",
    "print(f\"Test rozměry, X: {Xtest.shape}, y: {ytest.shape}\")"
   ],
   "outputs": [
    {
     "output_type": "stream",
     "name": "stdout",
     "text": [
      "Train rozměry, X: (31500, 1024), y: (31500,)\n",
      "Val rozměry, X: (14700, 1024), y: (14700,)\n",
      "Test rozměry, X: (6300, 1024), y: (6300,)\n"
     ]
    }
   ],
   "execution_count": 28
  },
  {
   "cell_type": "markdown",
   "source": [
    "# Základní průzkum dat"
   ],
   "metadata": {
    "id": "d9IkbIKdPRvZ"
   }
  },
  {
   "metadata": {},
   "cell_type": "markdown",
   "source": [
    "**Z popisu datasetu víme:**\n",
    "\n",
    "- Náš dataset se skládá z obrázků ve stupních šedi (tj. pouze jeden kanál).\n",
    "- Velikost každého obrázku je 32 × 32 pixelů.\n",
    "- Každý obrázek je reprezentován jako řádek pixelů se sloupcem štítku.\n",
    "\n",
    "**Třídy oblečení:**\n",
    "\n",
    "- 0 – Tričko/top\n",
    "- 1 – Kalhoty\n",
    "- 2 – Svetr\n",
    "- 3 – Šaty\n",
    "- 4 – Kabát\n",
    "- 5 – Sandál\n",
    "- 6 – Košile\n",
    "- 7 – Teniska\n",
    "- 8 – Taška\n",
    "- 9 – Kotníková bota"
   ]
  },
  {
   "metadata": {},
   "cell_type": "markdown",
   "source": "Podíváme se na prvních 16 vzorků z `Xtrain` a ověříme, že to, co vidíme, odpovídá popsaným třídám."
  },
  {
   "metadata": {
    "ExecuteTime": {
     "end_time": "2025-05-14T02:45:08.963585Z",
     "start_time": "2025-05-14T02:45:08.643229Z"
    },
    "colab": {
     "base_uri": "https://localhost:8080/",
     "height": 517
    },
    "id": "kcjH39mlr_co",
    "outputId": "1eb5fd09-b6be-4435-dc8c-2a31a51fe322"
   },
   "cell_type": "code",
   "source": [
    "def show_clothes(Xtrain, ytrain):\n",
    "    fig, axes = plt.subplots(4, 4, figsize=(6, 6))\n",
    "\n",
    "    axes = axes.flatten()\n",
    "    for img_vec, label, ax in zip(Xtrain.iloc[:16].to_numpy(), ytrain[:16], axes):\n",
    "        ax.axis('off')\n",
    "        ax.imshow(img_vec.reshape(32, 32), cmap='gray')\n",
    "        ax.set_title(f\"label: {label}\", fontsize=9)\n",
    "    plt.show()\n",
    "show_clothes(Xtrain, ytrain)"
   ],
   "outputs": [
    {
     "output_type": "display_data",
     "data": {
      "text/plain": [
       "<Figure size 600x600 with 16 Axes>"
      ],
      "image/png": "[encoded data removed]"
     },
     "metadata": {}
    }
   ],
   "execution_count": 86
  },
  {
   "metadata": {},
   "cell_type": "markdown",
   "source": [
    "Pro každý z prvních 16 obrázků zobrazíme histogram rozložení hodnot pixelů.\n",
    "Y-osa je v logaritmické škále, aby byly lépe vidět vzácné intenzity."
   ]
  },
  {
   "cell_type": "code",
   "source": [
    "def show_pixels_hist(Xtrain):\n",
    "    fig, axes = plt.subplots(4, 4, figsize=(6, 6))\n",
    "    axes = axes.flatten()\n",
    "    fig.suptitle(\n",
    "        \"Figure 1. Log‐scaled pixel‐intensity\\nhistograms for 16 sample images\",\n",
    "        fontsize=14, y=0.98\n",
    "    )\n",
    "    for img_vec, ax in zip(Xtrain.iloc[:16].to_numpy(), axes):\n",
    "        ax.axis('off')\n",
    "        ax.set_yscale('log')\n",
    "        ax.hist(img_vec, bins=256)\n",
    "    fig.text(0.5, 0.04, 'Pixel intensity (0–255)', ha='center')\n",
    "    fig.text(0.06, 0.5, 'Count (log scale)', va='center', rotation='vertical')\n",
    "    plt.show()\n",
    "show_pixels_hist(Xtrain)"
   ],
   "metadata": {
    "colab": {
     "base_uri": "https://localhost:8080/",
     "height": 603
    },
    "id": "JmZ-yd_RPXHb",
    "outputId": "07bf029e-ad4f-41dd-ba41-78ee4b0dc6d4"
   },
   "execution_count": 87,
   "outputs": [
    {
     "output_type": "display_data",
     "data": {
      "text/plain": [
       "<Figure size 600x600 with 16 Axes>"
      ],
      "image/png": "[encoded data removed]"
     },
     "metadata": {}
    }
   ]
  },
  {
   "metadata": {},
   "cell_type": "markdown",
   "source": "Zjistíme, zda jsou třídy v `ytrain` rozloženy přibližně rovnoměrně, vykreslením sloupcového grafu počtů vzorků v každé třídě."
  },
  {
   "cell_type": "code",
   "source": [
    "fig, ax = plt.subplots(figsize=(5, 5))\n",
    "label_counts = ytrain.value_counts().sort_index()\n",
    "label_counts.plot( kind='bar')\n",
    "ax.set_title(\"Distribution of Classes\")\n",
    "ax.set_xlabel(\"Classes\")\n",
    "ax.set_ylabel(\"Frequency\")\n",
    "ax.set_xticks(label_counts.index)\n",
    "plt.show()"
   ],
   "metadata": {
    "colab": {
     "base_uri": "https://localhost:8080/",
     "height": 482
    },
    "id": "ES_HQ2CLPZDs",
    "outputId": "6e214b07-f965-4c4d-c8fc-12a2212731af"
   },
   "execution_count": 88,
   "outputs": [
    {
     "output_type": "display_data",
     "data": {
      "text/plain": [
       "<Figure size 500x500 with 1 Axes>"
      ],
      "image/png": "[encoded data removed]"
     },
     "metadata": {}
    }
   ]
  },
  {
   "metadata": {
    "id": "4d2ebv8Or_cp"
   },
   "cell_type": "markdown",
   "source": "# Standardizace/noralizace dat"
  },
  {
   "metadata": {},
   "cell_type": "markdown",
   "source": [
    "- **Min–Max Scaler**: škáluje pixely z původních `[0–255]` do `[0–1]`, zachová tvar distribuce.\n",
    "\n",
    "- **Standard Scaler**: převede vstupy na nulový průměr a jednotkovou odchylku, čímž se odstraní posun a zlepší stabilita a rychlost konvergence při tréninku.\n"
   ]
  },
  {
   "metadata": {
    "ExecuteTime": {
     "end_time": "2025-05-14T02:45:09.928202Z",
     "start_time": "2025-05-14T02:45:08.976987Z"
    },
    "id": "gqJ22IX5r_cp"
   },
   "cell_type": "code",
   "source": [
    "def make_normalization_standardization(Xtrain, y_train_labels, Xval, y_val_labels, cls_normalization_standadization):\n",
    "    if cls_normalization_standadization is None:\n",
    "        raise RuntimeError(\"expect cls_normalization_standadization to be not None\")\n",
    "    scaler = cls_normalization_standadization()\n",
    "    Xtrain = scaler.fit_transform(Xtrain)\n",
    "    Xval = scaler.transform(Xval)\n",
    "\n",
    "    df_torch_X_train = torch.Tensor(Xtrain.astype(np.float32)).to(device)\n",
    "    df_torch_y_train_labels = torch.Tensor(y_train_labels.to_numpy()).to(device).long()\n",
    "\n",
    "    df_torch_X_val = torch.Tensor(Xval.astype(np.float32)).to(device)\n",
    "    df_torch_y_val_labels = torch.Tensor(y_val_labels.to_numpy()).to(device).long()\n",
    "\n",
    "    return TensorDataset(df_torch_X_train, df_torch_y_train_labels), TensorDataset(df_torch_X_val, df_torch_y_val_labels)\n",
    "\n",
    "train_data_Standard_scaled, val_data_Standard_scaled = make_normalization_standardization(Xtrain, ytrain, Xval, yval, cls_normalization_standadization=StandardScaler)\n",
    "train_data_MinMax_scaled,  val_data_MinMax_scaled= make_normalization_standardization(Xtrain, ytrain, Xval, yval, cls_normalization_standadization=MinMaxScaler)"
   ],
   "outputs": [],
   "execution_count": 30
  },
  {
   "metadata": {},
   "cell_type": "markdown",
   "source": "Vytvoříme `TensorDataset` na data, na která jsme neaplikovali žádnou normalizaci či standardizaci."
  },
  {
   "metadata": {
    "ExecuteTime": {
     "end_time": "2025-05-14T02:45:09.969500Z",
     "start_time": "2025-05-14T02:45:09.940452Z"
    },
    "colab": {
     "base_uri": "https://localhost:8080/"
    },
    "id": "Q2AsNW9cr_cp",
    "outputId": "9c33ba71-6ce9-454f-eb26-3e58a5e46bce"
   },
   "cell_type": "code",
   "source": [
    "train_data, val_data = (TensorDataset(torch.from_numpy(Xtrain.to_numpy()).float().to(device),  torch.from_numpy(ytrain.to_numpy()).long().to(device)),\n",
    "                        TensorDataset(torch.from_numpy(Xval.to_numpy()).float().to(device),    torch.from_numpy(yval.to_numpy()).long().to(device)) )\n",
    "type(train_data), type(train_data)"
   ],
   "outputs": [
    {
     "output_type": "execute_result",
     "data": {
      "text/plain": [
       "(torch.utils.data.dataset.TensorDataset,\n",
       " torch.utils.data.dataset.TensorDataset)"
      ]
     },
     "metadata": {},
     "execution_count": 31
    }
   ],
   "execution_count": 31
  },
  {
   "metadata": {
    "id": "aKJaS7R0r_cp"
   },
   "cell_type": "markdown",
   "source": "#  Pomocné funkce pro trénink a vyhodnocení modelu\n"
  },
  {
   "metadata": {},
   "cell_type": "markdown",
   "source": "Provedeme jeden průchod (epoch) nad trénovací množinou: nastavíme model do režimu tréninku, provede forward pass, spočítáme ztrátu, zpětnou propagaci gradientů, update vah a případně krok learning rate scheduleru."
  },
  {
   "metadata": {
    "ExecuteTime": {
     "end_time": "2025-05-14T02:45:10.007577Z",
     "start_time": "2025-05-14T02:45:10.004627Z"
    },
    "id": "6L4yKw_ur_cq"
   },
   "cell_type": "code",
   "source": [
    "def train_one_epoch(model, train_loader, optimizer, scheduler=None):\n",
    "    model.train()\n",
    "    losses_train = []\n",
    "    for X, y in train_loader:\n",
    "        optimizer.zero_grad()\n",
    "        preds = model(X)\n",
    "        loss  = loss_fn(preds, y)\n",
    "        loss.backward()\n",
    "        optimizer.step()\n",
    "        if scheduler is not None and isinstance(scheduler, OneCycleLR):\n",
    "            scheduler.step()\n",
    "        losses_train.append(loss.item())\n",
    "\n",
    "    return losses_train"
   ],
   "outputs": [],
   "execution_count": 33
  },
  {
   "metadata": {},
   "cell_type": "markdown",
   "source": "Opakujeme trénink přes více epoch, volitelně vyhodnocujeme na validační sadě, podporuje melearning rate scheduler i jednoduchý early-stopping po K nelepších epochách."
  },
  {
   "metadata": {
    "ExecuteTime": {
     "end_time": "2025-05-14T02:45:10.036193Z",
     "start_time": "2025-05-14T02:45:10.031904Z"
    },
    "id": "5_wtjYehr_cq"
   },
   "cell_type": "code",
   "source": [
    "def train_epochs(model, loss_fn, optimizer, epochs, train_loader, scheduler=None, val_loader=None, evaluated=False, K_epochs = 5):\n",
    "\n",
    "    losses_train = []\n",
    "    list_acc_val = []\n",
    "    cnt_no_impovement = 0\n",
    "    best_acc = -1\n",
    "    for epoch in range(epochs):\n",
    "        losses_train.extend(train_one_epoch(model=model, scheduler=scheduler, train_loader=train_loader, optimizer=optimizer))\n",
    "        model.eval()\n",
    "        running_loss = 0.0\n",
    "        n_correct   = 0\n",
    "        n_total     = 0\n",
    "        if evaluated:\n",
    "            with torch.no_grad():\n",
    "                for X, y in val_loader:\n",
    "                    logits = model(X)\n",
    "                    loss   = loss_fn(logits, y)\n",
    "                    running_loss += loss.item() * X.size(0)\n",
    "                    n_total     += X.size(0)\n",
    "                    preds = logits.argmax(dim=1)\n",
    "                    n_correct += (preds == y).sum().item()\n",
    "                accuracy = n_correct   / n_total\n",
    "            list_acc_val.append(accuracy)\n",
    "\n",
    "        if scheduler is not None and not isinstance(scheduler, OneCycleLR):\n",
    "            scheduler.step()\n",
    "\n",
    "\n",
    "        if evaluated and  list_acc_val[-1] > best_acc:\n",
    "            best_acc = list_acc_val[-1]\n",
    "            cnt_no_impovement = 0\n",
    "        elif evaluated:\n",
    "            cnt_no_impovement += 1\n",
    "        if cnt_no_impovement > K_epochs:\n",
    "            break\n",
    "    return losses_train, list_acc_val"
   ],
   "outputs": [],
   "execution_count": 34
  },
  {
   "metadata": {},
   "cell_type": "markdown",
   "source": "Provedeme kompletní vyhodnocení modelu na validační sadě: přesnost, ztrátu."
  },
  {
   "metadata": {
    "ExecuteTime": {
     "end_time": "2025-05-14T02:45:10.046841Z",
     "start_time": "2025-05-14T02:45:10.043671Z"
    },
    "id": "E-fhsQpdr_cq"
   },
   "cell_type": "code",
   "source": [
    "def evaluate(model, val_loader, loss_fn):\n",
    "    model.eval()\n",
    "    running_loss = 0.0\n",
    "    n_correct   = 0\n",
    "    n_total     = 0\n",
    "\n",
    "    with torch.no_grad():\n",
    "        for X, y in val_loader:\n",
    "            logits = model(X)\n",
    "            loss   = loss_fn(logits, y)\n",
    "            running_loss += loss.item() * X.size(0)\n",
    "            n_total     += X.size(0)\n",
    "            preds = logits.argmax(dim=1)\n",
    "            n_correct += (preds == y).sum().item()\n",
    "    accuracy = n_correct   / n_total\n",
    "    error_rate = 1.0 - accuracy\n",
    "\n",
    "    return  accuracy, error_rate"
   ],
   "outputs": [],
   "execution_count": 35
  },
  {
   "metadata": {
    "id": "stXWbv0Ur_cq"
   },
   "cell_type": "markdown",
   "source": "# Dopředná neuronová síť"
  },
  {
   "metadata": {},
   "cell_type": "markdown",
   "source": [
    "Dopředná neuronová síť je vhodný, protože\n",
    "- se implementuje na pár řádků. Je dobrý jako výchozí bod před složitějšími architekturami (CNN, VGG).\n",
    "- abychom zjistili dolní hranici úspěšnosti neuronových sítí. Má vůbec smysl investovat čas do realizaci složitějších modelů."
   ]
  },
  {
   "metadata": {
    "id": "TkBrL4wHr_cq"
   },
   "cell_type": "markdown",
   "source": "## Implementace Modelu"
  },
  {
   "metadata": {},
   "cell_type": "markdown",
   "source": [
    "- **Vícevrstvá perceptronová (feed-forward) síť** sestavená pomocí `nn.Sequential`.\n",
    "- **ReLU** zajišťuje nelinearitu a zrychluje konvergenci.\n",
    "- **Dropout** po každé skryté vrstvě působí jako regularizace, snižuje přeučení.\n",
    "- **Xavier uniform inicializace** (`nn.init.xavier_uniform_`) pro váhy hustých vrstev – udržuje stabilní velikost gradientů napříč vrstvami.\n",
    "- Metoda **`forward`** pouze předá vstup skrz `self.net`, takže inference i trénink probíhají jedním voláním."
   ]
  },
  {
   "metadata": {
    "ExecuteTime": {
     "end_time": "2025-05-14T02:45:10.063631Z",
     "start_time": "2025-05-14T02:45:10.060016Z"
    },
    "id": "IMbBRdoJr_cq"
   },
   "cell_type": "code",
   "source": [
    "class Net(torch.nn.Module):\n",
    "    def __init__(self,\n",
    "                 input_size    = 1024,\n",
    "                 hidden_sizes  = (512, 256, 128),\n",
    "                 output_size   = 10,\n",
    "                 activation_fn = nn.ReLU,\n",
    "                 dropout       = 0.3):\n",
    "        super().__init__()\n",
    "        layers = []\n",
    "        in_f = input_size\n",
    "        for h in hidden_sizes:\n",
    "            layers += [nn.Linear(in_f, h), activation_fn()]\n",
    "            if dropout > 0:\n",
    "                layers.append(nn.Dropout(dropout))\n",
    "            in_f = h\n",
    "        layers.append(nn.Linear(in_f, output_size))\n",
    "        self.net = nn.Sequential(*layers)\n",
    "        for m in self.net:\n",
    "            if isinstance(m, nn.Linear):\n",
    "                nn.init.xavier_uniform_(m.weight)\n",
    "                if m.bias is not None:\n",
    "                    nn.init.zeros_(m.bias)\n",
    "\n",
    "\n",
    "    def forward(self, x):\n",
    "        return self.net(x)\n"
   ],
   "outputs": [],
   "execution_count": 36
  },
  {
   "metadata": {
    "id": "b4blqMBor_cr"
   },
   "cell_type": "markdown",
   "source": "Každá další vrstva bude zmenšena/zvětšená o zadaný poměr vůči předchozí, dokud nedosáhneme zadané hloubky nebo počtu neuronů < 10."
  },
  {
   "metadata": {
    "ExecuteTime": {
     "end_time": "2025-05-14T02:45:10.080168Z",
     "start_time": "2025-05-14T02:45:10.076381Z"
    },
    "colab": {
     "base_uri": "https://localhost:8080/"
    },
    "id": "ddeBeIvHr_cr",
    "outputId": "a0bb2ca8-c230-447b-879a-cf8b9d3276a0"
   },
   "cell_type": "code",
   "source": [
    "def neuron_hidden_layer(input_layer, depth, ratio_of_each_layer):\n",
    "    res = (input_layer,)\n",
    "    for i in range(depth - 1):\n",
    "        if(math.floor(res[-1] * ratio_of_each_layer) < 10):\n",
    "            break\n",
    "        res += (math.floor(res[-1] * ratio_of_each_layer),)\n",
    "    return res\n",
    "\n",
    "neuron_hidden_layer(32, 3, 0.7)"
   ],
   "outputs": [
    {
     "output_type": "execute_result",
     "data": {
      "text/plain": [
       "(32, 22, 15)"
      ]
     },
     "metadata": {},
     "execution_count": 37
    }
   ],
   "execution_count": 37
  },
  {
   "metadata": {
    "id": "4WPkpJoIr_cr"
   },
   "cell_type": "markdown",
   "source": "## Ladění hyperparamtrů"
  },
  {
   "metadata": {
    "id": "I4GQpG-jr_cr"
   },
   "cell_type": "markdown",
   "source": [
    "1. Definice prostoru parametrů (`param_grid`)\n",
    "   - Umožňuje jednoduše měnit hloubku sítě (`hidden layers size`), šířku vrstev (`ratio of each layer`, `first hiden layer`),\n",
    "     regularizaci (`dropout`, `weight_decay`), optimalizátor i learning-rate.\n",
    "   - Pole `\"data\"` lze přepínat mezi různě škálovanými verzemi (raw, Min–Max, Standard).\n",
    "\n",
    "2. Iterace přes všechny kombinace (`ParameterGrid`)\n",
    "   - Pro každou kombinaci vytvoříme DataLoader s patřičným batch-sizem.\n",
    "   - Pomocí funkce `neuron_hidden_layer` dynamicky sestavíme skryté vrstvy.\n",
    "\n",
    "3. Sestavení a trénink modelu\n",
    "   - Konstruujeme instanci `Net` s daným dropoutem; aktivujeme vybraný optimalizátor (Adam nebo RMSprop) a trénujeme 10 epoch\n",
    "     včetně jednoduchého early-stopping (`K_epochs=3`). Tím testujeme různé optimalizační metody i regularizační techniky.\n",
    "\n",
    "4. Vyhodnocení a uložení nejlepší varianty"
   ]
  },
  {
   "metadata": {
    "ExecuteTime": {
     "end_time": "2025-05-14T02:45:18.005296Z",
     "start_time": "2025-05-14T02:45:10.103417Z"
    },
    "colab": {
     "base_uri": "https://localhost:8080/"
    },
    "id": "YdjGiiOjr_cr",
    "outputId": "2ccf8444-4969-4e81-a444-21c325b25b27"
   },
   "cell_type": "code",
   "source": [
    "import torch.optim as optim\n",
    "param_grid = {\n",
    "              \"data\"                : [[train_data, val_data], [train_data_MinMax_scaled, val_data_MinMax_scaled], [train_data_Standard_scaled, val_data_Standard_scaled]],\n",
    "              \"batch size\"          : [64, 128],\n",
    "              \"first hiden layer\": [1024],\n",
    "              'hidden layers size': [2, 3, 4],\n",
    "              \"ratio of each layer\" : [0.5, 0.7],\n",
    "              \"dropout\": [0.1, 0.2],\n",
    "              \"learning_rate\": [1e-5],\n",
    "              \"optimizer\"    : [\"Adam\", \"RMSprop\"],\n",
    "              \"weight_decay\": [0.0, 1e-5]\n",
    "              }\n",
    "\n",
    "all_params = ParameterGrid(param_grid)\n",
    "best_params_mlp = None\n",
    "best_score_fnn_val = -1\n",
    "model_path = \"BestModels/best_model_mpl.pt\"\n",
    "epochs = 10\n",
    "best_model_fnn = None\n",
    "best_parametrs_fnn = None\n",
    "\n",
    "for param in tqdm(all_params):\n",
    "    x_data, y_data = param[\"data\"]\n",
    "    train_loader = torch.utils.data.DataLoader(x_data, batch_size=param[\"batch size\"], shuffle=True)\n",
    "    val_loader = torch.utils.data.DataLoader(y_data, batch_size=param[\"batch size\"], shuffle=False)\n",
    "\n",
    "    dropout = param['dropout']\n",
    "    hidden_layers = param['hidden layers size']\n",
    "    ratio = param['ratio of each layer']\n",
    "    learning_rate = param['learning_rate']\n",
    "    weight_decay = param['weight_decay']\n",
    "    loss_fn = CrossEntropyLoss()\n",
    "\n",
    "    opt_cls = getattr(optim, param[\"optimizer\"])\n",
    "    model = Net(dropout=dropout, hidden_sizes=neuron_hidden_layer(param[\"first hiden layer\"], hidden_layers, ratio)).to(device)\n",
    "    optimizer = opt_cls(model.parameters(), lr=learning_rate, weight_decay=weight_decay)\n",
    "    losses_train, losses_val =  train_epochs(model, loss_fn, optimizer, epochs, train_loader=train_loader, K_epochs=3)\n",
    "    accuracy, _  = evaluate(model, val_loader, loss_fn)\n",
    "    if accuracy > best_score_fnn_val :\n",
    "        best_params_mlp = param\n",
    "        best_score_fnn_val = accuracy\n",
    "        best_model_fnn = model\n",
    "        best_parametrs_fnn = param\n",
    "        #torch.save(model.state_dict(), model_path)"
   ],
   "outputs": [
    {
     "output_type": "stream",
     "name": "stderr",
     "text": [
      "100%|██████████| 288/288 [49:21<00:00, 10.28s/it]\n"
     ]
    }
   ],
   "execution_count": 38
  },
  {
   "metadata": {},
   "cell_type": "markdown",
   "source": "Uložíme případně nejlepší model"
  },
  {
   "cell_type": "code",
   "source": [
    "file_path_best_models_fnn = file_path_best_models + \"/best_model_fnn.pt\"\n",
    "file_path_best_models_fnn"
   ],
   "metadata": {
    "colab": {
     "base_uri": "https://localhost:8080/",
     "height": 35
    },
    "id": "Ezd7I1rmBh0x",
    "outputId": "68135d58-d49d-43b1-8871-00c218f9a2df"
   },
   "execution_count": 59,
   "outputs": [
    {
     "output_type": "execute_result",
     "data": {
      "text/plain": [
       "'/content/drive/My Drive/Colab Notebooks/BestModels/best_model_fnn.pt'"
      ],
      "application/vnd.google.colaboratory.intrinsic+json": {
       "type": "string"
      }
     },
     "metadata": {},
     "execution_count": 59
    }
   ]
  },
  {
   "metadata": {
    "ExecuteTime": {
     "end_time": "2025-05-14T02:45:19.417823Z",
     "start_time": "2025-05-14T02:45:19.415725Z"
    },
    "id": "baiiWyqBr_cr"
   },
   "cell_type": "code",
   "source": [
    "torch.save(best_model_fnn.state_dict(), file_path_best_models_fnn)"
   ],
   "outputs": [],
   "execution_count": 60
  },
  {
   "metadata": {
    "ExecuteTime": {
     "end_time": "2025-05-14T02:45:19.819010Z",
     "start_time": "2025-05-14T02:45:19.815526Z"
    },
    "colab": {
     "base_uri": "https://localhost:8080/"
    },
    "id": "TibJBuASr_cr",
    "outputId": "1995f8cd-8f81-49c3-bd95-7c91617baec9"
   },
   "cell_type": "code",
   "source": [
    "best_params_mlp, best_score_fnn_val"
   ],
   "outputs": [
    {
     "output_type": "execute_result",
     "data": {
      "text/plain": [
       "({'batch size': 64,\n",
       "  'data': [<torch.utils.data.dataset.TensorDataset at 0x7dd9e811d450>,\n",
       "   <torch.utils.data.dataset.TensorDataset at 0x7dd9e8189590>],\n",
       "  'dropout': 0.1,\n",
       "  'first hiden layer': 1024,\n",
       "  'hidden layers size': 4,\n",
       "  'learning_rate': 1e-05,\n",
       "  'optimizer': 'RMSprop',\n",
       "  'ratio of each layer': 0.7,\n",
       "  'weight_decay': 0.0},\n",
       " 0.8091836734693878)"
      ]
     },
     "metadata": {},
     "execution_count": 46
    }
   ],
   "execution_count": 46
  },
  {
   "metadata": {
    "ExecuteTime": {
     "end_time": "2025-05-14T02:45:20.280499Z",
     "start_time": "2025-05-14T02:45:20.278212Z"
    },
    "id": "K08w1aNpr_cs"
   },
   "cell_type": "code",
   "source": [
    "#model = torch.load(\"BestModels/best_model_mpl.pt\")"
   ],
   "outputs": [],
   "execution_count": 41
  },
  {
   "metadata": {
    "id": "f08KTZgJr_cs"
   },
   "cell_type": "markdown",
   "source": "# Konvoluční síť"
  },
  {
   "metadata": {},
   "cell_type": "markdown",
   "source": [
    "Zkusíme dva typy konvoluční sítě.\n",
    "1. **ConvFeatureExtractor**. Nejprve postavíme bloky konvolucí a poolingu, které vytvoří \"bohatší\" příznaky; na ty pak navážeme dopřednou neuronovou síť.\n",
    "2. **VGG-style síť** . Zmenšená verze známé architektury VGG, která má přesnost přes 90% na ImageNet. Inspirace tímto zdrojem : https://viso.ai/deep-learning/vgg-very-deep-convolutional-networks/\n",
    "\n",
    "Tento model je vhodný, protože\n",
    "- Umí detekovat lokální tvary (rukáv, podrážka, švy) i hrany objektů.\n",
    "- Konvoluční filtry vnímají sousedství pixelů.\n",
    "- Díky poolingům pozná kus oblečení i mimo střed obrázku.\n",
    "- potřebuje míň parametrů. Tím se snižuje riziko přeučení a rychleší trenink."
   ]
  },
  {
   "metadata": {
    "id": "oT3m7D1jr_cs"
   },
   "cell_type": "markdown",
   "source": "## ConvFeatureExtractor"
  },
  {
   "metadata": {},
   "cell_type": "markdown",
   "source": "Definujeme nejmenší stavební kámen konvoluční části."
  },
  {
   "metadata": {
    "ExecuteTime": {
     "end_time": "2025-05-14T02:45:21.555398Z",
     "start_time": "2025-05-14T02:45:21.550070Z"
    },
    "id": "aQCfQUvhr_cs"
   },
   "cell_type": "code",
   "source": [
    "def make_convolutional_block(\n",
    "        in_channels,\n",
    "        out_channels,\n",
    "        kernel_size=3,\n",
    "        use_dropout=False,\n",
    "        dropout_p=0.2,\n",
    "        activation=nn.ReLU,\n",
    "        norm_layer=nn.BatchNorm2d,\n",
    "        stride=1,\n",
    "        pool=None\n",
    "):\n",
    "\n",
    "    layers = []\n",
    "    conv = nn.Conv2d(\n",
    "        in_channels=in_channels,\n",
    "        out_channels=out_channels,\n",
    "        kernel_size=kernel_size,\n",
    "        stride=stride,\n",
    "        padding=kernel_size // 2,\n",
    "        bias=False,\n",
    "    )\n",
    "\n",
    "    layers.append(conv)\n",
    "    if norm_layer is not None:\n",
    "        layers.append(norm_layer(out_channels))\n",
    "    layers.append(activation())\n",
    "    if use_dropout:\n",
    "        layers.append(nn.Dropout2d(dropout_p))\n",
    "\n",
    "    if pool == 'max':\n",
    "        layers.append(nn.MaxPool2d(kernel_size=2, stride=2))\n",
    "    elif pool == 'avg':\n",
    "        layers.append(nn.AvgPool2d(kernel_size=2, stride=2))\n",
    "\n",
    "    return nn.Sequential(*layers)"
   ],
   "outputs": [],
   "execution_count": 42
  },
  {
   "metadata": {
    "id": "3vIuu5jMr_cs"
   },
   "cell_type": "markdown",
   "source": "Spojíme více konvolučních bloků do jediné třídy, která funguje jako extraktor bohatých příznaků.\n"
  },
  {
   "metadata": {
    "ExecuteTime": {
     "end_time": "2025-05-14T02:45:22.057882Z",
     "start_time": "2025-05-14T02:45:22.051729Z"
    },
    "id": "O2Klhnh0r_cs"
   },
   "cell_type": "code",
   "source": [
    "class ConvolutionalBlocks(nn.Module):\n",
    "    def __init__(\n",
    "            self,\n",
    "            layers: int = 3,\n",
    "            first_hidden_layer: int = 64,\n",
    "            ratio_hidden_layers: float = 2,\n",
    "            kernel_size: int = 3,\n",
    "            use_dropout: bool = True,\n",
    "            dropout_p: float = 0.2,\n",
    "            activation: nn.Module = nn.ReLU,\n",
    "            normal_layer: nn.Module = nn.BatchNorm2d,\n",
    "            stride: int = 1,\n",
    "            pool: str = \"max\",\n",
    "            input_channels: int = 1,\n",
    "            input_size = (32,32),\n",
    "            has_own_classifier: bool = False\n",
    "    ):\n",
    "        super().__init__()\n",
    "        if ratio_hidden_layers <= 1:\n",
    "            raise ValueError(\"ratio_hidden_layers must be > 1\")\n",
    "\n",
    "        self.input_channels = input_channels\n",
    "        self.input_size     = input_size\n",
    "\n",
    "        in_ch  = input_channels\n",
    "        out_ch = int(first_hidden_layer)\n",
    "        blocks = []\n",
    "\n",
    "        for _ in range(layers):\n",
    "            blocks.append(\n",
    "                make_convolutional_block(\n",
    "                    in_channels=in_ch,\n",
    "                    out_channels=out_ch,\n",
    "                    kernel_size=kernel_size,\n",
    "                    stride=stride,\n",
    "                    use_dropout=use_dropout,\n",
    "                    dropout_p=dropout_p,\n",
    "                    norm_layer=normal_layer,\n",
    "                    activation=activation,\n",
    "                    pool=pool,\n",
    "                )\n",
    "            )\n",
    "            in_ch  = out_ch\n",
    "            out_ch = int(out_ch * ratio_hidden_layers)\n",
    "\n",
    "\n",
    "        self.features = nn.Sequential(*blocks)\n",
    "\n",
    "        with torch.no_grad():\n",
    "            dummy = torch.zeros(1,\n",
    "                                self.input_channels,\n",
    "                                *self.input_size)\n",
    "            out   = self.features(dummy)\n",
    "        _, C_out, H_out, W_out = out.shape\n",
    "        self.out_shape = (C_out, H_out, W_out)\n",
    "        self.channels  = C_out\n",
    "        if has_own_classifier:\n",
    "            self.classifier = nn.Identity()\n",
    "        else:\n",
    "            self.classifier = nn.Sequential(\n",
    "                nn.Flatten(),\n",
    "                nn.Linear(C_out * H_out * W_out, 10)\n",
    "            )\n",
    "\n",
    "    def forward(self, x: torch.Tensor):\n",
    "        if x.dim() == 2:\n",
    "            B, _ = x.shape\n",
    "            C, H, W = self.input_channels, *self.input_size\n",
    "            x = x.view(B, C, H, W)\n",
    "\n",
    "        return self.classifier(self.features(x))"
   ],
   "outputs": [],
   "execution_count": 43
  },
  {
   "metadata": {},
   "cell_type": "markdown",
   "source": "Spojí extraktor z buňky 2 s malým **MLP**, čímž dostáváme první typ konvoluční sítě."
  },
  {
   "metadata": {
    "ExecuteTime": {
     "end_time": "2025-05-14T02:45:22.234108Z",
     "start_time": "2025-05-14T02:45:22.228367Z"
    },
    "id": "7eOldcVkr_cs"
   },
   "cell_type": "code",
   "source": [
    "class ConvThenMLP(nn.Module):\n",
    "   def __init__(self,\n",
    "            conv_layers:             int = 3,\n",
    "            conv_first_hidden:       int = 64,\n",
    "            conv_ratio_hidden:       float = 2,\n",
    "            conv_kernel_size:        int = 3,\n",
    "            conv_use_dropout:        bool = False,\n",
    "            conv_dropout_p:          float = 0.2,\n",
    "            conv_activation:         nn.Module = nn.ReLU,\n",
    "            conv_stride:             int = 1,\n",
    "            conv_pool:               str = \"max\",\n",
    "            normal_layer: nn.Module = nn.BatchNorm2d,\n",
    "\n",
    "            input_channels:          int = 1,\n",
    "            input_size:             tuple[int,int] = (32,32),\n",
    "\n",
    "            mlp_hidden_sizes:       tuple[int,...] = (512,256,128),\n",
    "            mlp_dropout:            float = 0.3,\n",
    "            mlp_output_size:        int   = 10,\n",
    "   ):\n",
    "        super().__init__()\n",
    "\n",
    "        self.conv_extractor = ConvolutionalBlocks(\n",
    "            layers               = conv_layers,\n",
    "            first_hidden_layer   = conv_first_hidden,\n",
    "            ratio_hidden_layers  = conv_ratio_hidden,\n",
    "            kernel_size          = conv_kernel_size,\n",
    "            use_dropout          = conv_use_dropout,\n",
    "            activation           = conv_activation,\n",
    "            stride               = conv_stride,\n",
    "            pool                 = conv_pool,\n",
    "            normal_layer         = normal_layer,\n",
    "            input_channels       = input_channels,\n",
    "            input_size           = input_size,\n",
    "            has_own_classifier = True,\n",
    "        )\n",
    "\n",
    "        C_out, H_out, W_out = self.conv_extractor.out_shape\n",
    "        flat_dim = C_out * H_out * W_out\n",
    "\n",
    "        self.mlp = Net(\n",
    "            input_size    = flat_dim,\n",
    "            hidden_sizes  = mlp_hidden_sizes,\n",
    "            output_size   = mlp_output_size,\n",
    "            activation_fn = nn.ReLU,\n",
    "            dropout       = mlp_dropout,\n",
    "        )\n",
    "\n",
    "   def forward(self, x: torch.Tensor) -> torch.Tensor:\n",
    "        if x.dim() == 2:\n",
    "            B, D = x.shape\n",
    "            C, H, W = self.conv_extractor.input_channels, *self.conv_extractor.input_size\n",
    "            x = x.view(B, C, H, W)\n",
    "\n",
    "        feat = self.conv_extractor(x)\n",
    "        flat = feat.view(feat.size(0), -1)\n",
    "\n",
    "        return self.mlp(flat)"
   ],
   "outputs": [],
   "execution_count": 44
  },
  {
   "metadata": {},
   "cell_type": "markdown",
   "source": "### Ladění hyper-parametrů"
  },
  {
   "metadata": {},
   "cell_type": "markdown",
   "source": [
    "1. **Definice prostoru parametrů (`conv_grid_first_type`)**\n",
    "\n",
    "   - Vycházíme ze společného slovníku `shared`, který nám dovoluje měnit\n",
    "     - hloubku sítě (`layers`),\n",
    "     - šířku prvního bloku (`first_hidden_layer`) i poměr rozšiřování (`ratio_hidden_layers`),\n",
    "     - regularizaci (`dropout`, `weight_decay`),\n",
    "     - optimalizátor (`optimizer`) a `learning_rate`,\n",
    "     - případně normalizační vrstvu (`norm_layer`).\n",
    "   - Pole `\"data\"` lze přepínat mezi různě škálovanými verzemi datasetu (raw / Min-Max / Standard).\n",
    "   - Kombinováním `grid_no_dropout` a `grid_with_dropout` testujeme s i bez dropoutu.\n",
    "\n",
    "2. **Iterace přes všechny kombinace** (`ParameterGrid`)\n",
    "\n",
    "3. **Sestavení a trénink modelu**\n",
    "\n",
    "4. **Vyhodnocení na validační sadě a uložení nejlepší varianty**"
   ]
  },
  {
   "metadata": {
    "ExecuteTime": {
     "end_time": "2025-05-14T02:46:02.749132Z",
     "start_time": "2025-05-14T02:46:00.016960Z"
    },
    "colab": {
     "base_uri": "https://localhost:8080/"
    },
    "id": "QYvehIqqr_ct",
    "outputId": "101d012d-b8f6-4aa9-a59a-3b1cd4c8576a"
   },
   "cell_type": "code",
   "source": [
    "shared = {\n",
    "    \"data\"                : [[train_data, val_data], [train_data_MinMax_scaled, val_data_MinMax_scaled], [train_data_Standard_scaled, val_data_Standard_scaled]],\n",
    "    \"batch size\"          : [128],\n",
    "    \"layers\"              : [2,3],\n",
    "    \"first_hidden_layer\"  : [64],\n",
    "    \"ratio_hidden_layers\" : [1.5, 2],\n",
    "    \"learning_rate\"       : [1e-2, 3e-4],\n",
    "    \"weight_decay\"        : [0.0, 1e-5],\n",
    "    \"activation\"          : [nn.ReLU, nn.LeakyReLU],\n",
    "    \"norm_layer\"          : [None, nn.BatchNorm2d],\n",
    "    \"optimizer\"           : [\"Adam\", \"RMSprop\"],\n",
    "    \"stride\"              : [1],\n",
    "    \"pool\"                : [\"max\"]\n",
    "}\n",
    "\n",
    "grid_no_dropout = {\n",
    "    **shared,\n",
    "    \"use_dropout\": [False],\n",
    "    \"dropout_p\"  : [0.0],\n",
    "}\n",
    "\n",
    "grid_with_dropout = {\n",
    "    **shared,\n",
    "    \"use_dropout\": [True],\n",
    "    \"dropout_p\"  : [0.2],\n",
    "}\n",
    "model_path_conv = \"./BestModels/best_model_conv.pt\"\n",
    "\n",
    "conv_grid_first_type = [grid_no_dropout, grid_with_dropout]\n",
    "best_model_conv = None\n",
    "best_params_conv = None\n",
    "epochs=10\n",
    "best_score_conv_val = -1\n",
    "best_losses_val_conv = -1\n",
    "for parameter in tqdm(ParameterGrid(conv_grid_first_type)):\n",
    "    x_data, y_data = parameter[\"data\"]\n",
    "    train_loader = torch.utils.data.DataLoader(x_data, batch_size=parameter[\"batch size\"], shuffle=True)\n",
    "    val_loader = torch.utils.data.DataLoader(y_data, batch_size=parameter[\"batch size\"], shuffle=False)\n",
    "\n",
    "    layers = parameter[\"layers\"]\n",
    "    first_hidden_layer = parameter[\"first_hidden_layer\"]\n",
    "    ratio_hidden_layers = parameter[\"ratio_hidden_layers\"]\n",
    "    use_dropout = parameter[\"use_dropout\"]\n",
    "    dropout_p = parameter[\"dropout_p\"]\n",
    "    learning_rate = parameter[\"learning_rate\"]\n",
    "    weight_decay = parameter[\"weight_decay\"]\n",
    "    activation = parameter[\"activation\"]\n",
    "    norm_layer = parameter[\"norm_layer\"]\n",
    "    stride = parameter[\"stride\"]\n",
    "    pool = parameter[\"pool\"]\n",
    "\n",
    "\n",
    "    cls_optim = getattr(optim, parameter[\"optimizer\"])\n",
    "    model = ConvThenMLP(conv_layers=layers,\n",
    "                        conv_first_hidden=first_hidden_layer,\n",
    "                        conv_ratio_hidden=ratio_hidden_layers,\n",
    "                        conv_use_dropout=use_dropout,\n",
    "                        conv_dropout_p=dropout_p,\n",
    "                        conv_activation=activation,\n",
    "                        normal_layer=norm_layer,\n",
    "                        conv_stride=stride,\n",
    "                        conv_pool=pool,\n",
    "                        mlp_hidden_sizes=neuron_hidden_layer(32, 3, 0.7),\n",
    "                        mlp_dropout=dropout_p,\n",
    "                        ).to(device)\n",
    "\n",
    "    optimizer = cls_optim(model.parameters(), lr=learning_rate, weight_decay=weight_decay)\n",
    "    losses_train, _ = train_epochs(model, loss_fn, optimizer, epochs, train_loader=train_loader, K_epochs=5)\n",
    "    accuracy, _  = evaluate(model, val_loader, loss_fn)\n",
    "    if accuracy > best_score_conv_val :\n",
    "        best_model_conv = model\n",
    "        best_params_conv = parameter\n",
    "        best_score_conv_val = accuracy\n",
    "        best_params_conv = parameter\n",
    "        #torch.save(model.state_dict(), model_path_conv)"
   ],
   "outputs": [
    {
     "output_type": "stream",
     "name": "stderr",
     "text": [
      "100%|██████████| 768/768 [3:07:20<00:00, 14.64s/it]\n"
     ]
    }
   ],
   "execution_count": 47
  },
  {
   "cell_type": "code",
   "source": [
    "best_params_conv"
   ],
   "metadata": {
    "colab": {
     "base_uri": "https://localhost:8080/"
    },
    "id": "PLyxl0n3AQWN",
    "outputId": "45d196df-6979-4d5e-e848-4a8c03423862"
   },
   "execution_count": 49,
   "outputs": [
    {
     "output_type": "execute_result",
     "data": {
      "text/plain": [
       "{'activation': torch.nn.modules.activation.LeakyReLU,\n",
       " 'batch size': 128,\n",
       " 'data': [<torch.utils.data.dataset.TensorDataset at 0x7dd9d7f19590>,\n",
       "  <torch.utils.data.dataset.TensorDataset at 0x7dda18160990>],\n",
       " 'dropout_p': 0.0,\n",
       " 'first_hidden_layer': 64,\n",
       " 'layers': 3,\n",
       " 'learning_rate': 0.0003,\n",
       " 'norm_layer': torch.nn.modules.batchnorm.BatchNorm2d,\n",
       " 'optimizer': 'RMSprop',\n",
       " 'pool': 'max',\n",
       " 'ratio_hidden_layers': 2,\n",
       " 'stride': 1,\n",
       " 'use_dropout': False,\n",
       " 'weight_decay': 0.0}"
      ]
     },
     "metadata": {},
     "execution_count": 49
    }
   ]
  },
  {
   "metadata": {},
   "cell_type": "markdown",
   "source": "Nejlepší model má přesnost na validační množíně :"
  },
  {
   "cell_type": "code",
   "source": [
    "best_score_conv_val"
   ],
   "metadata": {
    "colab": {
     "base_uri": "https://localhost:8080/"
    },
    "id": "Ee4oKNmUAY89",
    "outputId": "4694c094-88ef-4c0f-e3b5-fd33c123b87b"
   },
   "execution_count": 51,
   "outputs": [
    {
     "output_type": "execute_result",
     "data": {
      "text/plain": [
       "0.894421768707483"
      ]
     },
     "metadata": {},
     "execution_count": 51
    }
   ]
  },
  {
   "metadata": {},
   "cell_type": "markdown",
   "source": "Uložíme případně nejlepší model."
  },
  {
   "cell_type": "code",
   "source": [
    "file_path_best_models_conv = file_path_best_models + \"/best_model_conv.pt\"\n",
    "file_path_best_models_conv"
   ],
   "metadata": {
    "colab": {
     "base_uri": "https://localhost:8080/",
     "height": 35
    },
    "id": "LbqJCpAkAhSR",
    "outputId": "5f256ea5-4851-4b0e-f542-17f1448e0e81"
   },
   "execution_count": 57,
   "outputs": [
    {
     "output_type": "execute_result",
     "data": {
      "text/plain": [
       "'/content/drive/My Drive/Colab Notebooks/BestModels/best_model_conv.pt'"
      ],
      "application/vnd.google.colaboratory.intrinsic+json": {
       "type": "string"
      }
     },
     "metadata": {},
     "execution_count": 57
    }
   ]
  },
  {
   "cell_type": "code",
   "source": [
    "torch.save(best_model_conv.state_dict(), file_path_best_models_conv)"
   ],
   "metadata": {
    "id": "ZRgt4xoBBY49"
   },
   "execution_count": 58,
   "outputs": []
  },
  {
   "metadata": {
    "id": "jDrfpZ0Dr_ct"
   },
   "cell_type": "markdown",
   "source": "## VGG-style síť"
  },
  {
   "metadata": {},
   "cell_type": "markdown",
   "source": [
    "- **Mini-VGG sítˇ**: kopíruje princip VGG-11/13 (dvojice 3×3 konvolucí + pooling), ale je zmenšená pro 28 px snímky.\n",
    "- **Batch-Norm** po každé konvoluci stabilizuje učení, ReLU přidává nelinearitu.\n",
    "- **Adaptive pooling** odstraňuje závislost na přesné velikosti obrazu.\n",
    "- **Flexibilní vstup**: akceptuje i „rozflattenovaný“ vektor `[B, 1024]` a sám jej přetvaruje zpět na 28 × 28."
   ]
  },
  {
   "cell_type": "code",
   "source": [
    "import torch\n",
    "import torch.nn as nn\n",
    "import torch.nn.functional as F\n",
    "\n",
    "class VGG(nn.Module):\n",
    "    def __init__(self, num_classes: int = 10, in_channels: int = 1):\n",
    "        super().__init__()\n",
    "\n",
    "        def block(in_c, out_c):\n",
    "            return nn.Sequential(\n",
    "                nn.Conv2d(in_c, out_c, 3, padding=1, bias=False),\n",
    "                nn.BatchNorm2d(out_c),\n",
    "                nn.ReLU(inplace=True),\n",
    "\n",
    "                nn.Conv2d(out_c, out_c, 3, padding=1, bias=False),\n",
    "                nn.BatchNorm2d(out_c),\n",
    "                nn.ReLU(inplace=True),\n",
    "\n",
    "                nn.MaxPool2d(2)\n",
    "            )\n",
    "\n",
    "        self.features = nn.Sequential(\n",
    "            block(in_channels,  32),           # 28→14\n",
    "            block(32,            64),          # 14→7\n",
    "            block(64,           128),          # 7 →3\n",
    "        )\n",
    "\n",
    "        self.avgpool = nn.AdaptiveAvgPool2d((1, 1))\n",
    "\n",
    "        self.classifier = nn.Sequential(\n",
    "            nn.Flatten(),                      # →128\n",
    "            nn.Linear(128, 256),\n",
    "            nn.ReLU(inplace=True),\n",
    "            nn.Dropout(0.1),\n",
    "\n",
    "            nn.Linear(256, num_classes)\n",
    "        )\n",
    "\n",
    "    def forward(self, x):\n",
    "        if x.ndim == 2:\n",
    "            B, D = x.shape\n",
    "            side = int(D ** 0.5)\n",
    "            x = x.view(B, 1, side, side)\n",
    "\n",
    "        x = self.features(x)\n",
    "        x = self.avgpool(x)\n",
    "        logits = self.classifier(x)\n",
    "        return logits\n"
   ],
   "metadata": {
    "id": "emH7ltB5CTTp"
   },
   "execution_count": 61,
   "outputs": []
  },
  {
   "metadata": {},
   "cell_type": "markdown",
   "source": "### Ladění hyper-parametrů"
  },
  {
   "metadata": {},
   "cell_type": "markdown",
   "source": [
    "1. **Definice prostoru parametrů** (`param_grid`)\n",
    "\n",
    "   *Vyrábíme jej kartézským součtem dvou sad (`adamw_grid` + `sgd_grid`) a společného vstupu `data_input`.*\n",
    "\n",
    "   - **Optimalizátor** (`optim`) · `AdamW` **vs.** `SGD`\n",
    "   - **Learning-rate** (`lr`) · `1e-4` pro AdamW, `0.01` pro SGD\n",
    "   - **Weight-decay** (`weight_decay`) · `0.0` (AdamW) / `5e-4` (SGD)\n",
    "   - **LR-scheduler** (`lr_schedule`) · `cosine` *(případně `onecycle`)*\n",
    "   - **Momentum / Nesterov** (jen pro SGD) · `momentum = 0.9`, `nesterov = False`\n",
    "   - **Batch-size** (`batch size`) · `128`\n",
    "   - **Data** (`data`) · aktuálně Min-Max škálovaná verze (lze přepnout na Standard)\n",
    "\n",
    "2. **Iterace přes všechny kombinace** (`ParameterGrid`)\n",
    "\n",
    "3. **Sestavení a trénink modelu**\n",
    "\n",
    "4. **Vyhodnocení na validační sadě a uložení nejlepší varianty**"
   ]
  },
  {
   "cell_type": "code",
   "source": [
    "import torch.optim as optim\n",
    "adamw_grid = [\n",
    "    {\n",
    "        \"optim\"        : [\"AdamW\"],\n",
    "        \"lr\"           : [1e-4, 3e-4, 1e-3],\n",
    "        \"weight_decay\" : [0.0, 1e-4, 3e-4],\n",
    "        \"lr_schedule\"  : [\"cosine\", \"onecycle\"],\n",
    "    }\n",
    "]\n",
    "sgd_grid = [\n",
    "    {\n",
    "        \"optim\"        : [\"SGD\"],\n",
    "        \"lr\"           : [0.01, 0.05],\n",
    "        \"momentum\"     : [0.9],\n",
    "        \"nesterov\"     : [False, True],\n",
    "        \"weight_decay\" : [5e-4],\n",
    "        \"lr_schedule\"  : [\"cosine\", \"onecycle\"],\n",
    "    }\n",
    "]\n",
    "\n",
    "data_input = [ { \"data\"                : [[train_data, val_data], [train_data_MinMax_scaled, val_data_MinMax_scaled], [train_data_Standard_scaled, val_data_Standard_scaled]],\n",
    "                 \"batch size\"          : [128]}]\n",
    "\n",
    "param_grid = [\n",
    "    { **model_grid, **d }\n",
    "    for model_grid in (adamw_grid + sgd_grid)\n",
    "    for d in data_input\n",
    "]\n",
    "\n",
    "\n",
    "\n",
    "loss_fn = nn.CrossEntropyLoss()\n",
    "vgg_accurace = -1\n",
    "vgg_best_params = None\n",
    "epochs = 20\n",
    "vgg_best_model = None\n",
    "for parametrs in tqdm(ParameterGrid(param_grid)):\n",
    "    x_data, y_data = parametrs[\"data\"]\n",
    "    train_loader = torch.utils.data.DataLoader(x_data, batch_size=parametrs[\"batch size\"], shuffle=True)\n",
    "    val_loader = torch.utils.data.DataLoader(y_data, batch_size=parametrs[\"batch size\"], shuffle=False)\n",
    "\n",
    "    model = VGG28().to(device)\n",
    "    opt_cls  = getattr(torch.optim, parametrs[\"optim\"])\n",
    "    lr = parametrs[\"lr\"]\n",
    "    weight_decay = parametrs[\"weight_decay\"]\n",
    "    lr_schedule = parametrs[\"lr_schedule\"]\n",
    "    optim_1 = opt_cls(model.parameters(), lr=lr, weight_decay=weight_decay)\n",
    "    scheduler = None\n",
    "    if parametrs[\"lr_schedule\"] == \"cosine\":\n",
    "        scheduler = lr_scheduler.CosineAnnealingLR(\n",
    "            optim_1, T_max=epochs\n",
    "        )\n",
    "    elif parametrs[\"lr_schedule\"] == \"onecycle\":\n",
    "        scheduler = lr_scheduler.OneCycleLR(\n",
    "            optim_1,\n",
    "            max_lr=parametrs[\"lr\"] * 10,\n",
    "            steps_per_epoch=len(train_loader),\n",
    "            epochs=epochs,\n",
    "            pct_start=0.3\n",
    "        )\n",
    "    loss_fn = CrossEntropyLoss()\n",
    "    _, val_accs_2 = train_epochs(model=model, loss_fn=loss_fn, train_loader=train_loader, optimizer=optim_1, epochs=epochs, evaluated=False, scheduler=scheduler)\n",
    "    accuracy, _  = evaluate(model, val_loader, loss_fn)\n",
    "    if vgg_accurace < accuracy:\n",
    "        vgg_accurace =  accuracy\n",
    "        vgg_best_model = model\n",
    "        vgg_best_params = parametrs\n",
    "vgg_accurace"
   ],
   "metadata": {
    "colab": {
     "base_uri": "https://localhost:8080/"
    },
    "id": "JnwcY1VDCcbe",
    "outputId": "c27d4412-f4a6-40ba-cd65-93bcfd3b35c8"
   },
   "execution_count": 62,
   "outputs": [
    {
     "output_type": "stream",
     "name": "stderr",
     "text": [
      "100%|██████████| 78/78 [41:29<00:00, 31.92s/it]\n"
     ]
    },
    {
     "output_type": "execute_result",
     "data": {
      "text/plain": [
       "0.9239455782312925"
      ]
     },
     "metadata": {},
     "execution_count": 62
    }
   ]
  },
  {
   "metadata": {},
   "cell_type": "markdown",
   "source": "Nejlepší model má přesnost na validační množíně :"
  },
  {
   "cell_type": "code",
   "source": [
    "vgg_accurace"
   ],
   "metadata": {
    "colab": {
     "base_uri": "https://localhost:8080/"
    },
    "id": "HvinQffVCgE9",
    "outputId": "eb17e3da-9e1e-433e-a5ad-16a36193a6bf"
   },
   "execution_count": 89,
   "outputs": [
    {
     "output_type": "execute_result",
     "data": {
      "text/plain": [
       "0.9239455782312925"
      ]
     },
     "metadata": {},
     "execution_count": 89
    }
   ]
  },
  {
   "metadata": {},
   "cell_type": "markdown",
   "source": "Uložíme případně nejlepší model."
  },
  {
   "metadata": {
    "colab": {
     "base_uri": "https://localhost:8080/",
     "height": 35
    },
    "id": "3yAwZnAor_cu",
    "outputId": "c70a8bde-a212-4aea-9fe2-2cb568b25bb6"
   },
   "cell_type": "code",
   "outputs": [
    {
     "output_type": "execute_result",
     "data": {
      "text/plain": [
       "'/content/drive/My Drive/Colab Notebooks/BestModels/best_model_vgg.pt'"
      ],
      "application/vnd.google.colaboratory.intrinsic+json": {
       "type": "string"
      }
     },
     "metadata": {},
     "execution_count": 64
    }
   ],
   "execution_count": 64,
   "source": [
    "file_path_best_models_vgg = file_path_best_models + \"/best_model_vgg.pt\"\n",
    "file_path_best_models_vgg"
   ]
  },
  {
   "cell_type": "code",
   "source": [
    "torch.save(vgg_best_model.state_dict(), file_path_best_models_vgg)"
   ],
   "metadata": {
    "id": "nxONuYRMMOZi"
   },
   "execution_count": 65,
   "outputs": []
  },
  {
   "cell_type": "markdown",
   "source": [
    "# Volba modelu"
   ],
   "metadata": {
    "id": "VJz_cl7YMygh"
   }
  },
  {
   "metadata": {},
   "cell_type": "markdown",
   "source": "Podíváme se na validační množinu tří modelu (dopředné neuronové síťě, konvoluční síťě prvního a druhé typu).\n"
  },
  {
   "cell_type": "code",
   "source": [
    "best_score_fnn_val, best_score_conv_val,vgg_accurace"
   ],
   "metadata": {
    "colab": {
     "base_uri": "https://localhost:8080/"
    },
    "id": "mi5Ykj2SM0JY",
    "outputId": "fa0f6f2d-99b2-4a7a-a262-367a3dc5043b"
   },
   "execution_count": 67,
   "outputs": [
    {
     "output_type": "execute_result",
     "data": {
      "text/plain": [
       "(0.8091836734693878, 0.894421768707483, 0.9239455782312925)"
      ]
     },
     "metadata": {},
     "execution_count": 67
    }
   ]
  },
  {
   "metadata": {},
   "cell_type": "markdown",
   "source": "VGG-style síť vyhrává."
  },
  {
   "metadata": {},
   "cell_type": "markdown",
   "source": "Teď uděláme predikci na testovacích datech."
  },
  {
   "cell_type": "code",
   "source": [
    "vgg_best_params"
   ],
   "metadata": {
    "colab": {
     "base_uri": "https://localhost:8080/"
    },
    "id": "1KtK9Q6NM25w",
    "outputId": "060f385f-4c79-49ae-afaf-6af7366ae867"
   },
   "execution_count": 68,
   "outputs": [
    {
     "output_type": "execute_result",
     "data": {
      "text/plain": [
       "{'batch size': 128,\n",
       " 'data': [<torch.utils.data.dataset.TensorDataset at 0x7dd9d7f19590>,\n",
       "  <torch.utils.data.dataset.TensorDataset at 0x7dda18160990>],\n",
       " 'lr': 0.05,\n",
       " 'lr_schedule': 'onecycle',\n",
       " 'momentum': 0.9,\n",
       " 'nesterov': True,\n",
       " 'optim': 'SGD',\n",
       " 'weight_decay': 0.0005}"
      ]
     },
     "metadata": {},
     "execution_count": 68
    }
   ]
  },
  {
   "metadata": {},
   "cell_type": "markdown",
   "source": "Podíváme, jestli model potřebuje standardizaci nebo normalizaci k tomu, aby mohl predikovat. Případně ji uděláme.\n"
  },
  {
   "cell_type": "code",
   "source": [
    "print(train_data_MinMax_scaled == vgg_best_params[\"data\"][0])\n",
    "print(train_data_Standard_scaled == vgg_best_params[\"data\"][0])\n",
    "print(train_data == vgg_best_params[\"data\"][0])"
   ],
   "metadata": {
    "colab": {
     "base_uri": "https://localhost:8080/"
    },
    "id": "o_G8wldiM6JB",
    "outputId": "0b515997-a6e3-471b-b82b-553dc5136edd"
   },
   "execution_count": 71,
   "outputs": [
    {
     "output_type": "stream",
     "name": "stdout",
     "text": [
      "True\n",
      "False\n",
      "False\n"
     ]
    }
   ]
  },
  {
   "cell_type": "code",
   "source": [
    "X_train_t, y_train_t = train_data.tensors\n",
    "X_train_np = X_train_t.detach().cpu().numpy()"
   ],
   "metadata": {
    "id": "VE005JBtNYQd"
   },
   "execution_count": 72,
   "outputs": []
  },
  {
   "cell_type": "code",
   "source": [
    "temp_min_max_scaler = MinMaxScaler()\n",
    "temp_min_max_scaler.fit(X_train_np)\n",
    "temp_transformed = temp_min_max_scaler.transform(Xtest.to_numpy())\n",
    "test_data = TensorDataset( torch.Tensor(temp_transformed.astype(np.float32)).to(device), torch.from_numpy(ytest.to_numpy()).long().to(device) )"
   ],
   "metadata": {
    "id": "0umQ7uLBNNSc"
   },
   "execution_count": 74,
   "outputs": []
  },
  {
   "metadata": {},
   "cell_type": "markdown",
   "source": "Na testovací množíně jsme získali přesnost 92,2%. Druhé číslo, kolem 7%, je doplňěk přesnosti. Říká jen, kolik nám chybí do 100%."
  },
  {
   "cell_type": "code",
   "source": [
    "test_loader = torch.utils.data.DataLoader(test_data, batch_size=vgg_best_params[\"batch size\"], shuffle=False)\n",
    "loss_fn = CrossEntropyLoss()\n",
    "evaluate(vgg_best_model, test_loader, loss_fn=loss_fn)"
   ],
   "metadata": {
    "colab": {
     "base_uri": "https://localhost:8080/"
    },
    "id": "0B59awYRNgK7",
    "outputId": "29c5806a-0680-47b3-9f4c-879eb5f62b3a"
   },
   "execution_count": 75,
   "outputs": [
    {
     "output_type": "execute_result",
     "data": {
      "text/plain": [
       "(0.922063492063492, 0.07793650793650797)"
      ]
     },
     "metadata": {},
     "execution_count": 75
    }
   ]
  },
  {
   "cell_type": "markdown",
   "source": [
    "# Vyhodnocavací data"
   ],
   "metadata": {
    "id": "3jyS5DbfMmWq"
   }
  },
  {
   "metadata": {},
   "cell_type": "markdown",
   "source": " Nejdříve načteme soubor."
  },
  {
   "cell_type": "code",
   "source": [
    "file_path_evaluate = \"/content/drive/My Drive/Colab Notebooks/evaluate.csv\""
   ],
   "metadata": {
    "id": "cL2Q9_NQMRDN"
   },
   "execution_count": 77,
   "outputs": []
  },
  {
   "cell_type": "code",
   "source": [
    "eval = pd.read_csv(file_path_evaluate)\n",
    "eval"
   ],
   "metadata": {
    "colab": {
     "base_uri": "https://localhost:8080/",
     "height": 419
    },
    "id": "dCq81u7pMdT1",
    "outputId": "94abd061-411d-4469-819f-6686d37fafd0"
   },
   "execution_count": 78,
   "outputs": [
    {
     "output_type": "execute_result",
     "data": {
      "text/plain": [
       "          ID  pix1  pix2  pix3  pix4  pix5  pix6  pix7  pix8  pix9  ...  \\\n",
       "0          0     0     0     0     0     0     0     0     0     0  ...   \n",
       "1          1     0     0     0     0     0     0     0     0     0  ...   \n",
       "2          2     0     0     0     0     0     0     0     0     0  ...   \n",
       "3          3     3     3     3     3     3     3     3     3     3  ...   \n",
       "4          4     0     0     0     0     0     0     0     0     0  ...   \n",
       "...      ...   ...   ...   ...   ...   ...   ...   ...   ...   ...  ...   \n",
       "17495  17495     2     2     2     2     2     2     2     2     2  ...   \n",
       "17496  17496     0     0     0     0     0     0     0     0     0  ...   \n",
       "17497  17497     0     0     0     0     0     0     0     0     0  ...   \n",
       "17498  17498     1     1     1     1     1     1     1     1     1  ...   \n",
       "17499  17499     0     0     0     0     0     0     0     0     0  ...   \n",
       "\n",
       "       pix1015  pix1016  pix1017  pix1018  pix1019  pix1020  pix1021  pix1022  \\\n",
       "0            0        0        0        0        0        0        0        0   \n",
       "1            0        0        0        0        0        0        0        0   \n",
       "2            0        0        0        0        0        0        0        0   \n",
       "3            3        3        3        3        3        3        3        3   \n",
       "4            0        0        0        0        0        0        0        0   \n",
       "...        ...      ...      ...      ...      ...      ...      ...      ...   \n",
       "17495        2        2        2        2        2        2        2        2   \n",
       "17496        0        0        0        0        0        0        0        0   \n",
       "17497        0        0        0        0        0        0        0        0   \n",
       "17498        1        1        1        1        1        1        1        1   \n",
       "17499        0        0        0        0        0        0        0        0   \n",
       "\n",
       "       pix1023  pix1024  \n",
       "0            0        0  \n",
       "1            0        0  \n",
       "2            0        0  \n",
       "3            3        3  \n",
       "4            0        0  \n",
       "...        ...      ...  \n",
       "17495        2        2  \n",
       "17496        0        0  \n",
       "17497        0        0  \n",
       "17498        1        1  \n",
       "17499        0        0  \n",
       "\n",
       "[17500 rows x 1025 columns]"
      ],
      "text/html": [
       "\n",
       "  <div id=\"df-0b484e59-8708-4162-9c0c-44342648a936\" class=\"colab-df-container\">\n",
       "    <div>\n",
       "<style scoped>\n",
       "    .dataframe tbody tr th:only-of-type {\n",
       "        vertical-align: middle;\n",
       "    }\n",
       "\n",
       "    .dataframe tbody tr th {\n",
       "        vertical-align: top;\n",
       "    }\n",
       "\n",
       "    .dataframe thead th {\n",
       "        text-align: right;\n",
       "    }\n",
       "</style>\n",
       "<table border=\"1\" class=\"dataframe\">\n",
       "  <thead>\n",
       "    <tr style=\"text-align: right;\">\n",
       "      <th></th>\n",
       "      <th>ID</th>\n",
       "      <th>pix1</th>\n",
       "      <th>pix2</th>\n",
       "      <th>pix3</th>\n",
       "      <th>pix4</th>\n",
       "      <th>pix5</th>\n",
       "      <th>pix6</th>\n",
       "      <th>pix7</th>\n",
       "      <th>pix8</th>\n",
       "      <th>pix9</th>\n",
       "      <th>...</th>\n",
       "      <th>pix1015</th>\n",
       "      <th>pix1016</th>\n",
       "      <th>pix1017</th>\n",
       "      <th>pix1018</th>\n",
       "      <th>pix1019</th>\n",
       "      <th>pix1020</th>\n",
       "      <th>pix1021</th>\n",
       "      <th>pix1022</th>\n",
       "      <th>pix1023</th>\n",
       "      <th>pix1024</th>\n",
       "    </tr>\n",
       "  </thead>\n",
       "  <tbody>\n",
       "    <tr>\n",
       "      <th>0</th>\n",
       "      <td>0</td>\n",
       "      <td>0</td>\n",
       "      <td>0</td>\n",
       "      <td>0</td>\n",
       "      <td>0</td>\n",
       "      <td>0</td>\n",
       "      <td>0</td>\n",
       "      <td>0</td>\n",
       "      <td>0</td>\n",
       "      <td>0</td>\n",
       "      <td>...</td>\n",
       "      <td>0</td>\n",
       "      <td>0</td>\n",
       "      <td>0</td>\n",
       "      <td>0</td>\n",
       "      <td>0</td>\n",
       "      <td>0</td>\n",
       "      <td>0</td>\n",
       "      <td>0</td>\n",
       "      <td>0</td>\n",
       "      <td>0</td>\n",
       "    </tr>\n",
       "    <tr>\n",
       "      <th>1</th>\n",
       "      <td>1</td>\n",
       "      <td>0</td>\n",
       "      <td>0</td>\n",
       "      <td>0</td>\n",
       "      <td>0</td>\n",
       "      <td>0</td>\n",
       "      <td>0</td>\n",
       "      <td>0</td>\n",
       "      <td>0</td>\n",
       "      <td>0</td>\n",
       "      <td>...</td>\n",
       "      <td>0</td>\n",
       "      <td>0</td>\n",
       "      <td>0</td>\n",
       "      <td>0</td>\n",
       "      <td>0</td>\n",
       "      <td>0</td>\n",
       "      <td>0</td>\n",
       "      <td>0</td>\n",
       "      <td>0</td>\n",
       "      <td>0</td>\n",
       "    </tr>\n",
       "    <tr>\n",
       "      <th>2</th>\n",
       "      <td>2</td>\n",
       "      <td>0</td>\n",
       "      <td>0</td>\n",
       "      <td>0</td>\n",
       "      <td>0</td>\n",
       "      <td>0</td>\n",
       "      <td>0</td>\n",
       "      <td>0</td>\n",
       "      <td>0</td>\n",
       "      <td>0</td>\n",
       "      <td>...</td>\n",
       "      <td>0</td>\n",
       "      <td>0</td>\n",
       "      <td>0</td>\n",
       "      <td>0</td>\n",
       "      <td>0</td>\n",
       "      <td>0</td>\n",
       "      <td>0</td>\n",
       "      <td>0</td>\n",
       "      <td>0</td>\n",
       "      <td>0</td>\n",
       "    </tr>\n",
       "    <tr>\n",
       "      <th>3</th>\n",
       "      <td>3</td>\n",
       "      <td>3</td>\n",
       "      <td>3</td>\n",
       "      <td>3</td>\n",
       "      <td>3</td>\n",
       "      <td>3</td>\n",
       "      <td>3</td>\n",
       "      <td>3</td>\n",
       "      <td>3</td>\n",
       "      <td>3</td>\n",
       "      <td>...</td>\n",
       "      <td>3</td>\n",
       "      <td>3</td>\n",
       "      <td>3</td>\n",
       "      <td>3</td>\n",
       "      <td>3</td>\n",
       "      <td>3</td>\n",
       "      <td>3</td>\n",
       "      <td>3</td>\n",
       "      <td>3</td>\n",
       "      <td>3</td>\n",
       "    </tr>\n",
       "    <tr>\n",
       "      <th>4</th>\n",
       "      <td>4</td>\n",
       "      <td>0</td>\n",
       "      <td>0</td>\n",
       "      <td>0</td>\n",
       "      <td>0</td>\n",
       "      <td>0</td>\n",
       "      <td>0</td>\n",
       "      <td>0</td>\n",
       "      <td>0</td>\n",
       "      <td>0</td>\n",
       "      <td>...</td>\n",
       "      <td>0</td>\n",
       "      <td>0</td>\n",
       "      <td>0</td>\n",
       "      <td>0</td>\n",
       "      <td>0</td>\n",
       "      <td>0</td>\n",
       "      <td>0</td>\n",
       "      <td>0</td>\n",
       "      <td>0</td>\n",
       "      <td>0</td>\n",
       "    </tr>\n",
       "    <tr>\n",
       "      <th>...</th>\n",
       "      <td>...</td>\n",
       "      <td>...</td>\n",
       "      <td>...</td>\n",
       "      <td>...</td>\n",
       "      <td>...</td>\n",
       "      <td>...</td>\n",
       "      <td>...</td>\n",
       "      <td>...</td>\n",
       "      <td>...</td>\n",
       "      <td>...</td>\n",
       "      <td>...</td>\n",
       "      <td>...</td>\n",
       "      <td>...</td>\n",
       "      <td>...</td>\n",
       "      <td>...</td>\n",
       "      <td>...</td>\n",
       "      <td>...</td>\n",
       "      <td>...</td>\n",
       "      <td>...</td>\n",
       "      <td>...</td>\n",
       "      <td>...</td>\n",
       "    </tr>\n",
       "    <tr>\n",
       "      <th>17495</th>\n",
       "      <td>17495</td>\n",
       "      <td>2</td>\n",
       "      <td>2</td>\n",
       "      <td>2</td>\n",
       "      <td>2</td>\n",
       "      <td>2</td>\n",
       "      <td>2</td>\n",
       "      <td>2</td>\n",
       "      <td>2</td>\n",
       "      <td>2</td>\n",
       "      <td>...</td>\n",
       "      <td>2</td>\n",
       "      <td>2</td>\n",
       "      <td>2</td>\n",
       "      <td>2</td>\n",
       "      <td>2</td>\n",
       "      <td>2</td>\n",
       "      <td>2</td>\n",
       "      <td>2</td>\n",
       "      <td>2</td>\n",
       "      <td>2</td>\n",
       "    </tr>\n",
       "    <tr>\n",
       "      <th>17496</th>\n",
       "      <td>17496</td>\n",
       "      <td>0</td>\n",
       "      <td>0</td>\n",
       "      <td>0</td>\n",
       "      <td>0</td>\n",
       "      <td>0</td>\n",
       "      <td>0</td>\n",
       "      <td>0</td>\n",
       "      <td>0</td>\n",
       "      <td>0</td>\n",
       "      <td>...</td>\n",
       "      <td>0</td>\n",
       "      <td>0</td>\n",
       "      <td>0</td>\n",
       "      <td>0</td>\n",
       "      <td>0</td>\n",
       "      <td>0</td>\n",
       "      <td>0</td>\n",
       "      <td>0</td>\n",
       "      <td>0</td>\n",
       "      <td>0</td>\n",
       "    </tr>\n",
       "    <tr>\n",
       "      <th>17497</th>\n",
       "      <td>17497</td>\n",
       "      <td>0</td>\n",
       "      <td>0</td>\n",
       "      <td>0</td>\n",
       "      <td>0</td>\n",
       "      <td>0</td>\n",
       "      <td>0</td>\n",
       "      <td>0</td>\n",
       "      <td>0</td>\n",
       "      <td>0</td>\n",
       "      <td>...</td>\n",
       "      <td>0</td>\n",
       "      <td>0</td>\n",
       "      <td>0</td>\n",
       "      <td>0</td>\n",
       "      <td>0</td>\n",
       "      <td>0</td>\n",
       "      <td>0</td>\n",
       "      <td>0</td>\n",
       "      <td>0</td>\n",
       "      <td>0</td>\n",
       "    </tr>\n",
       "    <tr>\n",
       "      <th>17498</th>\n",
       "      <td>17498</td>\n",
       "      <td>1</td>\n",
       "      <td>1</td>\n",
       "      <td>1</td>\n",
       "      <td>1</td>\n",
       "      <td>1</td>\n",
       "      <td>1</td>\n",
       "      <td>1</td>\n",
       "      <td>1</td>\n",
       "      <td>1</td>\n",
       "      <td>...</td>\n",
       "      <td>1</td>\n",
       "      <td>1</td>\n",
       "      <td>1</td>\n",
       "      <td>1</td>\n",
       "      <td>1</td>\n",
       "      <td>1</td>\n",
       "      <td>1</td>\n",
       "      <td>1</td>\n",
       "      <td>1</td>\n",
       "      <td>1</td>\n",
       "    </tr>\n",
       "    <tr>\n",
       "      <th>17499</th>\n",
       "      <td>17499</td>\n",
       "      <td>0</td>\n",
       "      <td>0</td>\n",
       "      <td>0</td>\n",
       "      <td>0</td>\n",
       "      <td>0</td>\n",
       "      <td>0</td>\n",
       "      <td>0</td>\n",
       "      <td>0</td>\n",
       "      <td>0</td>\n",
       "      <td>...</td>\n",
       "      <td>0</td>\n",
       "      <td>0</td>\n",
       "      <td>0</td>\n",
       "      <td>0</td>\n",
       "      <td>0</td>\n",
       "      <td>0</td>\n",
       "      <td>0</td>\n",
       "      <td>0</td>\n",
       "      <td>0</td>\n",
       "      <td>0</td>\n",
       "    </tr>\n",
       "  </tbody>\n",
       "</table>\n",
       "<p>17500 rows × 1025 columns</p>\n",
       "</div>\n",
       "    <div class=\"colab-df-buttons\">\n",
       "\n",
       "  <div class=\"colab-df-container\">\n",
       "    <button class=\"colab-df-convert\" onclick=\"convertToInteractive('df-0b484e59-8708-4162-9c0c-44342648a936')\"\n",
       "            title=\"Convert this dataframe to an interactive table.\"\n",
       "            style=\"display:none;\">\n",
       "\n",
       "  <svg xmlns=\"http://www.w3.org/2000/svg\" height=\"24px\" viewBox=\"0 -960 960 960\">\n",
       "    <path d=\"M120-120v-720h720v720H120Zm60-500h600v-160H180v160Zm220 220h160v-160H400v160Zm0 220h160v-160H400v160ZM180-400h160v-160H180v160Zm440 0h160v-160H620v160ZM180-180h160v-160H180v160Zm440 0h160v-160H620v160Z\"/>\n",
       "  </svg>\n",
       "    </button>\n",
       "\n",
       "  <style>\n",
       "    .colab-df-container {\n",
       "      display:flex;\n",
       "      gap: 12px;\n",
       "    }\n",
       "\n",
       "    .colab-df-convert {\n",
       "      background-color: #E8F0FE;\n",
       "      border: none;\n",
       "      border-radius: 50%;\n",
       "      cursor: pointer;\n",
       "      display: none;\n",
       "      fill: #1967D2;\n",
       "      height: 32px;\n",
       "      padding: 0 0 0 0;\n",
       "      width: 32px;\n",
       "    }\n",
       "\n",
       "    .colab-df-convert:hover {\n",
       "      background-color: #E2EBFA;\n",
       "      box-shadow: 0px 1px 2px rgba(60, 64, 67, 0.3), 0px 1px 3px 1px rgba(60, 64, 67, 0.15);\n",
       "      fill: #174EA6;\n",
       "    }\n",
       "\n",
       "    .colab-df-buttons div {\n",
       "      margin-bottom: 4px;\n",
       "    }\n",
       "\n",
       "    [theme=dark] .colab-df-convert {\n",
       "      background-color: #3B4455;\n",
       "      fill: #D2E3FC;\n",
       "    }\n",
       "\n",
       "    [theme=dark] .colab-df-convert:hover {\n",
       "      background-color: #434B5C;\n",
       "      box-shadow: 0px 1px 3px 1px rgba(0, 0, 0, 0.15);\n",
       "      filter: drop-shadow(0px 1px 2px rgba(0, 0, 0, 0.3));\n",
       "      fill: #FFFFFF;\n",
       "    }\n",
       "  </style>\n",
       "\n",
       "    <script>\n",
       "      const buttonEl =\n",
       "        document.querySelector('#df-0b484e59-8708-4162-9c0c-44342648a936 button.colab-df-convert');\n",
       "      buttonEl.style.display =\n",
       "        google.colab.kernel.accessAllowed ? 'block' : 'none';\n",
       "\n",
       "      async function convertToInteractive(key) {\n",
       "        const element = document.querySelector('#df-0b484e59-8708-4162-9c0c-44342648a936');\n",
       "        const dataTable =\n",
       "          await google.colab.kernel.invokeFunction('convertToInteractive',\n",
       "                                                    [key], {});\n",
       "        if (!dataTable) return;\n",
       "\n",
       "        const docLinkHtml = 'Like what you see? Visit the ' +\n",
       "          '<a target=\"_blank\" href=https://colab.research.google.com/notebooks/data_table.ipynb>data table notebook</a>'\n",
       "          + ' to learn more about interactive tables.';\n",
       "        element.innerHTML = '';\n",
       "        dataTable['output_type'] = 'display_data';\n",
       "        await google.colab.output.renderOutput(dataTable, element);\n",
       "        const docLink = document.createElement('div');\n",
       "        docLink.innerHTML = docLinkHtml;\n",
       "        element.appendChild(docLink);\n",
       "      }\n",
       "    </script>\n",
       "  </div>\n",
       "\n",
       "\n",
       "    <div id=\"df-f87329e7-81b7-4aff-b92a-294f9b45a7f5\">\n",
       "      <button class=\"colab-df-quickchart\" onclick=\"quickchart('df-f87329e7-81b7-4aff-b92a-294f9b45a7f5')\"\n",
       "                title=\"Suggest charts\"\n",
       "                style=\"display:none;\">\n",
       "\n",
       "<svg xmlns=\"http://www.w3.org/2000/svg\" height=\"24px\"viewBox=\"0 0 24 24\"\n",
       "     width=\"24px\">\n",
       "    <g>\n",
       "        <path d=\"M19 3H5c-1.1 0-2 .9-2 2v14c0 1.1.9 2 2 2h14c1.1 0 2-.9 2-2V5c0-1.1-.9-2-2-2zM9 17H7v-7h2v7zm4 0h-2V7h2v10zm4 0h-2v-4h2v4z\"/>\n",
       "    </g>\n",
       "</svg>\n",
       "      </button>\n",
       "\n",
       "<style>\n",
       "  .colab-df-quickchart {\n",
       "      --bg-color: #E8F0FE;\n",
       "      --fill-color: #1967D2;\n",
       "      --hover-bg-color: #E2EBFA;\n",
       "      --hover-fill-color: #174EA6;\n",
       "      --disabled-fill-color: #AAA;\n",
       "      --disabled-bg-color: #DDD;\n",
       "  }\n",
       "\n",
       "  [theme=dark] .colab-df-quickchart {\n",
       "      --bg-color: #3B4455;\n",
       "      --fill-color: #D2E3FC;\n",
       "      --hover-bg-color: #434B5C;\n",
       "      --hover-fill-color: #FFFFFF;\n",
       "      --disabled-bg-color: #3B4455;\n",
       "      --disabled-fill-color: #666;\n",
       "  }\n",
       "\n",
       "  .colab-df-quickchart {\n",
       "    background-color: var(--bg-color);\n",
       "    border: none;\n",
       "    border-radius: 50%;\n",
       "    cursor: pointer;\n",
       "    display: none;\n",
       "    fill: var(--fill-color);\n",
       "    height: 32px;\n",
       "    padding: 0;\n",
       "    width: 32px;\n",
       "  }\n",
       "\n",
       "  .colab-df-quickchart:hover {\n",
       "    background-color: var(--hover-bg-color);\n",
       "    box-shadow: 0 1px 2px rgba(60, 64, 67, 0.3), 0 1px 3px 1px rgba(60, 64, 67, 0.15);\n",
       "    fill: var(--button-hover-fill-color);\n",
       "  }\n",
       "\n",
       "  .colab-df-quickchart-complete:disabled,\n",
       "  .colab-df-quickchart-complete:disabled:hover {\n",
       "    background-color: var(--disabled-bg-color);\n",
       "    fill: var(--disabled-fill-color);\n",
       "    box-shadow: none;\n",
       "  }\n",
       "\n",
       "  .colab-df-spinner {\n",
       "    border: 2px solid var(--fill-color);\n",
       "    border-color: transparent;\n",
       "    border-bottom-color: var(--fill-color);\n",
       "    animation:\n",
       "      spin 1s steps(1) infinite;\n",
       "  }\n",
       "\n",
       "  @keyframes spin {\n",
       "    0% {\n",
       "      border-color: transparent;\n",
       "      border-bottom-color: var(--fill-color);\n",
       "      border-left-color: var(--fill-color);\n",
       "    }\n",
       "    20% {\n",
       "      border-color: transparent;\n",
       "      border-left-color: var(--fill-color);\n",
       "      border-top-color: var(--fill-color);\n",
       "    }\n",
       "    30% {\n",
       "      border-color: transparent;\n",
       "      border-left-color: var(--fill-color);\n",
       "      border-top-color: var(--fill-color);\n",
       "      border-right-color: var(--fill-color);\n",
       "    }\n",
       "    40% {\n",
       "      border-color: transparent;\n",
       "      border-right-color: var(--fill-color);\n",
       "      border-top-color: var(--fill-color);\n",
       "    }\n",
       "    60% {\n",
       "      border-color: transparent;\n",
       "      border-right-color: var(--fill-color);\n",
       "    }\n",
       "    80% {\n",
       "      border-color: transparent;\n",
       "      border-right-color: var(--fill-color);\n",
       "      border-bottom-color: var(--fill-color);\n",
       "    }\n",
       "    90% {\n",
       "      border-color: transparent;\n",
       "      border-bottom-color: var(--fill-color);\n",
       "    }\n",
       "  }\n",
       "</style>\n",
       "\n",
       "      <script>\n",
       "        async function quickchart(key) {\n",
       "          const quickchartButtonEl =\n",
       "            document.querySelector('#' + key + ' button');\n",
       "          quickchartButtonEl.disabled = true;  // To prevent multiple clicks.\n",
       "          quickchartButtonEl.classList.add('colab-df-spinner');\n",
       "          try {\n",
       "            const charts = await google.colab.kernel.invokeFunction(\n",
       "                'suggestCharts', [key], {});\n",
       "          } catch (error) {\n",
       "            console.error('Error during call to suggestCharts:', error);\n",
       "          }\n",
       "          quickchartButtonEl.classList.remove('colab-df-spinner');\n",
       "          quickchartButtonEl.classList.add('colab-df-quickchart-complete');\n",
       "        }\n",
       "        (() => {\n",
       "          let quickchartButtonEl =\n",
       "            document.querySelector('#df-f87329e7-81b7-4aff-b92a-294f9b45a7f5 button');\n",
       "          quickchartButtonEl.style.display =\n",
       "            google.colab.kernel.accessAllowed ? 'block' : 'none';\n",
       "        })();\n",
       "      </script>\n",
       "    </div>\n",
       "\n",
       "  <div id=\"id_f9b5b572-dbe7-4dc6-8328-c6d42c743c8f\">\n",
       "    <style>\n",
       "      .colab-df-generate {\n",
       "        background-color: #E8F0FE;\n",
       "        border: none;\n",
       "        border-radius: 50%;\n",
       "        cursor: pointer;\n",
       "        display: none;\n",
       "        fill: #1967D2;\n",
       "        height: 32px;\n",
       "        padding: 0 0 0 0;\n",
       "        width: 32px;\n",
       "      }\n",
       "\n",
       "      .colab-df-generate:hover {\n",
       "        background-color: #E2EBFA;\n",
       "        box-shadow: 0px 1px 2px rgba(60, 64, 67, 0.3), 0px 1px 3px 1px rgba(60, 64, 67, 0.15);\n",
       "        fill: #174EA6;\n",
       "      }\n",
       "\n",
       "      [theme=dark] .colab-df-generate {\n",
       "        background-color: #3B4455;\n",
       "        fill: #D2E3FC;\n",
       "      }\n",
       "\n",
       "      [theme=dark] .colab-df-generate:hover {\n",
       "        background-color: #434B5C;\n",
       "        box-shadow: 0px 1px 3px 1px rgba(0, 0, 0, 0.15);\n",
       "        filter: drop-shadow(0px 1px 2px rgba(0, 0, 0, 0.3));\n",
       "        fill: #FFFFFF;\n",
       "      }\n",
       "    </style>\n",
       "    <button class=\"colab-df-generate\" onclick=\"generateWithVariable('eval')\"\n",
       "            title=\"Generate code using this dataframe.\"\n",
       "            style=\"display:none;\">\n",
       "\n",
       "  <svg xmlns=\"http://www.w3.org/2000/svg\" height=\"24px\"viewBox=\"0 0 24 24\"\n",
       "       width=\"24px\">\n",
       "    <path d=\"M7,19H8.4L18.45,9,17,7.55,7,17.6ZM5,21V16.75L18.45,3.32a2,2,0,0,1,2.83,0l1.4,1.43a1.91,1.91,0,0,1,.58,1.4,1.91,1.91,0,0,1-.58,1.4L9.25,21ZM18.45,9,17,7.55Zm-12,3A5.31,5.31,0,0,0,4.9,8.1,5.31,5.31,0,0,0,1,6.5,5.31,5.31,0,0,0,4.9,4.9,5.31,5.31,0,0,0,6.5,1,5.31,5.31,0,0,0,8.1,4.9,5.31,5.31,0,0,0,12,6.5,5.46,5.46,0,0,0,6.5,12Z\"/>\n",
       "  </svg>\n",
       "    </button>\n",
       "    <script>\n",
       "      (() => {\n",
       "      const buttonEl =\n",
       "        document.querySelector('#id_f9b5b572-dbe7-4dc6-8328-c6d42c743c8f button.colab-df-generate');\n",
       "      buttonEl.style.display =\n",
       "        google.colab.kernel.accessAllowed ? 'block' : 'none';\n",
       "\n",
       "      buttonEl.onclick = () => {\n",
       "        google.colab.notebook.generateWithVariable('eval');\n",
       "      }\n",
       "      })();\n",
       "    </script>\n",
       "  </div>\n",
       "\n",
       "    </div>\n",
       "  </div>\n"
      ],
      "application/vnd.google.colaboratory.intrinsic+json": {
       "type": "dataframe",
       "variable_name": "eval"
      }
     },
     "metadata": {},
     "execution_count": 78
    }
   ]
  },
  {
   "cell_type": "code",
   "source": [
    "image = eval.iloc[:, 1:]\n",
    "ids = eval.iloc[:, 0]"
   ],
   "metadata": {
    "id": "kxdgTj0ZOa0O"
   },
   "execution_count": 79,
   "outputs": []
  },
  {
   "metadata": {},
   "cell_type": "markdown",
   "source": "Aplikujeme na vstupní obrázky transformaci, aby mohl nejlepší model predikovat."
  },
  {
   "cell_type": "code",
   "source": [
    "temp_min_max_scaler_transformed = temp_min_max_scaler.transform(image.to_numpy())"
   ],
   "metadata": {
    "id": "xyBNIGPZOHKR"
   },
   "execution_count": 80,
   "outputs": []
  },
  {
   "cell_type": "code",
   "source": [
    "eval_dataset = TensorDataset(torch.Tensor(temp_min_max_scaler_transformed.astype(np.float32)).to(device))\n",
    "eval_loader  = DataLoader( eval_dataset, batch_size=128, shuffle=False)"
   ],
   "metadata": {
    "id": "0L_KCQ6AOby8"
   },
   "execution_count": 81,
   "outputs": []
  },
  {
   "metadata": {},
   "cell_type": "markdown",
   "source": "Spočítáme predikce pro data ze souboru evaluate.csv, zobrázíme si výsledky predikce a uložíme si je do result.csv."
  },
  {
   "cell_type": "code",
   "source": [
    "vgg_best_model.eval()\n",
    "all_preds = []\n",
    "with torch.no_grad():\n",
    "    for batch in eval_loader:\n",
    "        x_batch = batch[0]\n",
    "        logits  = vgg_best_model(x_batch)\n",
    "        preds   = logits.argmax(dim=1).cpu().numpy()\n",
    "        all_preds.extend(preds)\n",
    "\n",
    "res = pd.DataFrame({\n",
    "    \"ID\":    ids,\n",
    "    \"label\": all_preds\n",
    "})"
   ],
   "metadata": {
    "id": "oHIn5szLOkAS"
   },
   "execution_count": 82,
   "outputs": []
  },
  {
   "cell_type": "code",
   "source": [
    "res.iloc[:10,:]"
   ],
   "metadata": {
    "colab": {
     "base_uri": "https://localhost:8080/",
     "height": 359
    },
    "id": "XG3Qdas8OmUy",
    "outputId": "ca8affe4-53f4-4bed-894e-cd1c4eee7d38"
   },
   "execution_count": 83,
   "outputs": [
    {
     "output_type": "execute_result",
     "data": {
      "text/plain": [
       "   ID  label\n",
       "0   0      4\n",
       "1   1      8\n",
       "2   2      5\n",
       "3   3      0\n",
       "4   4      3\n",
       "5   5      4\n",
       "6   6      7\n",
       "7   7      7\n",
       "8   8      8\n",
       "9   9      6"
      ],
      "text/html": [
       "\n",
       "  <div id=\"df-8735d70c-5f82-48b3-bac2-8d5582b7b815\" class=\"colab-df-container\">\n",
       "    <div>\n",
       "<style scoped>\n",
       "    .dataframe tbody tr th:only-of-type {\n",
       "        vertical-align: middle;\n",
       "    }\n",
       "\n",
       "    .dataframe tbody tr th {\n",
       "        vertical-align: top;\n",
       "    }\n",
       "\n",
       "    .dataframe thead th {\n",
       "        text-align: right;\n",
       "    }\n",
       "</style>\n",
       "<table border=\"1\" class=\"dataframe\">\n",
       "  <thead>\n",
       "    <tr style=\"text-align: right;\">\n",
       "      <th></th>\n",
       "      <th>ID</th>\n",
       "      <th>label</th>\n",
       "    </tr>\n",
       "  </thead>\n",
       "  <tbody>\n",
       "    <tr>\n",
       "      <th>0</th>\n",
       "      <td>0</td>\n",
       "      <td>4</td>\n",
       "    </tr>\n",
       "    <tr>\n",
       "      <th>1</th>\n",
       "      <td>1</td>\n",
       "      <td>8</td>\n",
       "    </tr>\n",
       "    <tr>\n",
       "      <th>2</th>\n",
       "      <td>2</td>\n",
       "      <td>5</td>\n",
       "    </tr>\n",
       "    <tr>\n",
       "      <th>3</th>\n",
       "      <td>3</td>\n",
       "      <td>0</td>\n",
       "    </tr>\n",
       "    <tr>\n",
       "      <th>4</th>\n",
       "      <td>4</td>\n",
       "      <td>3</td>\n",
       "    </tr>\n",
       "    <tr>\n",
       "      <th>5</th>\n",
       "      <td>5</td>\n",
       "      <td>4</td>\n",
       "    </tr>\n",
       "    <tr>\n",
       "      <th>6</th>\n",
       "      <td>6</td>\n",
       "      <td>7</td>\n",
       "    </tr>\n",
       "    <tr>\n",
       "      <th>7</th>\n",
       "      <td>7</td>\n",
       "      <td>7</td>\n",
       "    </tr>\n",
       "    <tr>\n",
       "      <th>8</th>\n",
       "      <td>8</td>\n",
       "      <td>8</td>\n",
       "    </tr>\n",
       "    <tr>\n",
       "      <th>9</th>\n",
       "      <td>9</td>\n",
       "      <td>6</td>\n",
       "    </tr>\n",
       "  </tbody>\n",
       "</table>\n",
       "</div>\n",
       "    <div class=\"colab-df-buttons\">\n",
       "\n",
       "  <div class=\"colab-df-container\">\n",
       "    <button class=\"colab-df-convert\" onclick=\"convertToInteractive('df-8735d70c-5f82-48b3-bac2-8d5582b7b815')\"\n",
       "            title=\"Convert this dataframe to an interactive table.\"\n",
       "            style=\"display:none;\">\n",
       "\n",
       "  <svg xmlns=\"http://www.w3.org/2000/svg\" height=\"24px\" viewBox=\"0 -960 960 960\">\n",
       "    <path d=\"M120-120v-720h720v720H120Zm60-500h600v-160H180v160Zm220 220h160v-160H400v160Zm0 220h160v-160H400v160ZM180-400h160v-160H180v160Zm440 0h160v-160H620v160ZM180-180h160v-160H180v160Zm440 0h160v-160H620v160Z\"/>\n",
       "  </svg>\n",
       "    </button>\n",
       "\n",
       "  <style>\n",
       "    .colab-df-container {\n",
       "      display:flex;\n",
       "      gap: 12px;\n",
       "    }\n",
       "\n",
       "    .colab-df-convert {\n",
       "      background-color: #E8F0FE;\n",
       "      border: none;\n",
       "      border-radius: 50%;\n",
       "      cursor: pointer;\n",
       "      display: none;\n",
       "      fill: #1967D2;\n",
       "      height: 32px;\n",
       "      padding: 0 0 0 0;\n",
       "      width: 32px;\n",
       "    }\n",
       "\n",
       "    .colab-df-convert:hover {\n",
       "      background-color: #E2EBFA;\n",
       "      box-shadow: 0px 1px 2px rgba(60, 64, 67, 0.3), 0px 1px 3px 1px rgba(60, 64, 67, 0.15);\n",
       "      fill: #174EA6;\n",
       "    }\n",
       "\n",
       "    .colab-df-buttons div {\n",
       "      margin-bottom: 4px;\n",
       "    }\n",
       "\n",
       "    [theme=dark] .colab-df-convert {\n",
       "      background-color: #3B4455;\n",
       "      fill: #D2E3FC;\n",
       "    }\n",
       "\n",
       "    [theme=dark] .colab-df-convert:hover {\n",
       "      background-color: #434B5C;\n",
       "      box-shadow: 0px 1px 3px 1px rgba(0, 0, 0, 0.15);\n",
       "      filter: drop-shadow(0px 1px 2px rgba(0, 0, 0, 0.3));\n",
       "      fill: #FFFFFF;\n",
       "    }\n",
       "  </style>\n",
       "\n",
       "    <script>\n",
       "      const buttonEl =\n",
       "        document.querySelector('#df-8735d70c-5f82-48b3-bac2-8d5582b7b815 button.colab-df-convert');\n",
       "      buttonEl.style.display =\n",
       "        google.colab.kernel.accessAllowed ? 'block' : 'none';\n",
       "\n",
       "      async function convertToInteractive(key) {\n",
       "        const element = document.querySelector('#df-8735d70c-5f82-48b3-bac2-8d5582b7b815');\n",
       "        const dataTable =\n",
       "          await google.colab.kernel.invokeFunction('convertToInteractive',\n",
       "                                                    [key], {});\n",
       "        if (!dataTable) return;\n",
       "\n",
       "        const docLinkHtml = 'Like what you see? Visit the ' +\n",
       "          '<a target=\"_blank\" href=https://colab.research.google.com/notebooks/data_table.ipynb>data table notebook</a>'\n",
       "          + ' to learn more about interactive tables.';\n",
       "        element.innerHTML = '';\n",
       "        dataTable['output_type'] = 'display_data';\n",
       "        await google.colab.output.renderOutput(dataTable, element);\n",
       "        const docLink = document.createElement('div');\n",
       "        docLink.innerHTML = docLinkHtml;\n",
       "        element.appendChild(docLink);\n",
       "      }\n",
       "    </script>\n",
       "  </div>\n",
       "\n",
       "\n",
       "    <div id=\"df-88daff48-787d-4236-9f87-8a9532bdcc85\">\n",
       "      <button class=\"colab-df-quickchart\" onclick=\"quickchart('df-88daff48-787d-4236-9f87-8a9532bdcc85')\"\n",
       "                title=\"Suggest charts\"\n",
       "                style=\"display:none;\">\n",
       "\n",
       "<svg xmlns=\"http://www.w3.org/2000/svg\" height=\"24px\"viewBox=\"0 0 24 24\"\n",
       "     width=\"24px\">\n",
       "    <g>\n",
       "        <path d=\"M19 3H5c-1.1 0-2 .9-2 2v14c0 1.1.9 2 2 2h14c1.1 0 2-.9 2-2V5c0-1.1-.9-2-2-2zM9 17H7v-7h2v7zm4 0h-2V7h2v10zm4 0h-2v-4h2v4z\"/>\n",
       "    </g>\n",
       "</svg>\n",
       "      </button>\n",
       "\n",
       "<style>\n",
       "  .colab-df-quickchart {\n",
       "      --bg-color: #E8F0FE;\n",
       "      --fill-color: #1967D2;\n",
       "      --hover-bg-color: #E2EBFA;\n",
       "      --hover-fill-color: #174EA6;\n",
       "      --disabled-fill-color: #AAA;\n",
       "      --disabled-bg-color: #DDD;\n",
       "  }\n",
       "\n",
       "  [theme=dark] .colab-df-quickchart {\n",
       "      --bg-color: #3B4455;\n",
       "      --fill-color: #D2E3FC;\n",
       "      --hover-bg-color: #434B5C;\n",
       "      --hover-fill-color: #FFFFFF;\n",
       "      --disabled-bg-color: #3B4455;\n",
       "      --disabled-fill-color: #666;\n",
       "  }\n",
       "\n",
       "  .colab-df-quickchart {\n",
       "    background-color: var(--bg-color);\n",
       "    border: none;\n",
       "    border-radius: 50%;\n",
       "    cursor: pointer;\n",
       "    display: none;\n",
       "    fill: var(--fill-color);\n",
       "    height: 32px;\n",
       "    padding: 0;\n",
       "    width: 32px;\n",
       "  }\n",
       "\n",
       "  .colab-df-quickchart:hover {\n",
       "    background-color: var(--hover-bg-color);\n",
       "    box-shadow: 0 1px 2px rgba(60, 64, 67, 0.3), 0 1px 3px 1px rgba(60, 64, 67, 0.15);\n",
       "    fill: var(--button-hover-fill-color);\n",
       "  }\n",
       "\n",
       "  .colab-df-quickchart-complete:disabled,\n",
       "  .colab-df-quickchart-complete:disabled:hover {\n",
       "    background-color: var(--disabled-bg-color);\n",
       "    fill: var(--disabled-fill-color);\n",
       "    box-shadow: none;\n",
       "  }\n",
       "\n",
       "  .colab-df-spinner {\n",
       "    border: 2px solid var(--fill-color);\n",
       "    border-color: transparent;\n",
       "    border-bottom-color: var(--fill-color);\n",
       "    animation:\n",
       "      spin 1s steps(1) infinite;\n",
       "  }\n",
       "\n",
       "  @keyframes spin {\n",
       "    0% {\n",
       "      border-color: transparent;\n",
       "      border-bottom-color: var(--fill-color);\n",
       "      border-left-color: var(--fill-color);\n",
       "    }\n",
       "    20% {\n",
       "      border-color: transparent;\n",
       "      border-left-color: var(--fill-color);\n",
       "      border-top-color: var(--fill-color);\n",
       "    }\n",
       "    30% {\n",
       "      border-color: transparent;\n",
       "      border-left-color: var(--fill-color);\n",
       "      border-top-color: var(--fill-color);\n",
       "      border-right-color: var(--fill-color);\n",
       "    }\n",
       "    40% {\n",
       "      border-color: transparent;\n",
       "      border-right-color: var(--fill-color);\n",
       "      border-top-color: var(--fill-color);\n",
       "    }\n",
       "    60% {\n",
       "      border-color: transparent;\n",
       "      border-right-color: var(--fill-color);\n",
       "    }\n",
       "    80% {\n",
       "      border-color: transparent;\n",
       "      border-right-color: var(--fill-color);\n",
       "      border-bottom-color: var(--fill-color);\n",
       "    }\n",
       "    90% {\n",
       "      border-color: transparent;\n",
       "      border-bottom-color: var(--fill-color);\n",
       "    }\n",
       "  }\n",
       "</style>\n",
       "\n",
       "      <script>\n",
       "        async function quickchart(key) {\n",
       "          const quickchartButtonEl =\n",
       "            document.querySelector('#' + key + ' button');\n",
       "          quickchartButtonEl.disabled = true;  // To prevent multiple clicks.\n",
       "          quickchartButtonEl.classList.add('colab-df-spinner');\n",
       "          try {\n",
       "            const charts = await google.colab.kernel.invokeFunction(\n",
       "                'suggestCharts', [key], {});\n",
       "          } catch (error) {\n",
       "            console.error('Error during call to suggestCharts:', error);\n",
       "          }\n",
       "          quickchartButtonEl.classList.remove('colab-df-spinner');\n",
       "          quickchartButtonEl.classList.add('colab-df-quickchart-complete');\n",
       "        }\n",
       "        (() => {\n",
       "          let quickchartButtonEl =\n",
       "            document.querySelector('#df-88daff48-787d-4236-9f87-8a9532bdcc85 button');\n",
       "          quickchartButtonEl.style.display =\n",
       "            google.colab.kernel.accessAllowed ? 'block' : 'none';\n",
       "        })();\n",
       "      </script>\n",
       "    </div>\n",
       "\n",
       "    </div>\n",
       "  </div>\n"
      ],
      "application/vnd.google.colaboratory.intrinsic+json": {
       "type": "dataframe",
       "summary": "{\n  \"name\": \"res\",\n  \"rows\": 10,\n  \"fields\": [\n    {\n      \"column\": \"ID\",\n      \"properties\": {\n        \"dtype\": \"number\",\n        \"std\": 3,\n        \"min\": 0,\n        \"max\": 9,\n        \"num_unique_values\": 10,\n        \"samples\": [\n          8,\n          1,\n          5\n        ],\n        \"semantic_type\": \"\",\n        \"description\": \"\"\n      }\n    },\n    {\n      \"column\": \"label\",\n      \"properties\": {\n        \"dtype\": \"number\",\n        \"std\": 2,\n        \"min\": 0,\n        \"max\": 8,\n        \"num_unique_values\": 7,\n        \"samples\": [\n          4,\n          8,\n          7\n        ],\n        \"semantic_type\": \"\",\n        \"description\": \"\"\n      }\n    }\n  ]\n}"
      }
     },
     "metadata": {},
     "execution_count": 83
    }
   ]
  },
  {
   "cell_type": "code",
   "source": [
    "res.to_csv(\"/content/drive/My Drive/Colab Notebooks/result.csv\", index=False)"
   ],
   "metadata": {
    "id": "kC6UTSwXOn5s"
   },
   "execution_count": 85,
   "outputs": []
  },
  {
   "cell_type": "code",
   "source": [],
   "metadata": {
    "id": "pY5CQugfOu8Y"
   },
   "execution_count": null,
   "outputs": []
  }
 ],
 "metadata": {
  "kernelspec": {
   "display_name": "Python 3",
   "name": "python3"
  },
  "language_info": {
   "codemirror_mode": {
    "name": "ipython",
    "version": 3
   },
   "file_extension": ".py",
   "mimetype": "text/x-python",
   "name": "python",
   "nbconvert_exporter": "python",
   "pygments_lexer": "ipython3",
   "version": "3.10.11"
  },
  "colab": {
   "provenance": [],
   "machine_shape": "hm",
   "gpuType": "L4"
  },
  "accelerator": "GPU"
 },
 "nbformat": 4,
 "nbformat_minor": 0
}
