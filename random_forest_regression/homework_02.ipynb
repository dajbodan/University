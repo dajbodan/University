{
 "cells": [
  {
   "cell_type": "markdown",
   "id": "0cf75ab4-bd4d-4ec2-a708-74797dbfce44",
   "metadata": {},
   "source": [
    "# Úkol č. 2 - regrese\n",
    "\n",
    "* Termíny jsou uvedeny na [courses.fit.cvut.cz](https://courses.fit.cvut.cz/BI-ML1/homeworks/index.html).\n",
    "* Pokud odevzdáte úkol po prvním termínu ale před nejzazším termínem, budete penalizování -12 body, pozdější odevzdání je bez bodu.\n",
    "* V rámci tohoto úkolu se musíte vypořádat s regresní úlohou, s příznaky různých typů a s chybějícími hodnotami.\n",
    "* Před tím, než na nich postavíte predikční model, je třeba je nějakým způsobem převést do číselné reprezentace.\n",
    "    \n",
    "> **Úkoly jsou zadány tak, aby Vám daly prostor pro invenci. Vymyslet _jak přesně_ budete úkol řešit, je důležitou součástí zadání a originalita či nápaditost bude také hodnocena!**\n",
    "\n",
    "Využívejte buňky typu `Markdown` k vysvětlování Vašeho postupu. Za nepřehlednost budeme strhávat body.\n",
    "\n",
    "## Zdroj dat\n",
    "\n",
    "Budeme se zabývat predikcí délky dožití v různých zemích a letech.\n",
    "K dispozici máte trénovací data v souboru `data.csv` a data na vyhodnocení v souboru `evaluation.csv`.\n",
    "\n",
    "#### Seznam příznaků:\n",
    "\n",
    "* Year - Rok\n",
    "* Status - Status rozvinuté nebo rozvojové země\n",
    "* Life expectancy - Délka dožití v letech - **cílová proměnná, kterou budete predikovat**\n",
    "* Adult Mortality - Úmrtnost dospělých bez ohledu na pohlaví (pravděpodobnost, že osoby, které dosáhly věku 15 let, zemřou před dosažením věku 60 let (uvedeno na 1 000 osob)).\n",
    "* infant deaths - počet zemřelých kojenců na 1000 obyvatel\n",
    "* Alcohol - Alkohol, zaznamenaná spotřeba na obyvatele (15+) (v litrech čistého alkoholu)\n",
    "* percentage expenditure - Výdaje na zdravotnictví v procentech hrubého domácího produktu na obyvatele (%)\n",
    "* Hepatitis B - pokrytí očkováním proti hepatitidě B (HepB) u dětí ve věku 1 roku (%)\n",
    "* Measles - Spalničky - počet hlášených případů na 1000 obyvatel\n",
    "* BMI - průměrný index tělesné hmotnosti celé populace\n",
    "* under-five deaths - počet úmrtí dětí do pěti let na 1000 obyvatel\n",
    "* Polio - proočkovanost proti dětské obrně (Pol3) u dětí ve věku 1 roku (%)\n",
    "* Total expenditure - Výdaje vládních institucí na zdravotnictví jako procento celkových vládních výdajů (%)\n",
    "* Diphtheria - pokrytí očkováním proti záškrtu, tetanu a černému kašli (DTP3) u jednoletých dětí (%)\n",
    "* HIV/AIDS - počet úmrtí na 1 000 živě narozených dětí na HIV/AIDS (0-4 roky)\n",
    "* GDP - hrubý domácí produkt na obyvatele (v USD)\n",
    "* Population - počet obyvatel země\n",
    "* thinness 1-19 years - podíl dětí ve věku 10-19 let s indexem tělesné hmotnosti (BMI) menším než 2 směrodatné odchylky pod mediánem (%)\n",
    "* thinness 5-9 years - podíl dětí ve věku 5-9 let s indexem tělesné hmotnosti (BMI) menším než 2 směrodatné odchylky pod mediánem (%)\n",
    "* Income composition of resources - Index lidského rozvoje z hlediska příjmového složení zdrojů (index v rozmezí 0 až 1)\n",
    "* Schooling - počet let školní docházky (roky)\n",
    "\n",
    "\n",
    "## Pokyny k vypracování\n",
    "\n",
    "**Body zadání**, za jejichž (poctivé) vypracování získáte **25 bodů**: \n",
    "  * V notebooku načtěte data ze souboru `data.csv`. Vhodným způsobem si je rozdělte na podmnožiny, které Vám poslouží pro trénování (trénovací), porovnávání modelů (validační) a následnou predikci výkonnosti finálního modelu (testovací).\n",
    "    \n",
    "  * Proveďte základní předzpracování dat:\n",
    "    * Projděte si jednotlivé příznaky a transformujte je do vhodné podoby pro použití ve vybraném regresním modelu.\n",
    "    * Nějakým způsobem se vypořádejte s chybějícími hodnotami. _Pozor na metodické chyby!_\n",
    "    * Můžete využívat i vizualizace. Vše stručně ale náležitě komentujte.\n",
    "<br /><br />\n",
    "  * Vytvořte **vlastní implementaci náhodného lesa**. Použijte k tomu níže předpřipravenou kostru.\n",
    "  \n",
    "  * Na připravená data postupně aplikujte Vaši předchozí implementaci modelu náhodného lesa, dále jeden z modelů **lineární regrese** nebo **hřebenové regrese**, a alespoň jeden další model podle Vašeho uvážení, přičemž pro každý z těchto modelů přiměřeně:\n",
    "    * Okomentujte vhodnost daného modelu pro daný typ úlohy.\n",
    "    * Experimentujte s normalizací (standardizace/min-max), pokud pro daný model očekáváte její příznivý vliv.\n",
    "    * Vyberte si hlavní hyperparametry k ladění a najděte jejich nejlepší hodnoty (vzhledem k RMSE).\n",
    "    * Pro model s nejlepšími hodnotami hyperparametrů určete jeho chybu pomocí RMSE a MAE. _Pozor na metodické chyby!_\n",
    "    * Získané výsledky vždy řádně okomentujte.\n",
    "<br /><br />\n",
    "  * Ze všech zkoušených možností v předchozím kroku vyberte finální model a odhadněte, jakou chybu (RMSE) můžete očekávat na nových datech, která jste doposud neměli k dispozici. _Pozor na metodické chyby!_\n",
    "    \n",
    "  * Nakonec načtěte vyhodnocovací data ze souboru `evaluation.csv`. Pomocí finálního modelu napočítejte predikce pro tato data. Vytvořte soubor `results.csv`, ve kterém získané predikce uložíte s využitím tří sloupců: **Country**, **Year** a **Life expectancy**. Tento soubor též odevzdejte (uložte do repozitáře vedle notebooku).\n",
    "\n",
    "  * Ukázka prvních řádků souboru `results.csv`:\n",
    "  \n",
    "```\n",
    "Country,Year,Life expectancy\n",
    "Peru,2012,71.4\n",
    "Peru,2013,72.6\n",
    "...\n",
    "```\n",
    "\n",
    "\n",
    "## Poznámky k odevzdání\n",
    "\n",
    "  * Řiďte se pokyny ze stránky https://courses.fit.cvut.cz/BI-ML1/homeworks/index.html."
   ]
  },
  {
   "cell_type": "markdown",
   "id": "452f2db7-a802-439d-8252-32016aa273e4",
   "metadata": {},
   "source": [
    "# Vypracování"
   ]
  },
  {
   "cell_type": "code",
   "execution_count": 1,
   "id": "8216231d-137d-4a04-b8f8-5e088e6ac6bb",
   "metadata": {},
   "outputs": [],
   "source": [
    "import pandas as pd\n",
    "import numpy as np\n",
    "from sklearn.model_selection import train_test_split\n",
    "import matplotlib.pyplot as plt\n",
    "from sklearn.metrics import mean_squared_error\n",
    "from sklearn.metrics import mean_absolute_error\n",
    "import matplotlib\n",
    "from sklearn.preprocessing import MinMaxScaler\n",
    "from sklearn.linear_model import Ridge\n",
    "from sklearn.tree import DecisionTreeRegressor\n",
    "from sklearn.utils import resample"
   ]
  },
  {
   "cell_type": "markdown",
   "id": "142eba82-25f3-4ef9-83be-bdcec2a1a942",
   "metadata": {},
   "source": [
    "## Předzpracování vstupního souboru"
   ]
  },
  {
   "cell_type": "markdown",
   "id": "3945081e-509f-480d-87c5-e9bdaac8b98c",
   "metadata": {},
   "source": [
    "Načteme data.csv do proměnné data a podíváme, jaké příznaky datové typy mají. Poslouží to k tomu, abychom věděli, jestli je potřeba něco upravovat."
   ]
  },
  {
   "cell_type": "code",
   "execution_count": 2,
   "id": "9a0cede7-636f-4a02-bb5d-d7b1afbba9fc",
   "metadata": {},
   "outputs": [
    {
     "name": "stdout",
     "output_type": "stream",
     "text": [
      "<class 'pandas.core.frame.DataFrame'>\n",
      "RangeIndex: 2718 entries, 0 to 2717\n",
      "Data columns (total 22 columns):\n",
      " #   Column                           Non-Null Count  Dtype  \n",
      "---  ------                           --------------  -----  \n",
      " 0   Country                          2718 non-null   object \n",
      " 1   Year                             2718 non-null   int64  \n",
      " 2   Status                           2718 non-null   object \n",
      " 3   Life expectancy                  2718 non-null   float64\n",
      " 4   Adult Mortality                  2718 non-null   float64\n",
      " 5   infant deaths                    2718 non-null   int64  \n",
      " 6   Alcohol                          2564 non-null   float64\n",
      " 7   percentage expenditure           2718 non-null   float64\n",
      " 8   Hepatitis B                      2188 non-null   float64\n",
      " 9   Measles                          2718 non-null   int64  \n",
      " 10  BMI                              2692 non-null   float64\n",
      " 11  under-five deaths                2718 non-null   int64  \n",
      " 12  Polio                            2700 non-null   float64\n",
      " 13  Total expenditure                2529 non-null   float64\n",
      " 14  Diphtheria                       2700 non-null   float64\n",
      " 15  HIV/AIDS                         2718 non-null   float64\n",
      " 16  GDP                              2317 non-null   float64\n",
      " 17  Population                       2116 non-null   float64\n",
      " 18  thinness  1-19 years             2692 non-null   float64\n",
      " 19  thinness 5-9 years               2692 non-null   float64\n",
      " 20  Income composition of resources  2576 non-null   float64\n",
      " 21  Schooling                        2576 non-null   float64\n",
      "dtypes: float64(16), int64(4), object(2)\n",
      "memory usage: 467.3+ KB\n"
     ]
    }
   ],
   "source": [
    "df = pd.read_csv('data.csv')\n",
    "df.info()"
   ]
  },
  {
   "cell_type": "markdown",
   "id": "963a6d56-ce66-4dee-8b62-0a66a53840d9",
   "metadata": {},
   "source": [
    "### Zpracování nedefinovaných hodnot"
   ]
  },
  {
   "cell_type": "markdown",
   "id": "3495df44-9534-4415-89b8-da23d870d1ec",
   "metadata": {},
   "source": [
    "podíváme, jestli nedefinované hodnoty máme."
   ]
  },
  {
   "cell_type": "code",
   "execution_count": 3,
   "id": "29067a44-38f2-4448-b47e-7f8ec7cab26e",
   "metadata": {},
   "outputs": [
    {
     "data": {
      "text/plain": [
       "602"
      ]
     },
     "execution_count": 3,
     "metadata": {},
     "output_type": "execute_result"
    }
   ],
   "source": [
    "max(df.isnull().sum())\n"
   ]
  },
  {
   "cell_type": "markdown",
   "id": "ebe36311-5620-4e3f-b99b-1a3d0eeb9771",
   "metadata": {},
   "source": [
    "Každou nedefinovanou hodnotu nahradíme -1"
   ]
  },
  {
   "cell_type": "code",
   "execution_count": 4,
   "id": "1ca95315-3aa7-4283-9aea-d66ebdb721e8",
   "metadata": {},
   "outputs": [],
   "source": [
    "df.replace(np.nan, -1, inplace = True)"
   ]
  },
  {
   "cell_type": "markdown",
   "id": "a3869158-fe9f-4bff-b894-a214e7200b4a",
   "metadata": {},
   "source": [
    "Podíváme, jestli ještě nedefinované hodnoty jsou."
   ]
  },
  {
   "cell_type": "code",
   "execution_count": 5,
   "id": "a3a1c6db-e375-4fae-a695-f0fbd641b44e",
   "metadata": {},
   "outputs": [
    {
     "data": {
      "text/plain": [
       "Country                            0\n",
       "Year                               0\n",
       "Status                             0\n",
       "Life expectancy                    0\n",
       "Adult Mortality                    0\n",
       "infant deaths                      0\n",
       "Alcohol                            0\n",
       "percentage expenditure             0\n",
       "Hepatitis B                        0\n",
       "Measles                            0\n",
       "BMI                                0\n",
       "under-five deaths                  0\n",
       "Polio                              0\n",
       "Total expenditure                  0\n",
       "Diphtheria                         0\n",
       "HIV/AIDS                           0\n",
       "GDP                                0\n",
       "Population                         0\n",
       "thinness  1-19 years               0\n",
       "thinness 5-9 years                 0\n",
       "Income composition of resources    0\n",
       "Schooling                          0\n",
       "dtype: int64"
      ]
     },
     "execution_count": 5,
     "metadata": {},
     "output_type": "execute_result"
    }
   ],
   "source": [
    "df.isnull().sum()"
   ]
  },
  {
   "cell_type": "markdown",
   "id": "5f49ab60-d1de-4900-9896-c0c4119e448f",
   "metadata": {},
   "source": [
    "### Převedení typu objekt na float64"
   ]
  },
  {
   "cell_type": "markdown",
   "id": "cd9ac463-118f-426c-be5c-cc036c4a4795",
   "metadata": {},
   "source": [
    "Vybereme všechny příznaky typů objekty, který převedeme na typ category. Poté je zakódujeme do celých čísel pomocí cat.codes. A poté jm přiadíme float64."
   ]
  },
  {
   "cell_type": "code",
   "execution_count": 6,
   "id": "4acd9ccd-1d6c-4a1e-8b47-6697ff9404f8",
   "metadata": {},
   "outputs": [
    {
     "name": "stdout",
     "output_type": "stream",
     "text": [
      "<class 'pandas.core.frame.DataFrame'>\n",
      "RangeIndex: 2718 entries, 0 to 2717\n",
      "Data columns (total 22 columns):\n",
      " #   Column                           Non-Null Count  Dtype  \n",
      "---  ------                           --------------  -----  \n",
      " 0   Country                          2718 non-null   int16  \n",
      " 1   Year                             2718 non-null   int64  \n",
      " 2   Status                           2718 non-null   int8   \n",
      " 3   Life expectancy                  2718 non-null   float64\n",
      " 4   Adult Mortality                  2718 non-null   float64\n",
      " 5   infant deaths                    2718 non-null   int64  \n",
      " 6   Alcohol                          2718 non-null   float64\n",
      " 7   percentage expenditure           2718 non-null   float64\n",
      " 8   Hepatitis B                      2718 non-null   float64\n",
      " 9   Measles                          2718 non-null   int64  \n",
      " 10  BMI                              2718 non-null   float64\n",
      " 11  under-five deaths                2718 non-null   int64  \n",
      " 12  Polio                            2718 non-null   float64\n",
      " 13  Total expenditure                2718 non-null   float64\n",
      " 14  Diphtheria                       2718 non-null   float64\n",
      " 15  HIV/AIDS                         2718 non-null   float64\n",
      " 16  GDP                              2718 non-null   float64\n",
      " 17  Population                       2718 non-null   float64\n",
      " 18  thinness  1-19 years             2718 non-null   float64\n",
      " 19  thinness 5-9 years               2718 non-null   float64\n",
      " 20  Income composition of resources  2718 non-null   float64\n",
      " 21  Schooling                        2718 non-null   float64\n",
      "dtypes: float64(16), int16(1), int64(4), int8(1)\n",
      "memory usage: 432.8 KB\n"
     ]
    }
   ],
   "source": [
    "df[df.select_dtypes(['object']).columns] = df.select_dtypes(['object']).astype('category')\n",
    "df[df.select_dtypes(['category']).columns] = df.select_dtypes('category').apply(lambda x : x.cat.codes)\n",
    "df.astype('float64')\n",
    "df.info()"
   ]
  },
  {
   "cell_type": "markdown",
   "id": "26a79258-3e58-452d-9b04-52463b2a1a41",
   "metadata": {},
   "source": [
    "### Rozdělení dat na trénovácí, validační a testovací množinu\n"
   ]
  },
  {
   "cell_type": "markdown",
   "id": "4533c4e1-6391-4afc-b261-c316d5723758",
   "metadata": {},
   "source": [
    "Nejdříve rozdělíme příznaky na vysvětlovanou proměnnou a skupinu příznaků, který se snaží vysvětlovanou proměnnou vysvětlit. V tomto případě je příznak survived vysvětlovaná proměnná a ostatní příznaky se ji budou snažit vysvětlit.\n",
    "Do Xdata přiřadíme všechny příznaky kromě příznaku Survived. Do Ydata přiřadíme příznak survived."
   ]
  },
  {
   "cell_type": "code",
   "execution_count": 7,
   "id": "2d1d9f5e-d476-410a-a96e-03d60c68f581",
   "metadata": {},
   "outputs": [
    {
     "name": "stdout",
     "output_type": "stream",
     "text": [
      "Train rozměry, X: (1630, 21), y: (1630,)\n",
      "Val rozměry, X: (761, 21), y: (761,)\n",
      "Test rozměry, X: (327, 21), y: (327,)\n"
     ]
    }
   ],
   "source": [
    "random_seed = 42\n",
    "\n",
    "Xtrain, Xval, ytrain, yval = train_test_split(df.drop(columns = ['Life expectancy']), df['Life expectancy'], test_size=0.4, random_state=random_seed)\n",
    "Xval, Xtest, yval, ytest = train_test_split(Xval, yval, test_size=0.3, random_state=random_seed)\n",
    "\n",
    "print(f\"Train rozměry, X: {Xtrain.shape}, y: {ytrain.shape}\")\n",
    "print(f\"Val rozměry, X: {Xval.shape}, y: {yval.shape}\")\n",
    "print(f\"Test rozměry, X: {Xtest.shape}, y: {ytest.shape}\")"
   ]
  },
  {
   "cell_type": "markdown",
   "id": "5b092122-8b02-4f69-8fbb-863e5b96d4a9",
   "metadata": {},
   "source": [
    "Pro trenovací a validační množinu provedeme normalizaci dat a to uděláme pomocí min-max normalizace "
   ]
  },
  {
   "cell_type": "code",
   "execution_count": 8,
   "id": "badd4222-b95b-426e-93e6-9a0a09720fc4",
   "metadata": {},
   "outputs": [],
   "source": [
    "scaler = MinMaxScaler()\n",
    "Xtrain_scaled = scaler.fit_transform(Xtrain)\n",
    "Xval_scaled = scaler.transform(Xval)\n",
    "Xtrain_scaled\n",
    "X_scaled_df_train = pd.DataFrame(Xtrain_scaled, columns=Xtrain.columns)\n",
    "X_scaled_df_val = pd.DataFrame(Xval_scaled, columns=Xval.columns)"
   ]
  },
  {
   "cell_type": "markdown",
   "id": "9a6c0ca7-3a79-49f2-aca2-7f39fd071018",
   "metadata": {},
   "source": [
    "## Modely."
   ]
  },
  {
   "cell_type": "markdown",
   "id": "36d56b2e-fa7a-4995-a4e7-fe118406e96a",
   "metadata": {},
   "source": [
    "Jako modely jsem si zvolil náhodný les, hřebenovou regresi a lineární regresi."
   ]
  },
  {
   "cell_type": "code",
   "execution_count": 9,
   "id": "3289154a-4831-4612-ace0-b3ae1636600b",
   "metadata": {},
   "outputs": [
    {
     "data": {
      "image/png": "[encoded data removed]",
      "text/plain": [
       "<Figure size 640x480 with 1 Axes>"
      ]
     },
     "metadata": {},
     "output_type": "display_data"
    },
    {
     "name": "stdout",
     "output_type": "stream",
     "text": [
      "Optimal alpha  message: Solution found.\n",
      " success: True\n",
      "  status: 0\n",
      "     fun: 4.7048424570626874\n",
      "       x: 0.0100040712007861\n",
      "     nit: 38\n",
      "    nfev: 38\n",
      "\n",
      "\n"
     ]
    },
    {
     "data": {
      "text/plain": [
       "'Validační RMSE: 4.7048424570626874'"
      ]
     },
     "metadata": {},
     "output_type": "display_data"
    },
    {
     "data": {
      "text/plain": [
       "'Validační MAE:  3.4926878263650174'"
      ]
     },
     "metadata": {},
     "output_type": "display_data"
    }
   ],
   "source": [
    "from scipy import optimize\n",
    "def get_opt_ridge_model(Xtrain, Xval):\n",
    "    def ridgemodel_eval(alpha):\n",
    "        clf = Ridge(alpha=alpha)\n",
    "        clf.fit(Xtrain, ytrain)\n",
    "        return mean_squared_error(yval, clf.predict(Xval), squared = False)\n",
    "    alphas = np.linspace(0,500,10000)\n",
    "    alphas_res = [ridgemodel_eval(alpha) for alpha in alphas]\n",
    "    plt.plot(alphas, alphas_res, '.')\n",
    "    plt.show()\n",
    "\n",
    "    # Find Ridge alpha automatically\n",
    "    opt_alpha = optimize.minimize_scalar(ridgemodel_eval, options = {'maxiter': 10000}, method = 'bounded', bounds=(0.01, 400))\n",
    "    print('Optimal alpha', opt_alpha)\n",
    "    print(\"\\n\")\n",
    "\n",
    "    clf_opt_ridge = Ridge(alpha = opt_alpha.x)\n",
    "    clf_opt_ridge.fit(Xtrain, ytrain)\n",
    "    return clf_opt_ridge\n",
    "\n",
    "clf_opt_ridge = get_opt_ridge_model(X_scaled_df_train, X_scaled_df_val)\n",
    "\n",
    "\n",
    "display(f'Validační RMSE: {mean_squared_error(yval, clf_opt_ridge.predict(X_scaled_df_val), squared = False)}')\n",
    "display(f'Validační MAE:  {mean_absolute_error(yval, clf_opt_ridge.predict(X_scaled_df_val))}')"
   ]
  },
  {
   "cell_type": "markdown",
   "id": "f0506748-8137-4a57-aebf-d01b3497e63b",
   "metadata": {},
   "source": [
    "### Nahodne lesy"
   ]
  },
  {
   "cell_type": "markdown",
   "id": "0ea3b921-f3e3-4aa0-a870-652a08c4a6c9",
   "metadata": {},
   "source": [
    "Nejdříve doplníme do modelu implementaci, kde v konstruktoru jako argumenty jsou hyperparametry."
   ]
  },
  {
   "cell_type": "code",
   "execution_count": 10,
   "id": "a818a4df-fc93-41d0-b1d9-bec6da830ec0",
   "metadata": {},
   "outputs": [],
   "source": [
    "from numpy.random import default_rng\n",
    "\n",
    "class CustomRandomForest:\n",
    "    \"\"\"\n",
    "    Třída Vašeho modelu\n",
    "    Bude se jednat o model náhodného lesa, kde podmodely tvoří rozhodovací stromy pro regresi.\n",
    "    Pro podmodely můžete použít implementaci DecisionTreeRegressor ze sklearn.\n",
    "    \"\"\"\n",
    "    def __init__(self, n_estimators = 100, max_samples = 5, max_depth = 10, **kwargs):\n",
    "        \"\"\"\n",
    "        Konstruktor modelu\n",
    "        Základní hyperparametery:\n",
    "            n_estimators - počet podmodelů - rozhodovacích stromů.\n",
    "            max_samples - vyberte si, zda tento parametr bude označovat relativní počet bodů (tj. číslo mezi 0 a 1) \n",
    "                          nebo absolutní počet bodů (tj. číslo mezi 1 a velikostí trénovací množiny), \n",
    "                          které budou pro každý podmodel rozhodovacího stromu náhodně vybrány z trénovací množiny (bootstrap) a použity k jeho trénování.\n",
    "            max_depth - maximální hloubka každého z podmodelů rozhodovacího stromu.\n",
    "            kwargs - (volitelně) případné další hyperparametry, které pošlete do podmodelů rozhodovacího stromu\n",
    "        \"\"\"\n",
    "        self.myTrees = [DecisionTreeRegressor(max_depth=max_depth, **kwargs) for _ in range(n_estimators)]\n",
    "        self.estimators = n_estimators\n",
    "        self.max_samples = max_samples\n",
    "        self.rng = default_rng()\n",
    "\n",
    "    def fit(self, X, y):\n",
    "        \"\"\"\n",
    "        Natrénování modelu. Trénovací data jsou v argumentech X a y.\n",
    "        Pro trénování podmodelů používejte bootstraping a velikost samplovaného vzorku vezměte z hyperparametru max_samples_fraction\n",
    "        \"\"\"\n",
    "        for tree in self.myTrees:\n",
    "            sample_indices = np.random.choice(X.shape[0], size=self.max_samples, replace=True)\n",
    "            X_sample = X.iloc[sample_indices]\n",
    "            y_sample = y.iloc[sample_indices]\n",
    "            tree.fit(X_sample, y_sample)\n",
    "\n",
    "    def predict(self, X):\n",
    "        predictions = np.array([tree.predict(X) for tree in self.myTrees])\n",
    "        return np.mean(predictions, axis=0)"
   ]
  },
  {
   "cell_type": "markdown",
   "id": "f88434d0-8837-432a-bdfa-0e035839081d",
   "metadata": {},
   "source": [
    "Tady se díváme na různé kombinace hyperparametrů a snažíme se mezi nimi najít takový, který by byl nejlepší. Protože je taková operace časově náročná a jednotlivé kombinace hyperparametrů se nijak vzájemně neovlivňují, má cenu zkusit si to zparalelizovat."
   ]
  },
  {
   "cell_type": "code",
   "execution_count": 11,
   "id": "92ff3e80-b430-4df3-bf4d-ab5dff1047b2",
   "metadata": {},
   "outputs": [],
   "source": [
    "from joblib import Parallel, delayed\n",
    "from sklearn.metrics import mean_squared_error\n",
    "\n",
    "def evaluate_model(i, j, k, X_train, y_train, X_val, y_val):\n",
    "    model = CustomRandomForest(i, j, k)\n",
    "    model.fit(X_train, y_train)\n",
    "    rmse = mean_squared_error(y_val, model.predict(X_val), squared=False)\n",
    "    return (i, j, k, rmse, model)\n",
    "\n",
    "results_random_forest = Parallel(n_jobs=-1)(delayed(evaluate_model)(i,j, k, X_scaled_df_train, ytrain, X_scaled_df_val, yval)\n",
    "                              for i in range(35, 38) for k in range(4, 14, 2) for j in range(10, int(len(X_scaled_df_train)), 2))\n"
   ]
  },
  {
   "cell_type": "code",
   "execution_count": 12,
   "id": "76292921-7ad4-46b1-a816-acbef2fb1f66",
   "metadata": {},
   "outputs": [
    {
     "data": {
      "text/plain": [
       "'RMSE of random forest is 2.082417569993649'"
      ]
     },
     "metadata": {},
     "output_type": "display_data"
    },
    {
     "data": {
      "text/plain": [
       "'MAE of random forest is 1.3119158073383954'"
      ]
     },
     "metadata": {},
     "output_type": "display_data"
    }
   ],
   "source": [
    "\n",
    "# Find the minimum value of RMSE in the fourth column\n",
    "min_value_rmse = min([row[3] for row in results_random_forest])\n",
    "\n",
    "#best random forest. All hyperparametrs, rmse and trained model is stored in min_value_all_info\n",
    "min_value_all_info = results_random_forest[[row[3] for row in results_random_forest].index(min_value_rmse)]\n",
    "# Print or return the minimum value\n",
    "display(f'RMSE of random forest is {min_value_rmse}')\n",
    "display(f'MAE of random forest is { mean_absolute_error( yval, min_value_all_info[4].predict(X_scaled_df_val))}')"
   ]
  },
  {
   "cell_type": "markdown",
   "id": "2521b71f-f13b-4a96-b0ab-75608d54dcad",
   "metadata": {},
   "source": [
    "### Hřebenová regrese "
   ]
  },
  {
   "cell_type": "markdown",
   "id": "16a6248d-7149-495b-81d8-818d945651d4",
   "metadata": {},
   "source": [
    "Jako hyperparametr si zvolíme alpha, což ukazuje míru regularizace. Budeme chtít tuto míru co nejvíc minimalizovat. Na grafu vidíme RMSE hřebenové regrese na validačních datech od intervalu 0 až 50000."
   ]
  },
  {
   "cell_type": "code",
   "execution_count": 13,
   "id": "4ee2b3b2-c71c-4dd4-afb5-4cb2f2519ddb",
   "metadata": {},
   "outputs": [
    {
     "data": {
      "image/png": "[encoded data removed]",
      "text/plain": [
       "<Figure size 640x480 with 1 Axes>"
      ]
     },
     "metadata": {},
     "output_type": "display_data"
    },
    {
     "name": "stdout",
     "output_type": "stream",
     "text": [
      "Optimal alpha  message: Solution found.\n",
      " success: True\n",
      "  status: 0\n",
      "     fun: 4.7048424570626874\n",
      "       x: 0.0100040712007861\n",
      "     nit: 38\n",
      "    nfev: 38\n",
      "\n",
      "\n"
     ]
    }
   ],
   "source": [
    "from scipy import optimize\n",
    "\n",
    "def get_opt_ridge_model(Xtrain, Xval):\n",
    "    def ridgemodel_eval(alpha):\n",
    "        clf = Ridge(alpha=alpha)\n",
    "        clf.fit(Xtrain, ytrain)\n",
    "        return mean_squared_error(yval, clf.predict(Xval), squared = False)\n",
    "\n",
    "    alphas = np.linspace(0,5000,10000)\n",
    "    alphas_res = [ridgemodel_eval(alpha) for alpha in alphas]\n",
    "    plt.plot(alphas, alphas_res, '.')\n",
    "    plt.show()\n",
    "\n",
    "    # Find Ridge alpha automatically\n",
    "    opt_alpha = optimize.minimize_scalar(ridgemodel_eval, options = {'maxiter': 120000}, method = 'bounded', bounds=(0.01, 400))\n",
    "    print('Optimal alpha', opt_alpha)\n",
    "    print(\"\\n\")\n",
    "\n",
    "    clf_opt_ridge = Ridge(alpha = opt_alpha.x)\n",
    "    clf_opt_ridge.fit(Xtrain, ytrain)\n",
    "    return clf_opt_ridge\n",
    "\n",
    "clf_opt_ridge = get_opt_ridge_model(X_scaled_df_train, X_scaled_df_val)"
   ]
  },
  {
   "cell_type": "code",
   "execution_count": 14,
   "id": "acfab1b3-91fd-4073-b4bb-ce54438f7484",
   "metadata": {},
   "outputs": [
    {
     "data": {
      "text/plain": [
       "'Validační RMSE: 4.7048424570626874'"
      ]
     },
     "metadata": {},
     "output_type": "display_data"
    },
    {
     "data": {
      "text/plain": [
       "'Validační MAE : 3.4926878263650174'"
      ]
     },
     "metadata": {},
     "output_type": "display_data"
    }
   ],
   "source": [
    "RMSE_val_opt_ridge = mean_squared_error(yval, clf_opt_ridge.predict(X_scaled_df_val), squared = False)\n",
    "display(f'Validační RMSE: {RMSE_val_opt_ridge}')\n",
    "display(f'Validační MAE : {mean_absolute_error(yval, clf_opt_ridge.predict(X_scaled_df_val))}')"
   ]
  },
  {
   "cell_type": "markdown",
   "id": "1089b892-0903-42f6-911a-dbd9a6187345",
   "metadata": {},
   "source": [
    "### Linearní regresse"
   ]
  },
  {
   "cell_type": "markdown",
   "id": "398e6835-0bdf-47a4-8a48-b64bcd081b83",
   "metadata": {},
   "source": [
    "I když hřebenová je obecnější než lineární, v tomto notebooku se nekoukáme na hyperparametr alpha = 0. Nedíváme se kvůli tomu, že dataframe může obsahovat závislé příznaky. Tento případ ošetříme zvlášť. A protože nemáme zaručeno, že jsou příznaky nezávislé, vytvoříme pseudoinverzní dataframe. "
   ]
  },
  {
   "cell_type": "code",
   "execution_count": 15,
   "id": "485d6772-66fa-49a5-b3e4-5e53a20a5647",
   "metadata": {},
   "outputs": [
    {
     "name": "stdout",
     "output_type": "stream",
     "text": [
      "RSS z pseudoinverze =  28756.992202086807\n",
      "Validační RMSE z pseudoinverze: 4.672083807186455\n",
      "Validační MAE z pseudoinverze: 3.482657960536611\n"
     ]
    }
   ],
   "source": [
    "def make_matrix_for_linear_regression(X):\n",
    "        return np.matrix(np.concatenate([np.ones((X.shape[0],1)),np.array(X)], axis = 1))\n",
    "    \n",
    "XXn = make_matrix_for_linear_regression(X_scaled_df_train)\n",
    "YY = np.matrix(ytrain).T\n",
    "wn_hat = np.linalg.pinv(XXn.T*XXn) * XXn.T * YY\n",
    "RSSn = np.linalg.norm(YY - XXn*wn_hat)**2\n",
    "print('RSS z pseudoinverze = ', RSSn)\n",
    "# Matice X odpovídající validační množině\n",
    "XXnv = make_matrix_for_linear_regression(X_scaled_df_val)\n",
    "\n",
    "# Predikce pro validační množinu\n",
    "Ynv_hat = XXnv*wn_hat\n",
    "Ynv_h = np.array(Ynv_hat).flatten()\n",
    "\n",
    "# výpočet RMSE a MAE\n",
    "print('Validační RMSE z pseudoinverze:', mean_squared_error(yval, Ynv_h, squared = False))\n",
    "print('Validační MAE z pseudoinverze:', mean_absolute_error(yval, Ynv_h))"
   ]
  },
  {
   "cell_type": "markdown",
   "id": "221267c0-2ba5-4059-b83d-8813825c73c7",
   "metadata": {},
   "source": [
    "I když pseudoinverze je numericky stabilnější, se podíváme, co knihovní LinearRegression. Idealní by bylo, kdyby hodnoty RMSE a MAE získaný dvěma různými přístupy se rovnaly, ale kvůli numerické stabilitě nemusí."
   ]
  },
  {
   "cell_type": "code",
   "execution_count": 17,
   "id": "15aec9d4-3cfd-424f-89b8-1c4cbed1723c",
   "metadata": {},
   "outputs": [
    {
     "data": {
      "text/plain": [
       "'Validační RMSE z library LinearRegression:'"
      ]
     },
     "metadata": {},
     "output_type": "display_data"
    },
    {
     "data": {
      "text/plain": [
       "4.6720838071865085"
      ]
     },
     "metadata": {},
     "output_type": "display_data"
    },
    {
     "data": {
      "text/plain": [
       "'Validační MAE z library LinearRegression:'"
      ]
     },
     "metadata": {},
     "output_type": "display_data"
    },
    {
     "data": {
      "text/plain": [
       "3.4826579605366783"
      ]
     },
     "metadata": {},
     "output_type": "display_data"
    }
   ],
   "source": [
    "from sklearn.linear_model import LinearRegression\n",
    "clf_linear_regression_library = LinearRegression()\n",
    "clf_linear_regression_library.fit(X_scaled_df_train,ytrain)\n",
    "display('Validační RMSE z library LinearRegression:', mean_squared_error(yval, clf_linear_regression_library.predict(X_scaled_df_val), squared = False))\n",
    "display('Validační MAE z library LinearRegression:', mean_absolute_error(yval, clf_linear_regression_library.predict(X_scaled_df_val)))  "
   ]
  },
  {
   "cell_type": "markdown",
   "id": "43590c2e-64d7-4c47-b6a6-2aa68afb65f9",
   "metadata": {},
   "source": [
    "## Volba modelu"
   ]
  },
  {
   "cell_type": "markdown",
   "id": "82d19088-51cd-41d3-b172-e11f20d0fe30",
   "metadata": {},
   "source": [
    "Když se podíváme na RMSE u jednotlivých modelu, je zřejmý vítěz náhodný les. A proto do proměnné best přiřadíme instanci náhodného lesa s nejlepšími hyperparametry. A podíváme se, nakolik jsme přesný na testovacích datech.\n"
   ]
  },
  {
   "cell_type": "code",
   "execution_count": 18,
   "id": "32c66411-a4f3-40c7-93f7-2efc24367eec",
   "metadata": {},
   "outputs": [
    {
     "data": {
      "text/plain": [
       "'rmse of random forest on validation set is 2.082417569993649 '"
      ]
     },
     "metadata": {},
     "output_type": "display_data"
    },
    {
     "data": {
      "text/plain": [
       "'rmse of ridge on validation set is 4.7048424570626874'"
      ]
     },
     "metadata": {},
     "output_type": "display_data"
    },
    {
     "data": {
      "text/plain": [
       "'rmse of linear regression on validation set is 4.672083807186455'"
      ]
     },
     "metadata": {},
     "output_type": "display_data"
    }
   ],
   "source": [
    "display(f'rmse of random forest on validation set is {mean_squared_error(yval, min_value_all_info[4].predict(X_scaled_df_val), squared=False)} ')\n",
    "display(f'rmse of ridge on validation set is {RMSE_val_opt_ridge}')\n",
    "display(f'rmse of linear regression on validation set is { mean_squared_error(yval, Ynv_h, squared = False)}')\n",
    "\n"
   ]
  },
  {
   "cell_type": "markdown",
   "id": "e6822d5f-4876-4f31-b457-d25a62e2a38a",
   "metadata": {},
   "source": [
    "Podíváme, jaký nejlepší výsledek máme z těch modelů, který jsme zkoušeli."
   ]
  },
  {
   "cell_type": "code",
   "execution_count": 19,
   "id": "9bba4217-7e3c-4480-9a49-5fe512970cd9",
   "metadata": {},
   "outputs": [
    {
     "data": {
      "text/plain": [
       "' result of best random forest is 2.0839632182507275'"
      ]
     },
     "metadata": {},
     "output_type": "display_data"
    }
   ],
   "source": [
    "test_predictions = min_value_all_info[4].predict(pd.DataFrame(scaler.fit_transform(Xtest), columns=Xtest.columns))\n",
    "display(f' result of best random forest is {mean_squared_error(ytest, test_predictions, squared=False)}')"
   ]
  },
  {
   "cell_type": "markdown",
   "id": "02435257-8b99-481e-a8d5-d87d6bf33ffb",
   "metadata": {},
   "source": [
    "## Spočítání predikce pro data ze souboru evaluation.csv a uložení výsledku do result.csv"
   ]
  },
  {
   "cell_type": "markdown",
   "id": "c7b1591b-3b46-451c-a15c-80e99ba4b896",
   "metadata": {},
   "source": [
    "Provedeme podobné úpravy, který jsme prováděli datasetem data.csv. Nejdříve načteme soubor."
   ]
  },
  {
   "cell_type": "code",
   "execution_count": 20,
   "id": "12449488-96be-4632-86c6-0905f3b87b9e",
   "metadata": {},
   "outputs": [],
   "source": [
    "eval = pd.read_csv('evaluation.csv')\n"
   ]
  },
  {
   "cell_type": "code",
   "execution_count": 21,
   "id": "f88dccf2-c087-4c8d-acbc-9f7e40962a31",
   "metadata": {},
   "outputs": [
    {
     "data": {
      "text/plain": [
       "Country                             0\n",
       "Year                                0\n",
       "Status                              0\n",
       "Adult Mortality                     0\n",
       "infant deaths                       0\n",
       "Alcohol                            39\n",
       "percentage expenditure              0\n",
       "Hepatitis B                        23\n",
       "Measles                             0\n",
       "BMI                                 6\n",
       "under-five deaths                   0\n",
       "Polio                               1\n",
       "Total expenditure                  37\n",
       "Diphtheria                          1\n",
       "HIV/AIDS                            0\n",
       "GDP                                42\n",
       "Population                         42\n",
       "thinness  1-19 years                6\n",
       "thinness 5-9 years                  6\n",
       "Income composition of resources    18\n",
       "Schooling                          18\n",
       "dtype: int64"
      ]
     },
     "metadata": {},
     "output_type": "display_data"
    }
   ],
   "source": [
    "display(eval.isnull().sum())"
   ]
  },
  {
   "cell_type": "markdown",
   "id": "5423d911-8730-4502-aa21-1975bfc5c19a",
   "metadata": {},
   "source": [
    "Co se týče příznaků, které obsahují nevyplněné hodnoty, namísto nevyplněné hodnoty doplníme -1."
   ]
  },
  {
   "cell_type": "code",
   "execution_count": 22,
   "id": "36bf6f22-b5a3-4ac7-8d5f-8a82b143c196",
   "metadata": {},
   "outputs": [],
   "source": [
    "eval.replace(np.nan, -1, inplace = True)"
   ]
  },
  {
   "cell_type": "markdown",
   "id": "fc08057b-fb4a-42d9-b85e-fc4f19eeea14",
   "metadata": {},
   "source": [
    "Koukneme, jestli se nám to podařilo"
   ]
  },
  {
   "cell_type": "code",
   "execution_count": 23,
   "id": "44c5ec13-a3b3-469a-bf27-ef9894873521",
   "metadata": {},
   "outputs": [
    {
     "data": {
      "text/plain": [
       "Country                            0\n",
       "Year                               0\n",
       "Status                             0\n",
       "Adult Mortality                    0\n",
       "infant deaths                      0\n",
       "Alcohol                            0\n",
       "percentage expenditure             0\n",
       "Hepatitis B                        0\n",
       "Measles                            0\n",
       "BMI                                0\n",
       "under-five deaths                  0\n",
       "Polio                              0\n",
       "Total expenditure                  0\n",
       "Diphtheria                         0\n",
       "HIV/AIDS                           0\n",
       "GDP                                0\n",
       "Population                         0\n",
       "thinness  1-19 years               0\n",
       "thinness 5-9 years                 0\n",
       "Income composition of resources    0\n",
       "Schooling                          0\n",
       "dtype: int64"
      ]
     },
     "metadata": {},
     "output_type": "display_data"
    }
   ],
   "source": [
    "display(eval.isnull().sum())"
   ]
  },
  {
   "cell_type": "markdown",
   "id": "4f7f4f88-0115-4914-8778-effe3d8404d7",
   "metadata": {},
   "source": [
    "Vybereme všechny příznaky typů objekty, který převedeme na typ category. Poté je zakódujeme do celých čísel pomocí cat.codes. A poté jim přiřadíme float64."
   ]
  },
  {
   "cell_type": "code",
   "execution_count": 24,
   "id": "fa1c2f9d-5c1b-4bb0-bb0c-4013324f20cb",
   "metadata": {},
   "outputs": [
    {
     "name": "stdout",
     "output_type": "stream",
     "text": [
      "<class 'pandas.core.frame.DataFrame'>\n",
      "RangeIndex: 210 entries, 0 to 209\n",
      "Data columns (total 21 columns):\n",
      " #   Column                           Non-Null Count  Dtype  \n",
      "---  ------                           --------------  -----  \n",
      " 0   Country                          210 non-null    object \n",
      " 1   Year                             210 non-null    int64  \n",
      " 2   Status                           210 non-null    object \n",
      " 3   Adult Mortality                  210 non-null    float64\n",
      " 4   infant deaths                    210 non-null    int64  \n",
      " 5   Alcohol                          210 non-null    float64\n",
      " 6   percentage expenditure           210 non-null    float64\n",
      " 7   Hepatitis B                      210 non-null    float64\n",
      " 8   Measles                          210 non-null    int64  \n",
      " 9   BMI                              210 non-null    float64\n",
      " 10  under-five deaths                210 non-null    int64  \n",
      " 11  Polio                            210 non-null    float64\n",
      " 12  Total expenditure                210 non-null    float64\n",
      " 13  Diphtheria                       210 non-null    float64\n",
      " 14  HIV/AIDS                         210 non-null    float64\n",
      " 15  GDP                              210 non-null    float64\n",
      " 16  Population                       210 non-null    float64\n",
      " 17  thinness  1-19 years             210 non-null    float64\n",
      " 18  thinness 5-9 years               210 non-null    float64\n",
      " 19  Income composition of resources  210 non-null    float64\n",
      " 20  Schooling                        210 non-null    float64\n",
      "dtypes: float64(15), int64(4), object(2)\n",
      "memory usage: 34.6+ KB\n"
     ]
    }
   ],
   "source": [
    "eval.info()"
   ]
  },
  {
   "cell_type": "code",
   "execution_count": 25,
   "id": "dd5d45b2-f7fc-4463-add6-afb5e77ff71a",
   "metadata": {},
   "outputs": [
    {
     "name": "stdout",
     "output_type": "stream",
     "text": [
      "<class 'pandas.core.frame.DataFrame'>\n",
      "RangeIndex: 210 entries, 0 to 209\n",
      "Data columns (total 21 columns):\n",
      " #   Column                           Non-Null Count  Dtype  \n",
      "---  ------                           --------------  -----  \n",
      " 0   Country                          210 non-null    int8   \n",
      " 1   Year                             210 non-null    int64  \n",
      " 2   Status                           210 non-null    int8   \n",
      " 3   Adult Mortality                  210 non-null    float64\n",
      " 4   infant deaths                    210 non-null    int64  \n",
      " 5   Alcohol                          210 non-null    float64\n",
      " 6   percentage expenditure           210 non-null    float64\n",
      " 7   Hepatitis B                      210 non-null    float64\n",
      " 8   Measles                          210 non-null    int64  \n",
      " 9   BMI                              210 non-null    float64\n",
      " 10  under-five deaths                210 non-null    int64  \n",
      " 11  Polio                            210 non-null    float64\n",
      " 12  Total expenditure                210 non-null    float64\n",
      " 13  Diphtheria                       210 non-null    float64\n",
      " 14  HIV/AIDS                         210 non-null    float64\n",
      " 15  GDP                              210 non-null    float64\n",
      " 16  Population                       210 non-null    float64\n",
      " 17  thinness  1-19 years             210 non-null    float64\n",
      " 18  thinness 5-9 years               210 non-null    float64\n",
      " 19  Income composition of resources  210 non-null    float64\n",
      " 20  Schooling                        210 non-null    float64\n",
      "dtypes: float64(15), int64(4), int8(2)\n",
      "memory usage: 31.7 KB\n"
     ]
    }
   ],
   "source": [
    "eval[eval.select_dtypes(['object']).columns] = eval.select_dtypes(['object']).astype('category')\n",
    "eval[eval.select_dtypes(['category']).columns] = eval.select_dtypes('category').apply(lambda x : x.cat.codes)\n",
    "eval.astype('float64')\n",
    "eval.info()"
   ]
  },
  {
   "cell_type": "markdown",
   "id": "538d5d3e-87ce-4216-9d5e-35cf86fe099b",
   "metadata": {},
   "source": [
    "Spočítáme predikce pro data ze souboru evaluation.csv, zobrázíme si výsledky predikce a uložíme si je do result.csv."
   ]
  },
  {
   "cell_type": "code",
   "execution_count": 26,
   "id": "172a5e5e-4d27-4759-b8f5-6ecda86a280f",
   "metadata": {},
   "outputs": [
    {
     "data": {
      "text/html": [
       "<div>\n",
       "<style scoped>\n",
       "    .dataframe tbody tr th:only-of-type {\n",
       "        vertical-align: middle;\n",
       "    }\n",
       "\n",
       "    .dataframe tbody tr th {\n",
       "        vertical-align: top;\n",
       "    }\n",
       "\n",
       "    .dataframe thead th {\n",
       "        text-align: right;\n",
       "    }\n",
       "</style>\n",
       "<table border=\"1\" class=\"dataframe\">\n",
       "  <thead>\n",
       "    <tr style=\"text-align: right;\">\n",
       "      <th></th>\n",
       "      <th>Country</th>\n",
       "      <th>Year</th>\n",
       "      <th>Life expectancy</th>\n",
       "    </tr>\n",
       "  </thead>\n",
       "  <tbody>\n",
       "    <tr>\n",
       "      <th>0</th>\n",
       "      <td>Azerbaijan</td>\n",
       "      <td>2015</td>\n",
       "      <td>71.5</td>\n",
       "    </tr>\n",
       "    <tr>\n",
       "      <th>1</th>\n",
       "      <td>Azerbaijan</td>\n",
       "      <td>2014</td>\n",
       "      <td>72.4</td>\n",
       "    </tr>\n",
       "    <tr>\n",
       "      <th>2</th>\n",
       "      <td>Azerbaijan</td>\n",
       "      <td>2013</td>\n",
       "      <td>71.8</td>\n",
       "    </tr>\n",
       "    <tr>\n",
       "      <th>3</th>\n",
       "      <td>Azerbaijan</td>\n",
       "      <td>2012</td>\n",
       "      <td>71.5</td>\n",
       "    </tr>\n",
       "    <tr>\n",
       "      <th>4</th>\n",
       "      <td>Azerbaijan</td>\n",
       "      <td>2011</td>\n",
       "      <td>71.4</td>\n",
       "    </tr>\n",
       "    <tr>\n",
       "      <th>...</th>\n",
       "      <td>...</td>\n",
       "      <td>...</td>\n",
       "      <td>...</td>\n",
       "    </tr>\n",
       "    <tr>\n",
       "      <th>205</th>\n",
       "      <td>United Republic of Tanzania</td>\n",
       "      <td>2014</td>\n",
       "      <td>54.8</td>\n",
       "    </tr>\n",
       "    <tr>\n",
       "      <th>206</th>\n",
       "      <td>United Republic of Tanzania</td>\n",
       "      <td>2013</td>\n",
       "      <td>50.6</td>\n",
       "    </tr>\n",
       "    <tr>\n",
       "      <th>207</th>\n",
       "      <td>United Republic of Tanzania</td>\n",
       "      <td>2012</td>\n",
       "      <td>47.4</td>\n",
       "    </tr>\n",
       "    <tr>\n",
       "      <th>208</th>\n",
       "      <td>United Republic of Tanzania</td>\n",
       "      <td>2011</td>\n",
       "      <td>48.4</td>\n",
       "    </tr>\n",
       "    <tr>\n",
       "      <th>209</th>\n",
       "      <td>United Republic of Tanzania</td>\n",
       "      <td>2010</td>\n",
       "      <td>51.7</td>\n",
       "    </tr>\n",
       "  </tbody>\n",
       "</table>\n",
       "<p>210 rows × 3 columns</p>\n",
       "</div>"
      ],
      "text/plain": [
       "                         Country  Year Life expectancy\n",
       "0                     Azerbaijan  2015            71.5\n",
       "1                     Azerbaijan  2014            72.4\n",
       "2                     Azerbaijan  2013            71.8\n",
       "3                     Azerbaijan  2012            71.5\n",
       "4                     Azerbaijan  2011            71.4\n",
       "..                           ...   ...             ...\n",
       "205  United Republic of Tanzania  2014            54.8\n",
       "206  United Republic of Tanzania  2013            50.6\n",
       "207  United Republic of Tanzania  2012            47.4\n",
       "208  United Republic of Tanzania  2011            48.4\n",
       "209  United Republic of Tanzania  2010            51.7\n",
       "\n",
       "[210 rows x 3 columns]"
      ]
     },
     "metadata": {},
     "output_type": "display_data"
    }
   ],
   "source": [
    "predictions = min_value_all_info[4].predict(pd.DataFrame(scaler.fit_transform(eval), columns=eval.columns))\n",
    "res = pd.concat([pd.read_csv('evaluation.csv')[[\"Country\", \"Year\"]], pd.Series([\"{:.1f}\".format(pred) for pred in predictions], name=\"Life expectancy\")], axis = 1)\n",
    "display(res)\n",
    "res.to_csv('results.csv')"
   ]
  },
  {
   "cell_type": "code",
   "execution_count": null,
   "id": "537adecb-13ad-4a92-99b7-a3b1078a847f",
   "metadata": {},
   "outputs": [],
   "source": []
  },
  {
   "cell_type": "code",
   "execution_count": null,
   "id": "a77fbc40-07b4-4ede-beac-822d0a85233c",
   "metadata": {},
   "outputs": [],
   "source": []
  }
 ],
 "metadata": {
  "kernelspec": {
   "display_name": "Python 3 (ipykernel)",
   "language": "python",
   "name": "python3"
  },
  "language_info": {
   "codemirror_mode": {
    "name": "ipython",
    "version": 3
   },
   "file_extension": ".py",
   "mimetype": "text/x-python",
   "name": "python",
   "nbconvert_exporter": "python",
   "pygments_lexer": "ipython3",
   "version": "3.11.6"
  }
 },
 "nbformat": 4,
 "nbformat_minor": 5
}
